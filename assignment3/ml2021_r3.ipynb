{
  "nbformat": 4,
  "nbformat_minor": 0,
  "metadata": {
    "colab": {
      "name": "ml2021-r3.ipynb",
      "provenance": [],
      "collapsed_sections": []
    },
    "kernelspec": {
      "name": "python3",
      "display_name": "Python 3"
    },
    "language_info": {
      "name": "python"
    }
  },
  "cells": [
    {
      "cell_type": "markdown",
      "source": [
        "# 機械学習 課題3\n",
        "\n",
        "※ セルを増やしても構いませんが、すでに書かれているセルの内容を変更しないで下さい。\n",
        "\n",
        "**この課題におけるベクトルは縦ベクトルとします。**"
      ],
      "metadata": {
        "id": "RTLfkWkboOF3"
      }
    },
    {
      "cell_type": "markdown",
      "source": [
        "## 1. クラスタリング"
      ],
      "metadata": {
        "id": "KYIRxvPuoQx4"
      }
    },
    {
      "cell_type": "markdown",
      "source": [
        "$4$個の事例からなるデータ$\\mathcal{D} = \\{\\pmb{x}_i\\}_{i=1}^4$\n",
        "\n",
        "\\begin{align}\n",
        "\\pmb{x}_1 = \\begin{pmatrix}0 \\\\ 0\\end{pmatrix},\\;\n",
        "\\pmb{x}_2 = \\begin{pmatrix}1 \\\\ 1\\end{pmatrix},\\;\n",
        "\\pmb{x}_3 = \\begin{pmatrix}2 \\\\ 1\\end{pmatrix},\\;\n",
        "\\pmb{x}_4 = \\begin{pmatrix}0 \\\\ 2\\end{pmatrix}\n",
        "\\end{align}\n",
        "\n",
        "をクラスタリングしたい。以下の問に答えよ。なお、計算は手計算でもプログラムを用いてもよいが、最終的な答えに至る経過が分かるように記述せよ。数値は小数点以下第2位まで表示するか、平方根を使って表示せよ。また、クラスタを統合するときの距離が等しいなどの理由で、クラスタの作り方が2通り以上ある場合は、そのうちのいずれかを答えればよい。"
      ],
      "metadata": {
        "id": "sV67n0M1k9Ls"
      }
    },
    {
      "cell_type": "markdown",
      "source": [
        "**(1) 距離行列の計算（マンハッタン距離）**\n",
        "\n",
        "距離関数としてマンハッタン距離を用いて、データ$\\mathcal{D}$の距離行列を求めよ。<!-- 1(1) -->"
      ],
      "metadata": {
        "id": "Pfv4k947lRwn"
      }
    },
    {
      "cell_type": "code",
      "source": [
        ""
      ],
      "metadata": {
        "id": "OXx2rxJ_k9rO"
      },
      "execution_count": null,
      "outputs": []
    },
    {
      "cell_type": "markdown",
      "source": [
        "**(2) 距離行列の計算（ユークリッド距離）**\n",
        "\n",
        "距離関数としてユークリッド距離を用いて、データ$\\mathcal{D}$の距離行列を求めよ。<!-- 1(2) -->"
      ],
      "metadata": {
        "id": "hjZ_Wox7mZNX"
      }
    },
    {
      "cell_type": "code",
      "source": [
        ""
      ],
      "metadata": {
        "id": "F_ufNDi8mkbN"
      },
      "execution_count": null,
      "outputs": []
    },
    {
      "cell_type": "markdown",
      "source": [
        "**(3) ウォード法**\n",
        "\n",
        "データ$\\mathcal{D}$に対して、初期クラスタを$C_1 = \\{\\pmb{x}_1\\}, C_2 = \\{\\pmb{x}_2\\}, C_3 = \\{\\pmb{x}_3\\}, C_4 = \\{\\pmb{x}_4\\}$として、ウォード法（Ward's method）によるクラスタリングを行いたい。"
      ],
      "metadata": {
        "id": "2zKCrJCQJGzl"
      }
    },
    {
      "cell_type": "markdown",
      "source": [
        "**(a) 最初の統合**\n",
        "\n",
        "任意の2つの異なるクラスタ $A, B, \\in \\{C_1, C_2, C_3, C_4\\}$ $(A \\neq B)$ に対して、式11.17を計算し、ウォード法で最初に統合されるクラスタの組$A^*, B^*$と、その時の式11.17の値（$\\mathrm{dist}_{\\mathrm{ward}}(A^*, B^*)$）を答えよ。答え方の例を以下に示す。\n",
        "\n",
        "+ 統合されるクラスタ: $\\{\\pmb{x}_1\\}, \\{\\pmb{x}_2\\}$\n",
        "+ 式11.17の値: 1.44\n",
        "<!-- 1(3)(a) -->"
      ],
      "metadata": {
        "id": "xhsjI0pmlQFl"
      }
    },
    {
      "cell_type": "code",
      "source": [
        ""
      ],
      "metadata": {
        "id": "2qXlmICUlQaW"
      },
      "execution_count": null,
      "outputs": []
    },
    {
      "cell_type": "markdown",
      "source": [
        "**(b) 2回目の統合**\n",
        "\n",
        "(a)においてクラスタの統合が行われた結果、クラスタ数は3となる。これらのクラスタを改めて$C_1, C_2, C_3$と書き直す。任意の2つの異なるクラスタに対して、式11.17を計算し、ウォード法で次に統合されるクラスタの組$A^*, B^*$と、その時の式11.17の値（$\\mathrm{dist}_{\\mathrm{ward}}(A^*, B^*)$）を答えよ。答え方の例を以下に示す。\n",
        "\n",
        "+ 統合されるクラスタ: $\\{\\pmb{x}_1, \\pmb{x}_2\\}, \\{\\pmb{x}_3\\}$\n",
        "+ 式11.17の値: 1.67\n",
        "<!-- 1(3)(b) -->"
      ],
      "metadata": {
        "id": "Ebx6AHpSW6il"
      }
    },
    {
      "cell_type": "code",
      "source": [
        ""
      ],
      "metadata": {
        "id": "RUy0411HX7Nt"
      },
      "execution_count": null,
      "outputs": []
    },
    {
      "cell_type": "markdown",
      "source": [
        "## 2. 主成分分析\n",
        "\n",
        "適切な題材を選び、主成分分析（PCA）を行った結果をまとめよ。ただし、以下の観点で採点を行うので、これらを満たすように解答せよ。また、分析に用いたプログラムもJupyter Notebookにまとめよ。\n",
        "\n",
        "+ 選んだデータの説明\n",
        "+ 累積寄与率のグラフ\n",
        "+ 第一主成分と第二主成分のベクトル\n",
        "+ 主成分分析から分かったこと"
      ],
      "metadata": {
        "id": "UTuHY0stq5kR"
      }
    },
    {
      "cell_type": "markdown",
      "source": [
        "**(1) データの説明**\n",
        "\n",
        "選んだデータの概要（提供者、内容、データのサイズなど）を説明せよ。<!-- 2(1) -->"
      ],
      "metadata": {
        "id": "BPmHxo_-sEw3"
      }
    },
    {
      "cell_type": "code",
      "source": [
        ""
      ],
      "metadata": {
        "id": "6zuS1UkgsbC9"
      },
      "execution_count": null,
      "outputs": []
    },
    {
      "cell_type": "markdown",
      "source": [
        "**(2) 累積寄与率**\n",
        "\n",
        "累積寄与率のグラフを描け。<!-- 2(2) -->"
      ],
      "metadata": {
        "id": "0F8RyEZPshF1"
      }
    },
    {
      "cell_type": "code",
      "source": [
        ""
      ],
      "metadata": {
        "id": "c2-PlyRss3bV"
      },
      "execution_count": null,
      "outputs": []
    },
    {
      "cell_type": "markdown",
      "source": [
        "**(3)  第一主成分と第二主成分**\n",
        "\n",
        "データの事例を第一主成分と第二主成分の軸に射影し、データを２次元平面上にプロットせよ。<!-- 2(3) -->"
      ],
      "metadata": {
        "id": "mKb_nuV3rXLP"
      }
    },
    {
      "cell_type": "code",
      "source": [
        ""
      ],
      "metadata": {
        "id": "puDKlkYWrX2r"
      },
      "execution_count": null,
      "outputs": []
    },
    {
      "cell_type": "markdown",
      "source": [
        "**(4) 主成分分析から分かったこと**\n",
        "\n",
        "主成分分析からデータに関して得られた知見をまとめよ。<!-- 2(4) -->"
      ],
      "metadata": {
        "id": "xWBhzEEfrbnY"
      }
    },
    {
      "cell_type": "code",
      "source": [
        ""
      ],
      "metadata": {
        "id": "fWAiZPMprb-9"
      },
      "execution_count": null,
      "outputs": []
    }
  ]
}