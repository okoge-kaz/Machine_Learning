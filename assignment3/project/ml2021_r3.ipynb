{
  "cells": [
    {
      "cell_type": "markdown",
      "metadata": {
        "id": "RTLfkWkboOF3"
      },
      "source": [
        "# 機械学習 課題3\n",
        "\n",
        "※ セルを増やしても構いませんが、すでに書かれているセルの内容を変更しないで下さい。\n",
        "\n",
        "**この課題におけるベクトルは縦ベクトルとします。**"
      ]
    },
    {
      "cell_type": "markdown",
      "metadata": {
        "id": "KYIRxvPuoQx4"
      },
      "source": [
        "## 1. クラスタリング"
      ]
    },
    {
      "cell_type": "markdown",
      "metadata": {
        "id": "sV67n0M1k9Ls"
      },
      "source": [
        "$4$個の事例からなるデータ$\\mathcal{D} = \\{\\pmb{x}_i\\}_{i=1}^4$\n",
        "\n",
        "\\begin{align}\n",
        "\\pmb{x}_1 = \\begin{pmatrix}0 \\\\ 0\\end{pmatrix},\\;\n",
        "\\pmb{x}_2 = \\begin{pmatrix}1 \\\\ 1\\end{pmatrix},\\;\n",
        "\\pmb{x}_3 = \\begin{pmatrix}2 \\\\ 1\\end{pmatrix},\\;\n",
        "\\pmb{x}_4 = \\begin{pmatrix}0 \\\\ 2\\end{pmatrix}\n",
        "\\end{align}\n",
        "\n",
        "をクラスタリングしたい。以下の問に答えよ。なお、計算は手計算でもプログラムを用いてもよいが、最終的な答えに至る経過が分かるように記述せよ。数値は小数点以下第2位まで表示するか、平方根を使って表示せよ。また、クラスタを統合するときの距離が等しいなどの理由で、クラスタの作り方が2通り以上ある場合は、そのうちのいずれかを答えればよい。"
      ]
    },
    {
      "cell_type": "code",
      "execution_count": 1,
      "metadata": {},
      "outputs": [],
      "source": [
        "import numpy as np\n",
        "import scipy.cluster.hierarchy\n",
        "import scipy.spatial.distance\n",
        "from matplotlib import pyplot as plt"
      ]
    },
    {
      "cell_type": "markdown",
      "metadata": {
        "id": "Pfv4k947lRwn"
      },
      "source": [
        "**(1) 距離行列の計算（マンハッタン距離）**\n",
        "\n",
        "距離関数としてマンハッタン距離を用いて、データ$\\mathcal{D}$の距離行列を求めよ。<!-- 1(1) -->"
      ]
    },
    {
      "cell_type": "code",
      "execution_count": 2,
      "metadata": {
        "id": "OXx2rxJ_k9rO"
      },
      "outputs": [
        {
          "data": {
            "text/plain": [
              "array([[0., 2., 3., 2.],\n",
              "       [2., 0., 1., 2.],\n",
              "       [3., 1., 0., 3.],\n",
              "       [2., 2., 3., 0.]])"
            ]
          },
          "execution_count": 2,
          "metadata": {},
          "output_type": "execute_result"
        }
      ],
      "source": [
        "def Manhattan_distance(X: np.ndarray) -> np.ndarray:\n",
        "    \"\"\"\n",
        "    Compute the Manhattan distance matrix between each pair of points\n",
        "    :param X: A matrix of shape (n, 2) where each row is a point in 2D\n",
        "    :return: A matrix of shape (n, n) where the (i, j)th entry is the Manhattan distance between the i-th and j-th point\n",
        "    \"\"\"\n",
        "    n = X.shape[0]\n",
        "    dists = np.zeros((n, n))\n",
        "    for i in range(n):\n",
        "        for j in range(n):\n",
        "            dists[i, j] = np.sum(np.abs(X[i] - X[j]))\n",
        "    return dists\n",
        "\n",
        "X: np.ndarray = np.array([[0, 0], [1, 1], [2, 1], [0, 2]])\n",
        "\n",
        "Manhattan_distance(X)"
      ]
    },
    {
      "cell_type": "code",
      "execution_count": 3,
      "metadata": {},
      "outputs": [
        {
          "data": {
            "text/plain": [
              "array([[0., 2., 3., 2.],\n",
              "       [2., 0., 1., 2.],\n",
              "       [3., 1., 0., 3.],\n",
              "       [2., 2., 3., 0.]])"
            ]
          },
          "execution_count": 3,
          "metadata": {},
          "output_type": "execute_result"
        }
      ],
      "source": [
        "D = scipy.spatial.distance.pdist(X, metric=\"cityblock\")\n",
        "scipy.spatial.distance.squareform(D)"
      ]
    },
    {
      "cell_type": "markdown",
      "metadata": {
        "id": "hjZ_Wox7mZNX"
      },
      "source": [
        "**(2) 距離行列の計算（ユークリッド距離）**\n",
        "\n",
        "距離関数としてユークリッド距離を用いて、データ$\\mathcal{D}$の距離行列を求めよ。<!-- 1(2) -->"
      ]
    },
    {
      "cell_type": "code",
      "execution_count": 4,
      "metadata": {
        "id": "F_ufNDi8mkbN"
      },
      "outputs": [
        {
          "data": {
            "text/plain": [
              "array([[0.        , 1.41421356, 2.23606798, 2.        ],\n",
              "       [1.41421356, 0.        , 1.        , 1.41421356],\n",
              "       [2.23606798, 1.        , 0.        , 2.23606798],\n",
              "       [2.        , 1.41421356, 2.23606798, 0.        ]])"
            ]
          },
          "execution_count": 4,
          "metadata": {},
          "output_type": "execute_result"
        }
      ],
      "source": [
        "def distace_matrix(X: np.ndarray) -> np.ndarray:\n",
        "    \"\"\"\n",
        "    Compute the Euclidean distance matrix between each pair of points\n",
        "    :param X: A matrix of shape (n, 2) where each row is a point in 2D\n",
        "    :return: A matrix of shape (n, n) where the (i, j)th entry is the distance between the i-th and j-th point\n",
        "    \"\"\"\n",
        "    n = X.shape[0]\n",
        "    dists = np.zeros((n, n))\n",
        "    for i in range(n):\n",
        "        for j in range(n):\n",
        "            dists[i, j] = np.linalg.norm(X[i] - X[j])\n",
        "    return dists\n",
        "\n",
        "distace_matrix(X)"
      ]
    },
    {
      "cell_type": "code",
      "execution_count": 5,
      "metadata": {},
      "outputs": [
        {
          "data": {
            "text/plain": [
              "array([[0.        , 1.41421356, 2.23606798, 2.        ],\n",
              "       [1.41421356, 0.        , 1.        , 1.41421356],\n",
              "       [2.23606798, 1.        , 0.        , 2.23606798],\n",
              "       [2.        , 1.41421356, 2.23606798, 0.        ]])"
            ]
          },
          "execution_count": 5,
          "metadata": {},
          "output_type": "execute_result"
        }
      ],
      "source": [
        "D = scipy.spatial.distance.pdist(X, metric=\"euclidean\")\n",
        "scipy.spatial.distance.squareform(D)"
      ]
    },
    {
      "cell_type": "markdown",
      "metadata": {
        "id": "2zKCrJCQJGzl"
      },
      "source": [
        "**(3) ウォード法**\n",
        "\n",
        "データ$\\mathcal{D}$に対して、初期クラスタを$C_1 = \\{\\pmb{x}_1\\}, C_2 = \\{\\pmb{x}_2\\}, C_3 = \\{\\pmb{x}_3\\}, C_4 = \\{\\pmb{x}_4\\}$として、ウォード法（Ward's method）によるクラスタリングを行いたい。"
      ]
    },
    {
      "cell_type": "markdown",
      "metadata": {
        "id": "xhsjI0pmlQFl"
      },
      "source": [
        "**(a) 最初の統合**\n",
        "\n",
        "任意の2つの異なるクラスタ $A, B, \\in \\{C_1, C_2, C_3, C_4\\}$ $(A \\neq B)$ に対して、式11.17を計算し、ウォード法で最初に統合されるクラスタの組$A^*, B^*$と、その時の式11.17の値（$\\mathrm{dist}_{\\mathrm{ward}}(A^*, B^*)$）を答えよ。答え方の例を以下に示す。\n",
        "\n",
        "+ 統合されるクラスタ: $\\{\\pmb{x}_1\\}, \\{\\pmb{x}_2\\}$\n",
        "+ 式11.17の値: 1.44\n",
        "<!-- 1(3)(a) -->"
      ]
    },
    {
      "cell_type": "code",
      "execution_count": 6,
      "metadata": {
        "id": "2qXlmICUlQaW"
      },
      "outputs": [
        {
          "data": {
            "image/png": "[encoded data removed]",
            "text/plain": [
              "<Figure size 600x400 with 1 Axes>"
            ]
          },
          "metadata": {
            "needs_background": "light"
          },
          "output_type": "display_data"
        }
      ],
      "source": [
        "x1: np.ndarray = np.array([0, 0])\n",
        "x2: np.ndarray = np.array([1, 1])\n",
        "x3: np.ndarray = np.array([2, 1])\n",
        "x4: np.ndarray = np.array([0, 2])\n",
        "\n",
        "X = np.array([x1, x2, x3, x4])\n",
        "\n",
        "Z = scipy.cluster.hierarchy.linkage(scipy.spatial.distance.pdist(X, metric=\"euclidean\"), method=\"ward\")\n",
        "\n",
        "fig, ax = plt.subplots(dpi=100)\n",
        "dn = scipy.cluster.hierarchy.dendrogram(Z, labels=[\"x1\", \"x2\", \"x3\", \"x4\"], ax=ax)\n",
        "ax.set_ylabel(\"Euclidean distance\")\n",
        "plt.show()"
      ]
    },
    {
      "cell_type": "markdown",
      "metadata": {},
      "source": [
        "- 結合されるクラスタ: {C2}, {C3}\n",
        "- 式11.17の値: 1.00  \n",
        "\n",
        "![](../public/ward.png)"
      ]
    },
    {
      "cell_type": "markdown",
      "metadata": {
        "id": "Ebx6AHpSW6il"
      },
      "source": [
        "**(b) 2回目の統合**\n",
        "\n",
        "(a)においてクラスタの統合が行われた結果、クラスタ数は3となる。これらのクラスタを改めて$C_1, C_2, C_3$と書き直す。任意の2つの異なるクラスタに対して、式11.17を計算し、ウォード法で次に統合されるクラスタの組$A^*, B^*$と、その時の式11.17の値（$\\mathrm{dist}_{\\mathrm{ward}}(A^*, B^*)$）を答えよ。答え方の例を以下に示す。\n",
        "\n",
        "+ 統合されるクラスタ: $\\{\\pmb{x}_1, \\pmb{x}_2\\}, \\{\\pmb{x}_3\\}$\n",
        "+ 式11.17の値: 1.67\n",
        "<!-- 1(3)(b) -->"
      ]
    },
    {
      "cell_type": "markdown",
      "metadata": {},
      "source": [
        "- 結合されるクラスタ: {C1}, {C3}\n",
        "- 式11.17の値: 2.00  "
      ]
    },
    {
      "cell_type": "markdown",
      "metadata": {
        "id": "UTuHY0stq5kR"
      },
      "source": [
        "## 2. 主成分分析\n",
        "\n",
        "適切な題材を選び、主成分分析（PCA）を行った結果をまとめよ。ただし、以下の観点で採点を行うので、これらを満たすように解答せよ。また、分析に用いたプログラムもJupyter Notebookにまとめよ。\n",
        "\n",
        "+ 選んだデータの説明\n",
        "+ 累積寄与率のグラフ\n",
        "+ 第一主成分と第二主成分のベクトル\n",
        "+ 主成分分析から分かったこと"
      ]
    },
    {
      "cell_type": "markdown",
      "metadata": {
        "id": "BPmHxo_-sEw3"
      },
      "source": [
        "**(1) データの説明**\n",
        "\n",
        "選んだデータの概要（提供者、内容、データのサイズなど）を説明せよ。<!-- 2(1) -->"
      ]
    },
    {
      "cell_type": "markdown",
      "metadata": {},
      "source": [
        "機械学習帳 13 主成分分析(2) で紹介されている [教育用標準データセット](https://www.nstac.go.jp/SSDSE/)を用いる。\n",
        "特に、「B: 都道府県別、時系列、多分野データ」を用いる。"
      ]
    },
    {
      "cell_type": "markdown",
      "metadata": {},
      "source": [
        "そのうち、人口関連のデータと、それらと関係が想像できる'結婚件数', '出生数','死亡数' を抜き出す。"
      ]
    },
    {
      "cell_type": "code",
      "execution_count": 7,
      "metadata": {},
      "outputs": [],
      "source": [
        "import numpy as np\n",
        "import pandas as pd\n",
        "import matplotlib.pyplot as plt"
      ]
    },
    {
      "cell_type": "code",
      "execution_count": 8,
      "metadata": {},
      "outputs": [
        {
          "data": {
            "text/html": [
              "<div>\n",
              "<style scoped>\n",
              "    .dataframe tbody tr th:only-of-type {\n",
              "        vertical-align: middle;\n",
              "    }\n",
              "\n",
              "    .dataframe tbody tr th {\n",
              "        vertical-align: top;\n",
              "    }\n",
              "\n",
              "    .dataframe thead th {\n",
              "        text-align: right;\n",
              "    }\n",
              "</style>\n",
              "<table border=\"1\" class=\"dataframe\">\n",
              "  <thead>\n",
              "    <tr style=\"text-align: right;\">\n",
              "      <th></th>\n",
              "      <th>年度</th>\n",
              "      <th>都道府県</th>\n",
              "      <th>15歳未満人口</th>\n",
              "      <th>15〜64歳人口</th>\n",
              "      <th>婚姻件数</th>\n",
              "      <th>出生数</th>\n",
              "      <th>65歳以上人口</th>\n",
              "      <th>死亡数</th>\n",
              "    </tr>\n",
              "  </thead>\n",
              "  <tbody>\n",
              "    <tr>\n",
              "      <th>0</th>\n",
              "      <td>2018</td>\n",
              "      <td>北海道</td>\n",
              "      <td>577000</td>\n",
              "      <td>3052000</td>\n",
              "      <td>22916</td>\n",
              "      <td>32642</td>\n",
              "      <td>1656000</td>\n",
              "      <td>64187</td>\n",
              "    </tr>\n",
              "    <tr>\n",
              "      <th>12</th>\n",
              "      <td>2018</td>\n",
              "      <td>青森県</td>\n",
              "      <td>137000</td>\n",
              "      <td>714000</td>\n",
              "      <td>4737</td>\n",
              "      <td>7803</td>\n",
              "      <td>412000</td>\n",
              "      <td>17936</td>\n",
              "    </tr>\n",
              "    <tr>\n",
              "      <th>24</th>\n",
              "      <td>2018</td>\n",
              "      <td>岩手県</td>\n",
              "      <td>140000</td>\n",
              "      <td>697000</td>\n",
              "      <td>4439</td>\n",
              "      <td>7615</td>\n",
              "      <td>403000</td>\n",
              "      <td>17390</td>\n",
              "    </tr>\n",
              "    <tr>\n",
              "      <th>36</th>\n",
              "      <td>2018</td>\n",
              "      <td>宮城県</td>\n",
              "      <td>276000</td>\n",
              "      <td>1396000</td>\n",
              "      <td>10328</td>\n",
              "      <td>16211</td>\n",
              "      <td>643000</td>\n",
              "      <td>24520</td>\n",
              "    </tr>\n",
              "    <tr>\n",
              "      <th>48</th>\n",
              "      <td>2018</td>\n",
              "      <td>秋田県</td>\n",
              "      <td>98000</td>\n",
              "      <td>526000</td>\n",
              "      <td>3052</td>\n",
              "      <td>5040</td>\n",
              "      <td>357000</td>\n",
              "      <td>15434</td>\n",
              "    </tr>\n",
              "    <tr>\n",
              "      <th>60</th>\n",
              "      <td>2018</td>\n",
              "      <td>山形県</td>\n",
              "      <td>127000</td>\n",
              "      <td>605000</td>\n",
              "      <td>4039</td>\n",
              "      <td>6973</td>\n",
              "      <td>358000</td>\n",
              "      <td>15320</td>\n",
              "    </tr>\n",
              "    <tr>\n",
              "      <th>72</th>\n",
              "      <td>2018</td>\n",
              "      <td>福島県</td>\n",
              "      <td>216000</td>\n",
              "      <td>1072000</td>\n",
              "      <td>7685</td>\n",
              "      <td>12495</td>\n",
              "      <td>576000</td>\n",
              "      <td>24747</td>\n",
              "    </tr>\n",
              "    <tr>\n",
              "      <th>84</th>\n",
              "      <td>2018</td>\n",
              "      <td>茨城県</td>\n",
              "      <td>349000</td>\n",
              "      <td>1696000</td>\n",
              "      <td>12332</td>\n",
              "      <td>19368</td>\n",
              "      <td>833000</td>\n",
              "      <td>32927</td>\n",
              "    </tr>\n",
              "    <tr>\n",
              "      <th>96</th>\n",
              "      <td>2018</td>\n",
              "      <td>栃木県</td>\n",
              "      <td>240000</td>\n",
              "      <td>1160000</td>\n",
              "      <td>8182</td>\n",
              "      <td>13495</td>\n",
              "      <td>546000</td>\n",
              "      <td>21885</td>\n",
              "    </tr>\n",
              "    <tr>\n",
              "      <th>108</th>\n",
              "      <td>2018</td>\n",
              "      <td>群馬県</td>\n",
              "      <td>237000</td>\n",
              "      <td>1141000</td>\n",
              "      <td>8088</td>\n",
              "      <td>12922</td>\n",
              "      <td>574000</td>\n",
              "      <td>22937</td>\n",
              "    </tr>\n",
              "    <tr>\n",
              "      <th>120</th>\n",
              "      <td>2018</td>\n",
              "      <td>埼玉県</td>\n",
              "      <td>891000</td>\n",
              "      <td>4505000</td>\n",
              "      <td>32745</td>\n",
              "      <td>51241</td>\n",
              "      <td>1934000</td>\n",
              "      <td>67726</td>\n",
              "    </tr>\n",
              "    <tr>\n",
              "      <th>132</th>\n",
              "      <td>2018</td>\n",
              "      <td>千葉県</td>\n",
              "      <td>748000</td>\n",
              "      <td>3785000</td>\n",
              "      <td>28202</td>\n",
              "      <td>43404</td>\n",
              "      <td>1721000</td>\n",
              "      <td>59561</td>\n",
              "    </tr>\n",
              "    <tr>\n",
              "      <th>144</th>\n",
              "      <td>2018</td>\n",
              "      <td>東京都</td>\n",
              "      <td>1550000</td>\n",
              "      <td>9084000</td>\n",
              "      <td>82716</td>\n",
              "      <td>107150</td>\n",
              "      <td>3189000</td>\n",
              "      <td>119253</td>\n",
              "    </tr>\n",
              "    <tr>\n",
              "      <th>156</th>\n",
              "      <td>2018</td>\n",
              "      <td>神奈川県</td>\n",
              "      <td>1111000</td>\n",
              "      <td>5761000</td>\n",
              "      <td>45079</td>\n",
              "      <td>66564</td>\n",
              "      <td>2305000</td>\n",
              "      <td>82336</td>\n",
              "    </tr>\n",
              "    <tr>\n",
              "      <th>168</th>\n",
              "      <td>2018</td>\n",
              "      <td>新潟県</td>\n",
              "      <td>260000</td>\n",
              "      <td>1270000</td>\n",
              "      <td>8612</td>\n",
              "      <td>14509</td>\n",
              "      <td>716000</td>\n",
              "      <td>30068</td>\n",
              "    </tr>\n",
              "    <tr>\n",
              "      <th>180</th>\n",
              "      <td>2018</td>\n",
              "      <td>富山県</td>\n",
              "      <td>122000</td>\n",
              "      <td>593000</td>\n",
              "      <td>4234</td>\n",
              "      <td>6846</td>\n",
              "      <td>336000</td>\n",
              "      <td>13066</td>\n",
              "    </tr>\n",
              "    <tr>\n",
              "      <th>192</th>\n",
              "      <td>2018</td>\n",
              "      <td>石川県</td>\n",
              "      <td>143000</td>\n",
              "      <td>667000</td>\n",
              "      <td>4965</td>\n",
              "      <td>8359</td>\n",
              "      <td>334000</td>\n",
              "      <td>12723</td>\n",
              "    </tr>\n",
              "    <tr>\n",
              "      <th>204</th>\n",
              "      <td>2018</td>\n",
              "      <td>福井県</td>\n",
              "      <td>99000</td>\n",
              "      <td>441000</td>\n",
              "      <td>3274</td>\n",
              "      <td>5826</td>\n",
              "      <td>234000</td>\n",
              "      <td>9221</td>\n",
              "    </tr>\n",
              "    <tr>\n",
              "      <th>216</th>\n",
              "      <td>2018</td>\n",
              "      <td>山梨県</td>\n",
              "      <td>97000</td>\n",
              "      <td>473000</td>\n",
              "      <td>3473</td>\n",
              "      <td>5556</td>\n",
              "      <td>248000</td>\n",
              "      <td>9916</td>\n",
              "    </tr>\n",
              "    <tr>\n",
              "      <th>228</th>\n",
              "      <td>2018</td>\n",
              "      <td>長野県</td>\n",
              "      <td>255000</td>\n",
              "      <td>1158000</td>\n",
              "      <td>8737</td>\n",
              "      <td>14184</td>\n",
              "      <td>651000</td>\n",
              "      <td>25422</td>\n",
              "    </tr>\n",
              "    <tr>\n",
              "      <th>240</th>\n",
              "      <td>2018</td>\n",
              "      <td>岐阜県</td>\n",
              "      <td>253000</td>\n",
              "      <td>1148000</td>\n",
              "      <td>7912</td>\n",
              "      <td>13720</td>\n",
              "      <td>595000</td>\n",
              "      <td>23062</td>\n",
              "    </tr>\n",
              "    <tr>\n",
              "      <th>252</th>\n",
              "      <td>2018</td>\n",
              "      <td>静岡県</td>\n",
              "      <td>456000</td>\n",
              "      <td>2122000</td>\n",
              "      <td>15768</td>\n",
              "      <td>25192</td>\n",
              "      <td>1081000</td>\n",
              "      <td>41972</td>\n",
              "    </tr>\n",
              "    <tr>\n",
              "      <th>264</th>\n",
              "      <td>2018</td>\n",
              "      <td>愛知県</td>\n",
              "      <td>1002000</td>\n",
              "      <td>4659000</td>\n",
              "      <td>39117</td>\n",
              "      <td>61230</td>\n",
              "      <td>1875000</td>\n",
              "      <td>68833</td>\n",
              "    </tr>\n",
              "    <tr>\n",
              "      <th>276</th>\n",
              "      <td>2018</td>\n",
              "      <td>三重県</td>\n",
              "      <td>222000</td>\n",
              "      <td>1042000</td>\n",
              "      <td>7446</td>\n",
              "      <td>12582</td>\n",
              "      <td>527000</td>\n",
              "      <td>20900</td>\n",
              "    </tr>\n",
              "    <tr>\n",
              "      <th>288</th>\n",
              "      <td>2018</td>\n",
              "      <td>滋賀県</td>\n",
              "      <td>197000</td>\n",
              "      <td>852000</td>\n",
              "      <td>6455</td>\n",
              "      <td>11350</td>\n",
              "      <td>363000</td>\n",
              "      <td>13246</td>\n",
              "    </tr>\n",
              "    <tr>\n",
              "      <th>300</th>\n",
              "      <td>2018</td>\n",
              "      <td>京都府</td>\n",
              "      <td>304000</td>\n",
              "      <td>1539000</td>\n",
              "      <td>11491</td>\n",
              "      <td>17909</td>\n",
              "      <td>749000</td>\n",
              "      <td>26654</td>\n",
              "    </tr>\n",
              "    <tr>\n",
              "      <th>312</th>\n",
              "      <td>2018</td>\n",
              "      <td>大阪府</td>\n",
              "      <td>1056000</td>\n",
              "      <td>5336000</td>\n",
              "      <td>44365</td>\n",
              "      <td>65446</td>\n",
              "      <td>2420000</td>\n",
              "      <td>89494</td>\n",
              "    </tr>\n",
              "    <tr>\n",
              "      <th>324</th>\n",
              "      <td>2018</td>\n",
              "      <td>兵庫県</td>\n",
              "      <td>683000</td>\n",
              "      <td>3224000</td>\n",
              "      <td>24532</td>\n",
              "      <td>39713</td>\n",
              "      <td>1577000</td>\n",
              "      <td>57452</td>\n",
              "    </tr>\n",
              "    <tr>\n",
              "      <th>336</th>\n",
              "      <td>2018</td>\n",
              "      <td>奈良県</td>\n",
              "      <td>160000</td>\n",
              "      <td>765000</td>\n",
              "      <td>5234</td>\n",
              "      <td>8947</td>\n",
              "      <td>413000</td>\n",
              "      <td>14674</td>\n",
              "    </tr>\n",
              "    <tr>\n",
              "      <th>348</th>\n",
              "      <td>2018</td>\n",
              "      <td>和歌山県</td>\n",
              "      <td>109000</td>\n",
              "      <td>520000</td>\n",
              "      <td>3785</td>\n",
              "      <td>6070</td>\n",
              "      <td>306000</td>\n",
              "      <td>13062</td>\n",
              "    </tr>\n",
              "    <tr>\n",
              "      <th>360</th>\n",
              "      <td>2018</td>\n",
              "      <td>鳥取県</td>\n",
              "      <td>71000</td>\n",
              "      <td>313000</td>\n",
              "      <td>2329</td>\n",
              "      <td>4190</td>\n",
              "      <td>177000</td>\n",
              "      <td>7309</td>\n",
              "    </tr>\n",
              "    <tr>\n",
              "      <th>372</th>\n",
              "      <td>2018</td>\n",
              "      <td>島根県</td>\n",
              "      <td>84000</td>\n",
              "      <td>366000</td>\n",
              "      <td>2672</td>\n",
              "      <td>4887</td>\n",
              "      <td>231000</td>\n",
              "      <td>9724</td>\n",
              "    </tr>\n",
              "    <tr>\n",
              "      <th>384</th>\n",
              "      <td>2018</td>\n",
              "      <td>岡山県</td>\n",
              "      <td>240000</td>\n",
              "      <td>1087000</td>\n",
              "      <td>8436</td>\n",
              "      <td>14485</td>\n",
              "      <td>571000</td>\n",
              "      <td>22429</td>\n",
              "    </tr>\n",
              "    <tr>\n",
              "      <th>396</th>\n",
              "      <td>2018</td>\n",
              "      <td>広島県</td>\n",
              "      <td>364000</td>\n",
              "      <td>1636000</td>\n",
              "      <td>12613</td>\n",
              "      <td>21363</td>\n",
              "      <td>817000</td>\n",
              "      <td>31346</td>\n",
              "    </tr>\n",
              "    <tr>\n",
              "      <th>408</th>\n",
              "      <td>2018</td>\n",
              "      <td>山口県</td>\n",
              "      <td>161000</td>\n",
              "      <td>745000</td>\n",
              "      <td>5347</td>\n",
              "      <td>8987</td>\n",
              "      <td>465000</td>\n",
              "      <td>18836</td>\n",
              "    </tr>\n",
              "    <tr>\n",
              "      <th>420</th>\n",
              "      <td>2018</td>\n",
              "      <td>徳島県</td>\n",
              "      <td>83000</td>\n",
              "      <td>410000</td>\n",
              "      <td>2910</td>\n",
              "      <td>4998</td>\n",
              "      <td>243000</td>\n",
              "      <td>10011</td>\n",
              "    </tr>\n",
              "    <tr>\n",
              "      <th>432</th>\n",
              "      <td>2018</td>\n",
              "      <td>香川県</td>\n",
              "      <td>119000</td>\n",
              "      <td>540000</td>\n",
              "      <td>4236</td>\n",
              "      <td>6899</td>\n",
              "      <td>303000</td>\n",
              "      <td>12169</td>\n",
              "    </tr>\n",
              "    <tr>\n",
              "      <th>444</th>\n",
              "      <td>2018</td>\n",
              "      <td>愛媛県</td>\n",
              "      <td>162000</td>\n",
              "      <td>749000</td>\n",
              "      <td>5421</td>\n",
              "      <td>9330</td>\n",
              "      <td>441000</td>\n",
              "      <td>18207</td>\n",
              "    </tr>\n",
              "    <tr>\n",
              "      <th>456</th>\n",
              "      <td>2018</td>\n",
              "      <td>高知県</td>\n",
              "      <td>79000</td>\n",
              "      <td>382000</td>\n",
              "      <td>2659</td>\n",
              "      <td>4559</td>\n",
              "      <td>245000</td>\n",
              "      <td>10251</td>\n",
              "    </tr>\n",
              "    <tr>\n",
              "      <th>468</th>\n",
              "      <td>2018</td>\n",
              "      <td>福岡県</td>\n",
              "      <td>674000</td>\n",
              "      <td>3026000</td>\n",
              "      <td>25265</td>\n",
              "      <td>42008</td>\n",
              "      <td>1408000</td>\n",
              "      <td>53309</td>\n",
              "    </tr>\n",
              "    <tr>\n",
              "      <th>480</th>\n",
              "      <td>2018</td>\n",
              "      <td>佐賀県</td>\n",
              "      <td>112000</td>\n",
              "      <td>464000</td>\n",
              "      <td>3449</td>\n",
              "      <td>6535</td>\n",
              "      <td>244000</td>\n",
              "      <td>10112</td>\n",
              "    </tr>\n",
              "    <tr>\n",
              "      <th>492</th>\n",
              "      <td>2018</td>\n",
              "      <td>長崎県</td>\n",
              "      <td>171000</td>\n",
              "      <td>741000</td>\n",
              "      <td>5394</td>\n",
              "      <td>10135</td>\n",
              "      <td>429000</td>\n",
              "      <td>17714</td>\n",
              "    </tr>\n",
              "    <tr>\n",
              "      <th>504</th>\n",
              "      <td>2018</td>\n",
              "      <td>熊本県</td>\n",
              "      <td>235000</td>\n",
              "      <td>985000</td>\n",
              "      <td>7643</td>\n",
              "      <td>14301</td>\n",
              "      <td>537000</td>\n",
              "      <td>21380</td>\n",
              "    </tr>\n",
              "    <tr>\n",
              "      <th>516</th>\n",
              "      <td>2018</td>\n",
              "      <td>大分県</td>\n",
              "      <td>141000</td>\n",
              "      <td>632000</td>\n",
              "      <td>4804</td>\n",
              "      <td>8200</td>\n",
              "      <td>371000</td>\n",
              "      <td>14492</td>\n",
              "    </tr>\n",
              "    <tr>\n",
              "      <th>528</th>\n",
              "      <td>2018</td>\n",
              "      <td>宮崎県</td>\n",
              "      <td>145000</td>\n",
              "      <td>594000</td>\n",
              "      <td>4637</td>\n",
              "      <td>8434</td>\n",
              "      <td>342000</td>\n",
              "      <td>13981</td>\n",
              "    </tr>\n",
              "    <tr>\n",
              "      <th>540</th>\n",
              "      <td>2018</td>\n",
              "      <td>鹿児島県</td>\n",
              "      <td>215000</td>\n",
              "      <td>893000</td>\n",
              "      <td>6839</td>\n",
              "      <td>12956</td>\n",
              "      <td>506000</td>\n",
              "      <td>22106</td>\n",
              "    </tr>\n",
              "    <tr>\n",
              "      <th>552</th>\n",
              "      <td>2018</td>\n",
              "      <td>沖縄県</td>\n",
              "      <td>247000</td>\n",
              "      <td>888000</td>\n",
              "      <td>7887</td>\n",
              "      <td>15732</td>\n",
              "      <td>313000</td>\n",
              "      <td>12157</td>\n",
              "    </tr>\n",
              "  </tbody>\n",
              "</table>\n",
              "</div>"
            ],
            "text/plain": [
              "       年度  都道府県  15歳未満人口  15〜64歳人口   婚姻件数     出生数  65歳以上人口     死亡数\n",
              "0    2018   北海道   577000   3052000  22916   32642  1656000   64187\n",
              "12   2018   青森県   137000    714000   4737    7803   412000   17936\n",
              "24   2018   岩手県   140000    697000   4439    7615   403000   17390\n",
              "36   2018   宮城県   276000   1396000  10328   16211   643000   24520\n",
              "48   2018   秋田県    98000    526000   3052    5040   357000   15434\n",
              "60   2018   山形県   127000    605000   4039    6973   358000   15320\n",
              "72   2018   福島県   216000   1072000   7685   12495   576000   24747\n",
              "84   2018   茨城県   349000   1696000  12332   19368   833000   32927\n",
              "96   2018   栃木県   240000   1160000   8182   13495   546000   21885\n",
              "108  2018   群馬県   237000   1141000   8088   12922   574000   22937\n",
              "120  2018   埼玉県   891000   4505000  32745   51241  1934000   67726\n",
              "132  2018   千葉県   748000   3785000  28202   43404  1721000   59561\n",
              "144  2018   東京都  1550000   9084000  82716  107150  3189000  119253\n",
              "156  2018  神奈川県  1111000   5761000  45079   66564  2305000   82336\n",
              "168  2018   新潟県   260000   1270000   8612   14509   716000   30068\n",
              "180  2018   富山県   122000    593000   4234    6846   336000   13066\n",
              "192  2018   石川県   143000    667000   4965    8359   334000   12723\n",
              "204  2018   福井県    99000    441000   3274    5826   234000    9221\n",
              "216  2018   山梨県    97000    473000   3473    5556   248000    9916\n",
              "228  2018   長野県   255000   1158000   8737   14184   651000   25422\n",
              "240  2018   岐阜県   253000   1148000   7912   13720   595000   23062\n",
              "252  2018   静岡県   456000   2122000  15768   25192  1081000   41972\n",
              "264  2018   愛知県  1002000   4659000  39117   61230  1875000   68833\n",
              "276  2018   三重県   222000   1042000   7446   12582   527000   20900\n",
              "288  2018   滋賀県   197000    852000   6455   11350   363000   13246\n",
              "300  2018   京都府   304000   1539000  11491   17909   749000   26654\n",
              "312  2018   大阪府  1056000   5336000  44365   65446  2420000   89494\n",
              "324  2018   兵庫県   683000   3224000  24532   39713  1577000   57452\n",
              "336  2018   奈良県   160000    765000   5234    8947   413000   14674\n",
              "348  2018  和歌山県   109000    520000   3785    6070   306000   13062\n",
              "360  2018   鳥取県    71000    313000   2329    4190   177000    7309\n",
              "372  2018   島根県    84000    366000   2672    4887   231000    9724\n",
              "384  2018   岡山県   240000   1087000   8436   14485   571000   22429\n",
              "396  2018   広島県   364000   1636000  12613   21363   817000   31346\n",
              "408  2018   山口県   161000    745000   5347    8987   465000   18836\n",
              "420  2018   徳島県    83000    410000   2910    4998   243000   10011\n",
              "432  2018   香川県   119000    540000   4236    6899   303000   12169\n",
              "444  2018   愛媛県   162000    749000   5421    9330   441000   18207\n",
              "456  2018   高知県    79000    382000   2659    4559   245000   10251\n",
              "468  2018   福岡県   674000   3026000  25265   42008  1408000   53309\n",
              "480  2018   佐賀県   112000    464000   3449    6535   244000   10112\n",
              "492  2018   長崎県   171000    741000   5394   10135   429000   17714\n",
              "504  2018   熊本県   235000    985000   7643   14301   537000   21380\n",
              "516  2018   大分県   141000    632000   4804    8200   371000   14492\n",
              "528  2018   宮崎県   145000    594000   4637    8434   342000   13981\n",
              "540  2018  鹿児島県   215000    893000   6839   12956   506000   22106\n",
              "552  2018   沖縄県   247000    888000   7887   15732   313000   12157"
            ]
          },
          "execution_count": 8,
          "metadata": {},
          "output_type": "execute_result"
        }
      ],
      "source": [
        "SSDSE_df = pd.read_csv('https://www.nstac.go.jp/SSDSE/data/2021/SSDSE-B-2021.csv', encoding='shift-jis', skiprows=1)\n",
        "\n",
        "SSDSE_df = SSDSE_df[['年度','都道府県', '15歳未満人口','15〜64歳人口', '婚姻件数', '出生数', '65歳以上人口','死亡数']]\n",
        "SSDSE_df = SSDSE_df.iloc[0:]\n",
        "SSDSE_df = SSDSE_df[SSDSE_df['年度'] == 2018]\n",
        "SSDSE_df"
      ]
    },
    {
      "cell_type": "code",
      "execution_count": 9,
      "metadata": {},
      "outputs": [
        {
          "name": "stdout",
          "output_type": "stream",
          "text": [
            "<class 'pandas.core.frame.DataFrame'>\n",
            "Int64Index: 47 entries, 0 to 552\n",
            "Data columns (total 8 columns):\n",
            " #   Column    Non-Null Count  Dtype \n",
            "---  ------    --------------  ----- \n",
            " 0   年度        47 non-null     int64 \n",
            " 1   都道府県      47 non-null     object\n",
            " 2   15歳未満人口   47 non-null     int64 \n",
            " 3   15〜64歳人口  47 non-null     int64 \n",
            " 4   婚姻件数      47 non-null     int64 \n",
            " 5   出生数       47 non-null     int64 \n",
            " 6   65歳以上人口   47 non-null     int64 \n",
            " 7   死亡数       47 non-null     int64 \n",
            "dtypes: int64(7), object(1)\n",
            "memory usage: 3.3+ KB\n"
          ]
        }
      ],
      "source": [
        "SSDSE_df.info()"
      ]
    },
    {
      "cell_type": "markdown",
      "metadata": {
        "id": "0F8RyEZPshF1"
      },
      "source": [
        "**(2) 累積寄与率**\n",
        "\n",
        "累積寄与率のグラフを描け。<!-- 2(2) -->"
      ]
    },
    {
      "cell_type": "markdown",
      "metadata": {},
      "source": [
        "SSDSE_dfから、年度の情報を切り落とす。\n",
        "そして、さらにデータを$47\\times6$の行列に変換する。\n",
        "都道府県名は変数 prefectures に保存しておく、また対象とした列名も targetColumns に保存しておく"
      ]
    },
    {
      "cell_type": "code",
      "execution_count": 10,
      "metadata": {
        "id": "c2-PlyRss3bV"
      },
      "outputs": [
        {
          "data": {
            "text/plain": [
              "array([[ 577000, 3052000,   22916,   32642, 1656000,   64187],\n",
              "       [ 137000,  714000,    4737,    7803,  412000,   17936],\n",
              "       [ 140000,  697000,    4439,    7615,  403000,   17390],\n",
              "       [ 276000, 1396000,   10328,   16211,  643000,   24520],\n",
              "       [  98000,  526000,    3052,    5040,  357000,   15434],\n",
              "       [ 127000,  605000,    4039,    6973,  358000,   15320],\n",
              "       [ 216000, 1072000,    7685,   12495,  576000,   24747],\n",
              "       [ 349000, 1696000,   12332,   19368,  833000,   32927],\n",
              "       [ 240000, 1160000,    8182,   13495,  546000,   21885],\n",
              "       [ 237000, 1141000,    8088,   12922,  574000,   22937],\n",
              "       [ 891000, 4505000,   32745,   51241, 1934000,   67726],\n",
              "       [ 748000, 3785000,   28202,   43404, 1721000,   59561],\n",
              "       [1550000, 9084000,   82716,  107150, 3189000,  119253],\n",
              "       [1111000, 5761000,   45079,   66564, 2305000,   82336],\n",
              "       [ 260000, 1270000,    8612,   14509,  716000,   30068],\n",
              "       [ 122000,  593000,    4234,    6846,  336000,   13066],\n",
              "       [ 143000,  667000,    4965,    8359,  334000,   12723],\n",
              "       [  99000,  441000,    3274,    5826,  234000,    9221],\n",
              "       [  97000,  473000,    3473,    5556,  248000,    9916],\n",
              "       [ 255000, 1158000,    8737,   14184,  651000,   25422],\n",
              "       [ 253000, 1148000,    7912,   13720,  595000,   23062],\n",
              "       [ 456000, 2122000,   15768,   25192, 1081000,   41972],\n",
              "       [1002000, 4659000,   39117,   61230, 1875000,   68833],\n",
              "       [ 222000, 1042000,    7446,   12582,  527000,   20900],\n",
              "       [ 197000,  852000,    6455,   11350,  363000,   13246],\n",
              "       [ 304000, 1539000,   11491,   17909,  749000,   26654],\n",
              "       [1056000, 5336000,   44365,   65446, 2420000,   89494],\n",
              "       [ 683000, 3224000,   24532,   39713, 1577000,   57452],\n",
              "       [ 160000,  765000,    5234,    8947,  413000,   14674],\n",
              "       [ 109000,  520000,    3785,    6070,  306000,   13062],\n",
              "       [  71000,  313000,    2329,    4190,  177000,    7309],\n",
              "       [  84000,  366000,    2672,    4887,  231000,    9724],\n",
              "       [ 240000, 1087000,    8436,   14485,  571000,   22429],\n",
              "       [ 364000, 1636000,   12613,   21363,  817000,   31346],\n",
              "       [ 161000,  745000,    5347,    8987,  465000,   18836],\n",
              "       [  83000,  410000,    2910,    4998,  243000,   10011],\n",
              "       [ 119000,  540000,    4236,    6899,  303000,   12169],\n",
              "       [ 162000,  749000,    5421,    9330,  441000,   18207],\n",
              "       [  79000,  382000,    2659,    4559,  245000,   10251],\n",
              "       [ 674000, 3026000,   25265,   42008, 1408000,   53309],\n",
              "       [ 112000,  464000,    3449,    6535,  244000,   10112],\n",
              "       [ 171000,  741000,    5394,   10135,  429000,   17714],\n",
              "       [ 235000,  985000,    7643,   14301,  537000,   21380],\n",
              "       [ 141000,  632000,    4804,    8200,  371000,   14492],\n",
              "       [ 145000,  594000,    4637,    8434,  342000,   13981],\n",
              "       [ 215000,  893000,    6839,   12956,  506000,   22106],\n",
              "       [ 247000,  888000,    7887,   15732,  313000,   12157]])"
            ]
          },
          "execution_count": 10,
          "metadata": {},
          "output_type": "execute_result"
        }
      ],
      "source": [
        "SSDSE_df.drop(['年度'], axis=1, inplace=True)\n",
        "SSDSE_df_values = SSDSE_df.iloc[:,1:].values\n",
        "SSDSE_df_values"
      ]
    },
    {
      "cell_type": "code",
      "execution_count": 11,
      "metadata": {},
      "outputs": [
        {
          "data": {
            "text/plain": [
              "array(['北海道', '青森県', '岩手県', '宮城県', '秋田県', '山形県', '福島県', '茨城県', '栃木県',\n",
              "       '群馬県', '埼玉県', '千葉県', '東京都', '神奈川県', '新潟県', '富山県', '石川県', '福井県',\n",
              "       '山梨県', '長野県', '岐阜県', '静岡県', '愛知県', '三重県', '滋賀県', '京都府', '大阪府',\n",
              "       '兵庫県', '奈良県', '和歌山県', '鳥取県', '島根県', '岡山県', '広島県', '山口県', '徳島県',\n",
              "       '香川県', '愛媛県', '高知県', '福岡県', '佐賀県', '長崎県', '熊本県', '大分県', '宮崎県',\n",
              "       '鹿児島県', '沖縄県'], dtype=object)"
            ]
          },
          "execution_count": 11,
          "metadata": {},
          "output_type": "execute_result"
        }
      ],
      "source": [
        "prefectures = SSDSE_df.iloc[:,0].values\n",
        "prefectures"
      ]
    },
    {
      "cell_type": "code",
      "execution_count": 12,
      "metadata": {},
      "outputs": [
        {
          "data": {
            "text/plain": [
              "array(['15歳未満人口', '15〜64歳人口', '婚姻件数', '出生数', '65歳以上人口', '死亡数'],\n",
              "      dtype=object)"
            ]
          },
          "execution_count": 12,
          "metadata": {},
          "output_type": "execute_result"
        }
      ],
      "source": [
        "targetColumns = SSDSE_df.columns[1:].values\n",
        "targetColumns"
      ]
    },
    {
      "cell_type": "code",
      "execution_count": 13,
      "metadata": {},
      "outputs": [
        {
          "data": {
            "text/html": [
              "<div>\n",
              "<style scoped>\n",
              "    .dataframe tbody tr th:only-of-type {\n",
              "        vertical-align: middle;\n",
              "    }\n",
              "\n",
              "    .dataframe tbody tr th {\n",
              "        vertical-align: top;\n",
              "    }\n",
              "\n",
              "    .dataframe thead th {\n",
              "        text-align: right;\n",
              "    }\n",
              "</style>\n",
              "<table border=\"1\" class=\"dataframe\">\n",
              "  <thead>\n",
              "    <tr style=\"text-align: right;\">\n",
              "      <th></th>\n",
              "      <th>15歳未満人口</th>\n",
              "      <th>15〜64歳人口</th>\n",
              "      <th>婚姻件数</th>\n",
              "      <th>出生数</th>\n",
              "      <th>65歳以上人口</th>\n",
              "      <th>死亡数</th>\n",
              "    </tr>\n",
              "  </thead>\n",
              "  <tbody>\n",
              "    <tr>\n",
              "      <th>PC1</th>\n",
              "      <td>0.169838</td>\n",
              "      <td>0.920329</td>\n",
              "      <td>0.007859</td>\n",
              "      <td>0.010899</td>\n",
              "      <td>0.351864</td>\n",
              "      <td>0.012653</td>\n",
              "    </tr>\n",
              "    <tr>\n",
              "      <th>PC2</th>\n",
              "      <td>-0.127683</td>\n",
              "      <td>0.374658</td>\n",
              "      <td>0.013274</td>\n",
              "      <td>0.006175</td>\n",
              "      <td>-0.917593</td>\n",
              "      <td>-0.033735</td>\n",
              "    </tr>\n",
              "    <tr>\n",
              "      <th>PC3</th>\n",
              "      <td>0.975967</td>\n",
              "      <td>-0.111371</td>\n",
              "      <td>-0.006143</td>\n",
              "      <td>0.045246</td>\n",
              "      <td>-0.180225</td>\n",
              "      <td>-0.022797</td>\n",
              "    </tr>\n",
              "    <tr>\n",
              "      <th>PC4</th>\n",
              "      <td>0.010612</td>\n",
              "      <td>0.011712</td>\n",
              "      <td>-0.524204</td>\n",
              "      <td>-0.538394</td>\n",
              "      <td>0.016342</td>\n",
              "      <td>-0.659413</td>\n",
              "    </tr>\n",
              "    <tr>\n",
              "      <th>PC5</th>\n",
              "      <td>-0.032188</td>\n",
              "      <td>-0.008007</td>\n",
              "      <td>0.422707</td>\n",
              "      <td>0.506847</td>\n",
              "      <td>0.038293</td>\n",
              "      <td>-0.749572</td>\n",
              "    </tr>\n",
              "    <tr>\n",
              "      <th>PC6</th>\n",
              "      <td>0.034535</td>\n",
              "      <td>-0.004555</td>\n",
              "      <td>0.739090</td>\n",
              "      <td>-0.671591</td>\n",
              "      <td>0.000931</td>\n",
              "      <td>-0.038708</td>\n",
              "    </tr>\n",
              "  </tbody>\n",
              "</table>\n",
              "</div>"
            ],
            "text/plain": [
              "      15歳未満人口  15〜64歳人口      婚姻件数       出生数   65歳以上人口       死亡数\n",
              "PC1  0.169838  0.920329  0.007859  0.010899  0.351864  0.012653\n",
              "PC2 -0.127683  0.374658  0.013274  0.006175 -0.917593 -0.033735\n",
              "PC3  0.975967 -0.111371 -0.006143  0.045246 -0.180225 -0.022797\n",
              "PC4  0.010612  0.011712 -0.524204 -0.538394  0.016342 -0.659413\n",
              "PC5 -0.032188 -0.008007  0.422707  0.506847  0.038293 -0.749572\n",
              "PC6  0.034535 -0.004555  0.739090 -0.671591  0.000931 -0.038708"
            ]
          },
          "execution_count": 13,
          "metadata": {},
          "output_type": "execute_result"
        }
      ],
      "source": [
        "from sklearn.decomposition import PCA\n",
        "\n",
        "pca = PCA()\n",
        "P = pca.fit_transform(SSDSE_df_values)\n",
        "\n",
        "pd.DataFrame(pca.components_, columns=targetColumns, index=[f'PC{i+1}' for i in range(pca.n_components_)])"
      ]
    },
    {
      "cell_type": "code",
      "execution_count": 14,
      "metadata": {},
      "outputs": [
        {
          "name": "stderr",
          "output_type": "stream",
          "text": [
            "/var/folders/wl/l0q5d3r90b375sqc25hk_bsw0000gn/T/ipykernel_26666/240422092.py:7: UserWarning: Matplotlib is currently using module://matplotlib_inline.backend_inline, which is a non-GUI backend, so cannot show the figure.\n",
            "  fig.show()\n"
          ]
        },
        {
          "data": {
            "image/png": "[encoded data removed]",
            "text/plain": [
              "<Figure size 600x400 with 1 Axes>"
            ]
          },
          "metadata": {
            "needs_background": "light"
          },
          "output_type": "display_data"
        }
      ],
      "source": [
        "fig = plt.figure(dpi=100)\n",
        "ax = fig.add_subplot(1,1,1)\n",
        "\n",
        "ax.plot(np.arange(1, pca.n_components_+1), np.cumsum(pca.explained_variance_ratio_))\n",
        "ax.set_xlabel('Number of principal components (PCs)')\n",
        "ax.set_ylabel('Cumulative explained variance')\n",
        "fig.show()"
      ]
    },
    {
      "cell_type": "markdown",
      "metadata": {
        "id": "mKb_nuV3rXLP"
      },
      "source": [
        "**(3)  第一主成分と第二主成分**\n",
        "\n",
        "データの事例を第一主成分と第二主成分の軸に射影し、データを２次元平面上にプロットせよ。<!-- 2(3) -->"
      ]
    },
    {
      "cell_type": "code",
      "execution_count": 16,
      "metadata": {},
      "outputs": [],
      "source": [
        "import japanize_matplotlib"
      ]
    },
    {
      "cell_type": "code",
      "execution_count": 17,
      "metadata": {
        "id": "puDKlkYWrX2r"
      },
      "outputs": [
        {
          "name": "stderr",
          "output_type": "stream",
          "text": [
            "/var/folders/wl/l0q5d3r90b375sqc25hk_bsw0000gn/T/ipykernel_26666/1262052427.py:11: UserWarning: Matplotlib is currently using module://matplotlib_inline.backend_inline, which is a non-GUI backend, so cannot show the figure.\n",
            "  fig.show()\n"
          ]
        },
        {
          "data": {
            "image/png": "[encoded data removed]",
            "text/plain": [
              "<Figure size 1000x60000 with 1 Axes>"
            ]
          },
          "metadata": {
            "needs_background": "light"
          },
          "output_type": "display_data"
        }
      ],
      "source": [
        "fig = plt.figure(dpi=100, figsize=(10, 600))\n",
        "ax = fig.add_subplot(1,1,1)\n",
        "ax.set_xlabel('PC 1')\n",
        "ax.set_ylabel('PC 2')\n",
        "ax.set_ylim(-500000, 500000)\n",
        "m = ax.scatter(P[:, 0], P[:, 1], marker='.')\n",
        "for i, label in enumerate(prefectures):\n",
        "    ax.text(P[i][0], P[i][1], label, ha='center', va='bottom')\n",
        "ax.set_aspect('equal')\n",
        "ax.grid()\n",
        "fig.show()"
      ]
    },
    {
      "cell_type": "markdown",
      "metadata": {
        "id": "xWBhzEEfrbnY"
      },
      "source": [
        "**(4) 主成分分析から分かったこと**\n",
        "\n",
        "主成分分析からデータに関して得られた知見をまとめよ。<!-- 2(4) -->"
      ]
    },
    {
      "cell_type": "markdown",
      "metadata": {},
      "source": []
    }
  ],
  "metadata": {
    "colab": {
      "collapsed_sections": [],
      "name": "ml2021-r3.ipynb",
      "provenance": []
    },
    "kernelspec": {
      "display_name": "Python 3",
      "name": "python3"
    },
    "language_info": {
      "codemirror_mode": {
        "name": "ipython",
        "version": 3
      },
      "file_extension": ".py",
      "mimetype": "text/x-python",
      "name": "python",
      "nbconvert_exporter": "python",
      "pygments_lexer": "ipython3",
      "version": "3.9.10"
    }
  },
  "nbformat": 4,
  "nbformat_minor": 0
}
