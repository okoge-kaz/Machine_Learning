{
  "cells": [
    {
      "cell_type": "markdown",
      "metadata": {
        "id": "RTLfkWkboOF3"
      },
      "source": [
        "# 機械学習 課題3\n",
        "\n",
        "※ セルを増やしても構いませんが、すでに書かれているセルの内容を変更しないで下さい。\n",
        "\n",
        "**この課題におけるベクトルは縦ベクトルとします。**"
      ]
    },
    {
      "cell_type": "markdown",
      "metadata": {
        "id": "KYIRxvPuoQx4"
      },
      "source": [
        "## 1. クラスタリング"
      ]
    },
    {
      "cell_type": "markdown",
      "metadata": {
        "id": "sV67n0M1k9Ls"
      },
      "source": [
        "$4$個の事例からなるデータ$\\mathcal{D} = \\{\\pmb{x}_i\\}_{i=1}^4$\n",
        "\n",
        "\\begin{align}\n",
        "\\pmb{x}_1 = \\begin{pmatrix}0 \\\\ 0\\end{pmatrix},\\;\n",
        "\\pmb{x}_2 = \\begin{pmatrix}1 \\\\ 1\\end{pmatrix},\\;\n",
        "\\pmb{x}_3 = \\begin{pmatrix}2 \\\\ 1\\end{pmatrix},\\;\n",
        "\\pmb{x}_4 = \\begin{pmatrix}0 \\\\ 2\\end{pmatrix}\n",
        "\\end{align}\n",
        "\n",
        "をクラスタリングしたい。以下の問に答えよ。なお、計算は手計算でもプログラムを用いてもよいが、最終的な答えに至る経過が分かるように記述せよ。数値は小数点以下第2位まで表示するか、平方根を使って表示せよ。また、クラスタを統合するときの距離が等しいなどの理由で、クラスタの作り方が2通り以上ある場合は、そのうちのいずれかを答えればよい。"
      ]
    },
    {
      "cell_type": "code",
      "execution_count": 3,
      "metadata": {},
      "outputs": [],
      "source": [
        "import numpy as np\n",
        "import scipy.cluster.hierarchy\n",
        "import scipy.spatial.distance\n",
        "from matplotlib import pyplot as plt"
      ]
    },
    {
      "cell_type": "markdown",
      "metadata": {
        "id": "Pfv4k947lRwn"
      },
      "source": [
        "**(1) 距離行列の計算（マンハッタン距離）**\n",
        "\n",
        "距離関数としてマンハッタン距離を用いて、データ$\\mathcal{D}$の距離行列を求めよ。<!-- 1(1) -->"
      ]
    },
    {
      "cell_type": "code",
      "execution_count": 4,
      "metadata": {
        "id": "OXx2rxJ_k9rO"
      },
      "outputs": [
        {
          "data": {
            "text/plain": [
              "array([[0., 2., 3., 2.],\n",
              "       [2., 0., 1., 2.],\n",
              "       [3., 1., 0., 3.],\n",
              "       [2., 2., 3., 0.]])"
            ]
          },
          "execution_count": 4,
          "metadata": {},
          "output_type": "execute_result"
        }
      ],
      "source": [
        "def Manhattan_distance(X: np.ndarray) -> np.ndarray:\n",
        "    \"\"\"\n",
        "    Compute the Manhattan distance matrix between each pair of points\n",
        "    :param X: A matrix of shape (n, 2) where each row is a point in 2D\n",
        "    :return: A matrix of shape (n, n) where the (i, j)th entry is the Manhattan distance between the i-th and j-th point\n",
        "    \"\"\"\n",
        "    n = X.shape[0]\n",
        "    dists = np.zeros((n, n))\n",
        "    for i in range(n):\n",
        "        for j in range(n):\n",
        "            dists[i, j] = np.sum(np.abs(X[i] - X[j]))\n",
        "    return dists\n",
        "\n",
        "X: np.ndarray = np.array([[0, 0], [1, 1], [2, 1], [0, 2]])\n",
        "\n",
        "Manhattan_distance(X)"
      ]
    },
    {
      "cell_type": "code",
      "execution_count": 6,
      "metadata": {},
      "outputs": [
        {
          "data": {
            "text/plain": [
              "array([[0., 2., 3., 2.],\n",
              "       [2., 0., 1., 2.],\n",
              "       [3., 1., 0., 3.],\n",
              "       [2., 2., 3., 0.]])"
            ]
          },
          "execution_count": 6,
          "metadata": {},
          "output_type": "execute_result"
        }
      ],
      "source": [
        "D = scipy.spatial.distance.pdist(X, metric=\"cityblock\")\n",
        "scipy.spatial.distance.squareform(D)"
      ]
    },
    {
      "cell_type": "markdown",
      "metadata": {
        "id": "hjZ_Wox7mZNX"
      },
      "source": [
        "**(2) 距離行列の計算（ユークリッド距離）**\n",
        "\n",
        "距離関数としてユークリッド距離を用いて、データ$\\mathcal{D}$の距離行列を求めよ。<!-- 1(2) -->"
      ]
    },
    {
      "cell_type": "code",
      "execution_count": 7,
      "metadata": {
        "id": "F_ufNDi8mkbN"
      },
      "outputs": [
        {
          "data": {
            "text/plain": [
              "array([[0.        , 1.41421356, 2.23606798, 2.        ],\n",
              "       [1.41421356, 0.        , 1.        , 1.41421356],\n",
              "       [2.23606798, 1.        , 0.        , 2.23606798],\n",
              "       [2.        , 1.41421356, 2.23606798, 0.        ]])"
            ]
          },
          "execution_count": 7,
          "metadata": {},
          "output_type": "execute_result"
        }
      ],
      "source": [
        "def distace_matrix(X: np.ndarray) -> np.ndarray:\n",
        "    \"\"\"\n",
        "    Compute the Euclidean distance matrix between each pair of points\n",
        "    :param X: A matrix of shape (n, 2) where each row is a point in 2D\n",
        "    :return: A matrix of shape (n, n) where the (i, j)th entry is the distance between the i-th and j-th point\n",
        "    \"\"\"\n",
        "    n = X.shape[0]\n",
        "    dists = np.zeros((n, n))\n",
        "    for i in range(n):\n",
        "        for j in range(n):\n",
        "            dists[i, j] = np.linalg.norm(X[i] - X[j])\n",
        "    return dists\n",
        "\n",
        "distace_matrix(X)"
      ]
    },
    {
      "cell_type": "code",
      "execution_count": 8,
      "metadata": {},
      "outputs": [
        {
          "data": {
            "text/plain": [
              "array([[0.        , 1.41421356, 2.23606798, 2.        ],\n",
              "       [1.41421356, 0.        , 1.        , 1.41421356],\n",
              "       [2.23606798, 1.        , 0.        , 2.23606798],\n",
              "       [2.        , 1.41421356, 2.23606798, 0.        ]])"
            ]
          },
          "execution_count": 8,
          "metadata": {},
          "output_type": "execute_result"
        }
      ],
      "source": [
        "D = scipy.spatial.distance.pdist(X, metric=\"euclidean\")\n",
        "scipy.spatial.distance.squareform(D)"
      ]
    },
    {
      "cell_type": "markdown",
      "metadata": {
        "id": "2zKCrJCQJGzl"
      },
      "source": [
        "**(3) ウォード法**\n",
        "\n",
        "データ$\\mathcal{D}$に対して、初期クラスタを$C_1 = \\{\\pmb{x}_1\\}, C_2 = \\{\\pmb{x}_2\\}, C_3 = \\{\\pmb{x}_3\\}, C_4 = \\{\\pmb{x}_4\\}$として、ウォード法（Ward's method）によるクラスタリングを行いたい。"
      ]
    },
    {
      "cell_type": "markdown",
      "metadata": {
        "id": "xhsjI0pmlQFl"
      },
      "source": [
        "**(a) 最初の統合**\n",
        "\n",
        "任意の2つの異なるクラスタ $A, B, \\in \\{C_1, C_2, C_3, C_4\\}$ $(A \\neq B)$ に対して、式11.17を計算し、ウォード法で最初に統合されるクラスタの組$A^*, B^*$と、その時の式11.17の値（$\\mathrm{dist}_{\\mathrm{ward}}(A^*, B^*)$）を答えよ。答え方の例を以下に示す。\n",
        "\n",
        "+ 統合されるクラスタ: $\\{\\pmb{x}_1\\}, \\{\\pmb{x}_2\\}$\n",
        "+ 式11.17の値: 1.44\n",
        "<!-- 1(3)(a) -->"
      ]
    },
    {
      "cell_type": "code",
      "execution_count": 9,
      "metadata": {
        "id": "2qXlmICUlQaW"
      },
      "outputs": [
        {
          "data": {
            "image/png": "[encoded data removed]",
            "text/plain": [
              "<Figure size 600x400 with 1 Axes>"
            ]
          },
          "metadata": {
            "needs_background": "light"
          },
          "output_type": "display_data"
        }
      ],
      "source": [
        "x1: np.ndarray = np.array([0, 0])\n",
        "x2: np.ndarray = np.array([1, 1])\n",
        "x3: np.ndarray = np.array([2, 1])\n",
        "x4: np.ndarray = np.array([0, 2])\n",
        "\n",
        "X = np.array([x1, x2, x3, x4])\n",
        "\n",
        "Z = scipy.cluster.hierarchy.linkage(scipy.spatial.distance.pdist(X, metric=\"euclidean\"), method=\"ward\")\n",
        "\n",
        "fig, ax = plt.subplots(dpi=100)\n",
        "dn = scipy.cluster.hierarchy.dendrogram(Z, labels=[\"x1\", \"x2\", \"x3\", \"x4\"], ax=ax)\n",
        "ax.set_ylabel(\"Euclidean distance\")\n",
        "plt.show()"
      ]
    },
    {
      "cell_type": "markdown",
      "metadata": {},
      "source": [
        "- 結合されるクラスタ: {C2}, {C3}\n",
        "- 式11.17の値: 1.00  \n",
        "\n",
        "![](../public/ward.png)"
      ]
    },
    {
      "cell_type": "markdown",
      "metadata": {
        "id": "Ebx6AHpSW6il"
      },
      "source": [
        "**(b) 2回目の統合**\n",
        "\n",
        "(a)においてクラスタの統合が行われた結果、クラスタ数は3となる。これらのクラスタを改めて$C_1, C_2, C_3$と書き直す。任意の2つの異なるクラスタに対して、式11.17を計算し、ウォード法で次に統合されるクラスタの組$A^*, B^*$と、その時の式11.17の値（$\\mathrm{dist}_{\\mathrm{ward}}(A^*, B^*)$）を答えよ。答え方の例を以下に示す。\n",
        "\n",
        "+ 統合されるクラスタ: $\\{\\pmb{x}_1, \\pmb{x}_2\\}, \\{\\pmb{x}_3\\}$\n",
        "+ 式11.17の値: 1.67\n",
        "<!-- 1(3)(b) -->"
      ]
    },
    {
      "cell_type": "markdown",
      "metadata": {},
      "source": [
        "- 結合されるクラスタ: {C1}, {C3}\n",
        "- 式11.17の値: 2.00  "
      ]
    },
    {
      "cell_type": "markdown",
      "metadata": {
        "id": "UTuHY0stq5kR"
      },
      "source": [
        "## 2. 主成分分析\n",
        "\n",
        "適切な題材を選び、主成分分析（PCA）を行った結果をまとめよ。ただし、以下の観点で採点を行うので、これらを満たすように解答せよ。また、分析に用いたプログラムもJupyter Notebookにまとめよ。\n",
        "\n",
        "+ 選んだデータの説明\n",
        "+ 累積寄与率のグラフ\n",
        "+ 第一主成分と第二主成分のベクトル\n",
        "+ 主成分分析から分かったこと"
      ]
    },
    {
      "cell_type": "markdown",
      "metadata": {
        "id": "BPmHxo_-sEw3"
      },
      "source": [
        "**(1) データの説明**\n",
        "\n",
        "選んだデータの概要（提供者、内容、データのサイズなど）を説明せよ。<!-- 2(1) -->"
      ]
    },
    {
      "cell_type": "code",
      "execution_count": null,
      "metadata": {
        "id": "6zuS1UkgsbC9"
      },
      "outputs": [],
      "source": []
    },
    {
      "cell_type": "markdown",
      "metadata": {
        "id": "0F8RyEZPshF1"
      },
      "source": [
        "**(2) 累積寄与率**\n",
        "\n",
        "累積寄与率のグラフを描け。<!-- 2(2) -->"
      ]
    },
    {
      "cell_type": "code",
      "execution_count": null,
      "metadata": {
        "id": "c2-PlyRss3bV"
      },
      "outputs": [],
      "source": []
    },
    {
      "cell_type": "markdown",
      "metadata": {
        "id": "mKb_nuV3rXLP"
      },
      "source": [
        "**(3)  第一主成分と第二主成分**\n",
        "\n",
        "データの事例を第一主成分と第二主成分の軸に射影し、データを２次元平面上にプロットせよ。<!-- 2(3) -->"
      ]
    },
    {
      "cell_type": "code",
      "execution_count": null,
      "metadata": {
        "id": "puDKlkYWrX2r"
      },
      "outputs": [],
      "source": []
    },
    {
      "cell_type": "markdown",
      "metadata": {
        "id": "xWBhzEEfrbnY"
      },
      "source": [
        "**(4) 主成分分析から分かったこと**\n",
        "\n",
        "主成分分析からデータに関して得られた知見をまとめよ。<!-- 2(4) -->"
      ]
    },
    {
      "cell_type": "code",
      "execution_count": null,
      "metadata": {
        "id": "fWAiZPMprb-9"
      },
      "outputs": [],
      "source": []
    }
  ],
  "metadata": {
    "colab": {
      "collapsed_sections": [],
      "name": "ml2021-r3.ipynb",
      "provenance": []
    },
    "kernelspec": {
      "display_name": "Python 3",
      "name": "python3"
    },
    "language_info": {
      "codemirror_mode": {
        "name": "ipython",
        "version": 3
      },
      "file_extension": ".py",
      "mimetype": "text/x-python",
      "name": "python",
      "nbconvert_exporter": "python",
      "pygments_lexer": "ipython3",
      "version": "3.9.10"
    }
  },
  "nbformat": 4,
  "nbformat_minor": 0
}
