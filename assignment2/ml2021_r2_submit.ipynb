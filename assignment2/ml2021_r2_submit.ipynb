{
  "cells": [
    {
      "cell_type": "markdown",
      "metadata": {
        "id": "RTLfkWkboOF3"
      },
      "source": [
        "# 機械学習 課題2\n",
        "\n",
        "※ セルを増やしても大丈夫ですが、すでに書かれているセルの内容を変更しないで下さい。\n",
        "\n",
        "**この課題におけるベクトルは列ベクトルとします。**"
      ]
    },
    {
      "cell_type": "markdown",
      "metadata": {
        "id": "KYIRxvPuoQx4"
      },
      "source": [
        "## 1. ニューラルネットワークの順伝搬と逆伝搬"
      ]
    },
    {
      "cell_type": "markdown",
      "metadata": {
        "id": "sV67n0M1k9Ls"
      },
      "source": [
        "2次元の入力$\\pmb{x} \\in \\mathbb{R}^{2}$を受け取り、2次元の中間層$\\pmb{h} \\in \\mathbb{R}^{2}$を介して、$\\hat{y} \\in \\mathbb{R}$を出力する2層のニューラルネットワークを次式で定義する。\n",
        "\\begin{align*}\n",
        "\\hat{y} = \\sigma(\\pmb{h}^{\\top}\\pmb{q}+c), \\; \\pmb{h}=\\mathrm{ReLU}(\\pmb{W}\\pmb{x} + \\pmb{b})\n",
        "\\end{align*}\n",
        "ただし、$\\sigma$はシグモイド関数であり、$\\mathrm{ReLU}(a) = \\max(a, 0)$である。また、$\\pmb{W} \\in \\mathbb{R}^{2 \\times 2}, \\pmb{q} \\in \\mathbb{R}^{2}, b \\in \\mathbb{R}^2, c \\in \\mathbb{R}$はモデルのパラメータであり、以下に示す値に設定されているとする。\n",
        "\n",
        "\\begin{align}\n",
        "\\pmb{W} = \\begin{pmatrix}1 & 0 \\\\ 0 & -1\\end{pmatrix}, \\; \\pmb{q} = \\begin{pmatrix}1 \\\\ 1\\end{pmatrix}, \\; \\pmb{b} = \\begin{pmatrix}-0.5 \\\\ -1.5\\end{pmatrix}, \\; c = -0.5 .\n",
        "\\end{align}\n",
        "\n",
        "以下の問に答えよ。なお、計算は手計算でもプログラムを用いてもよいが、最終的な答えに至る経過が分かるように記述せよ。"
      ]
    },
    {
      "cell_type": "markdown",
      "metadata": {
        "id": "Pfv4k947lRwn"
      },
      "source": [
        "**(1) 中間層の計算**\n",
        "\n",
        "このモデルに入力$\\pmb{x}=\\begin{pmatrix}1 \\\\ -1\\end{pmatrix}$を与えたとき、中間層の値$\\pmb{h}$を求めよ。<!-- 1(1) -->"
      ]
    },
    {
      "cell_type": "code",
      "execution_count": 35,
      "metadata": {
        "id": "OXx2rxJ_k9rO",
        "colab": {
          "base_uri": "https://localhost:8080/"
        },
        "outputId": "2d30f241-0258-45fa-8bd0-19b5ab790a55"
      },
      "outputs": [
        {
          "output_type": "stream",
          "name": "stdout",
          "text": [
            "[[0.5]\n",
            " [0. ]]\n"
          ]
        }
      ],
      "source": [
        "import numpy as np\n",
        "\n",
        "x: np.ndarray = np.array([[1], [-1]])\n",
        "\n",
        "W: np.ndarray = np.array([[1, 0], [0, -1]])\n",
        "q: np.ndarray = np.array([[1],[1]])\n",
        "b: np.ndarray = np.array([[-0.5],[-1.5]])\n",
        "c: np.float64 = -0.5\n",
        "\n",
        "def ReLU(value):\n",
        "    return np.maximum(value, 0)\n",
        "\n",
        "def sigmoid(value: np.float64):\n",
        "    if 0 <= value:\n",
        "        return 1 / (1 + np.exp(- value))\n",
        "    else:\n",
        "        return 1. - 1 / (1 + np.exp(value))\n",
        "\n",
        "h = ReLU(np.dot(W, x) + b)\n",
        "print(h)"
      ]
    },
    {
      "cell_type": "markdown",
      "metadata": {
        "id": "hjZ_Wox7mZNX"
      },
      "source": [
        "**(2) 出力の計算**\n",
        "\n",
        "このモデルに入力$\\pmb{x}=\\begin{pmatrix}1 \\\\ -1\\end{pmatrix}$を与えたとき、出力の値$\\hat{y}$を求めよ。<!-- 1(2) -->"
      ]
    },
    {
      "cell_type": "code",
      "execution_count": 37,
      "metadata": {
        "id": "F_ufNDi8mkbN",
        "colab": {
          "base_uri": "https://localhost:8080/"
        },
        "outputId": "885a6665-ee9c-4793-bb9e-a86ef26ce664"
      },
      "outputs": [
        {
          "output_type": "stream",
          "name": "stdout",
          "text": [
            "[[0.5]]\n"
          ]
        }
      ],
      "source": [
        "x: np.ndarray = np.array([[1], [-1]])\n",
        "\n",
        "h = ReLU(np.dot(W, x) + b)\n",
        "y_hat: np.float64 = sigmoid(np.dot(h.T, q) + c)\n",
        "\n",
        "print(y_hat)"
      ]
    },
    {
      "cell_type": "markdown",
      "metadata": {
        "id": "xhsjI0pmlQFl"
      },
      "source": [
        "**(3) 損失値の計算**\n",
        "\n",
        "ある学習事例$(\\pmb{x}, y) = \\left(\\begin{pmatrix}1 \\\\ -1 \\end{pmatrix}, 0\\right)$に対する、このニューラルネットワークのクロスエントロピー損失関数$\\mathcal{l}(y, \\hat{y})$の値を求めよ。<!-- 1(3) -->"
      ]
    },
    {
      "cell_type": "code",
      "execution_count": 38,
      "metadata": {
        "id": "2qXlmICUlQaW",
        "colab": {
          "base_uri": "https://localhost:8080/"
        },
        "outputId": "4db4cc4e-a828-4629-d6a5-d934a499811d"
      },
      "outputs": [
        {
          "output_type": "stream",
          "name": "stdout",
          "text": [
            "[[0.69314718]]\n"
          ]
        }
      ],
      "source": [
        "def l_binary_cross_entropy(x: np.ndarray, y):\n",
        "\n",
        "    W: np.ndarray = np.array([[1, 0], [0, -1]])\n",
        "    q: np.ndarray = np.array([[1],[1]])\n",
        "    b: np.ndarray = np.array([[-0.5], [-1.5]])\n",
        "    c: np.float64 = -0.5\n",
        "\n",
        "    h = ReLU(np.dot(W, x) + b)\n",
        "    y_hat = sigmoid(np.dot(h.T, q) + c)\n",
        "\n",
        "    return (-y * np.log(y_hat) - (1 - y) * np.log(1 - y_hat))\n",
        "\n",
        "x: np.ndarray = np.array([[1],[-1]])\n",
        "y: np.float64 = 0.\n",
        "\n",
        "print(l_binary_cross_entropy(x, y))"
      ]
    },
    {
      "cell_type": "markdown",
      "metadata": {
        "id": "fO8cCpA-nNMp"
      },
      "source": [
        "**(4) 勾配の計算**\n",
        "\n",
        "ある学習事例$(\\pmb{x}, y) = \\left(\\begin{pmatrix}1 \\\\ -1 \\end{pmatrix}, 0\\right)$に対して、このニューラルネットワークのクロスエントロピー損失関数$l(y, \\hat{y})$のパラメータに関する勾配、すなわち、$\\frac{\\partial l(y, \\hat{y})}{\\partial \\pmb{W}}$, $\\frac{\\partial l(y, \\hat{y})}{\\partial \\pmb{q}}$, $\\frac{\\partial l(y, \\hat{y})}{\\partial \\pmb{b}}$, $\\frac{\\partial l(y, \\hat{y})}{\\partial c}$を、それぞれ求めよ。<!-- 1(4) -->"
      ]
    },
    {
      "cell_type": "markdown",
      "metadata": {
        "id": "zNtAMxHkTmvV"
      },
      "source": [
        "$\\frac{\\partial l(y, \\hat{y})}{\\partial \\pmb{W}}$"
      ]
    },
    {
      "cell_type": "code",
      "execution_count": 28,
      "metadata": {
        "colab": {
          "base_uri": "https://localhost:8080/"
        },
        "id": "OKaMw75_TmvW",
        "outputId": "8c60f184-9e7c-4776-eed0-040f3e191a84"
      },
      "outputs": [
        {
          "output_type": "stream",
          "name": "stdout",
          "text": [
            "[[0.47407705]]\n",
            "tf.Tensor(\n",
            "[[ 0.37754074 -0.37754074]\n",
            " [ 0.37754074 -0.37754074]], shape=(2, 2), dtype=float32)\n"
          ]
        }
      ],
      "source": [
        "import tensorflow as tf\n",
        "\n",
        "x = tf.constant([[1],[-1]], dtype=tf.float32, name='x')\n",
        "w = tf.Variable([[1.0, 0],[0, -1]], dtype=tf.float32, name='w')\n",
        "q = tf.constant([[1],[1]], dtype=tf.float32, name='q')\n",
        "b = tf.constant([[-0.5], [-1.5]], dtype=tf.float32, name='b')\n",
        "c = tf.constant(-0.5, dtype=tf.float32, name='c')\n",
        "y = tf.constant(0, dtype=tf.float32, name='y')\n",
        "# y_hat = tf.constant(tf.math.sigmoid(tf.add(tf.matmul(tf.transpose(tf.add(tf.matmul(w, x), b)), q), c)))\n",
        "\n",
        "with tf.GradientTape() as tape:\n",
        "    loss = -y * tf.math.log(tf.math.sigmoid(tf.add(tf.matmul(tf.transpose(tf.add(tf.matmul(w, x), b)), q), c))) - (1 - y) * tf.math.log(1 - tf.math.sigmoid(tf.add(tf.matmul(tf.transpose(tf.add(tf.matmul(w, x), b)), q), c)))\n",
        "\n",
        "print(loss.numpy())\n",
        "print(tape.gradient(loss, w))"
      ]
    },
    {
      "cell_type": "markdown",
      "metadata": {
        "id": "nDzmhewaTmvW"
      },
      "source": [
        "$\\frac{\\partial l(y, \\hat{y})}{\\partial \\pmb{q}}$"
      ]
    },
    {
      "cell_type": "code",
      "execution_count": 29,
      "metadata": {
        "colab": {
          "base_uri": "https://localhost:8080/"
        },
        "id": "96JLxz_NTmvW",
        "outputId": "6e4048bc-5eda-4d8e-aafa-f10a7653a63c"
      },
      "outputs": [
        {
          "output_type": "stream",
          "name": "stdout",
          "text": [
            "[[0.47407705]]\n",
            "tf.Tensor(\n",
            "[[ 0.18877037]\n",
            " [-0.18877037]], shape=(2, 1), dtype=float32)\n"
          ]
        }
      ],
      "source": [
        "w = tf.constant([[1.0, 0],[0, -1]], dtype=tf.float32, name='w')\n",
        "q = tf.Variable([[1],[1]], dtype=tf.float32, name='q')\n",
        "\n",
        "with tf.GradientTape() as tape:\n",
        "    loss = -y * tf.math.log(tf.math.sigmoid(tf.add(tf.matmul(tf.transpose(tf.add(tf.matmul(w, x), b)), q), c))) - (1 - y) * tf.math.log(1 - tf.math.sigmoid(tf.add(tf.matmul(tf.transpose(tf.add(tf.matmul(w, x), b)), q), c)))\n",
        "\n",
        "print(loss.numpy())\n",
        "print(tape.gradient(loss, q))"
      ]
    },
    {
      "cell_type": "markdown",
      "metadata": {
        "id": "tjkx_5q4TmvX"
      },
      "source": [
        "$\\frac{\\partial l(y, \\hat{y})}{\\partial \\pmb{b}}$"
      ]
    },
    {
      "cell_type": "code",
      "execution_count": 30,
      "metadata": {
        "colab": {
          "base_uri": "https://localhost:8080/"
        },
        "id": "Egw3yQV-TmvX",
        "outputId": "536d403c-5aa1-43d1-acbf-8667c4b42ee4"
      },
      "outputs": [
        {
          "output_type": "stream",
          "name": "stdout",
          "text": [
            "[[0.47407705]]\n",
            "tf.Tensor(\n",
            "[[0.37754074]\n",
            " [0.37754074]], shape=(2, 1), dtype=float32)\n"
          ]
        }
      ],
      "source": [
        "q = tf.constant([[1],[1]], dtype=tf.float32, name='q')\n",
        "b = tf.Variable([[-0.5], [-1.5]], dtype=tf.float32, name='b')\n",
        "\n",
        "with tf.GradientTape() as tape:\n",
        "    loss = -y * tf.math.log(tf.math.sigmoid(tf.add(tf.matmul(tf.transpose(tf.add(tf.matmul(w, x), b)), q), c))) - (1 - y) * tf.math.log(1 - tf.math.sigmoid(tf.add(tf.matmul(tf.transpose(tf.add(tf.matmul(w, x), b)), q), c)))\n",
        "\n",
        "print(loss.numpy())\n",
        "print(tape.gradient(loss, b))"
      ]
    },
    {
      "cell_type": "markdown",
      "metadata": {
        "id": "GAHy3-k5TmvX"
      },
      "source": [
        "$\\frac{\\partial l(y, \\hat{y})}{\\partial c}$"
      ]
    },
    {
      "cell_type": "code",
      "execution_count": 31,
      "metadata": {
        "colab": {
          "base_uri": "https://localhost:8080/"
        },
        "id": "B_Yyw9VsTmvX",
        "outputId": "4c7d957e-9619-4d93-a5d9-d82ead9e9eb6"
      },
      "outputs": [
        {
          "output_type": "stream",
          "name": "stdout",
          "text": [
            "[[0.47407705]]\n",
            "tf.Tensor(0.37754074, shape=(), dtype=float32)\n"
          ]
        }
      ],
      "source": [
        "b = tf.constant([[-0.5], [-1.5]], dtype=tf.float32, name='b')\n",
        "c = tf.Variable(-0.5, dtype=tf.float32, name='c')\n",
        "\n",
        "with tf.GradientTape() as tape:\n",
        "    loss = -y * tf.math.log(tf.math.sigmoid(tf.add(tf.matmul(tf.transpose(tf.add(tf.matmul(w, x), b)), q), c))) - (1 - y) * tf.math.log(1 - tf.math.sigmoid(tf.add(tf.matmul(tf.transpose(tf.add(tf.matmul(w, x), b)), q), c)))\n",
        "\n",
        "print(loss.numpy())\n",
        "print(tape.gradient(loss, c))"
      ]
    },
    {
      "cell_type": "markdown",
      "metadata": {
        "id": "UTuHY0stq5kR"
      },
      "source": [
        "## 2. 分類\n",
        "\n",
        "適切な題材を選び、分類モデル（二値分類でも多値分類でも何でも可）を学習せよ。ただし、以下の観点で採点を行うので、これらを満たすように解答せよ。"
      ]
    },
    {
      "cell_type": "markdown",
      "metadata": {
        "id": "BPmHxo_-sEw3"
      },
      "source": [
        "**(1) タスクの説明**\n",
        "\n",
        "選んだ分類タスクの概要（入力と出力が何であるか等）を説明せよ。<!-- 2(1) -->"
      ]
    },
    {
      "cell_type": "markdown",
      "metadata": {
        "id": "zQJYP0YNTmvY"
      },
      "source": [
        "講義でも紹介されていた[MINIST](https://chokkan.github.io/mlnote/classification/02multi.html#:~:text=%E4%BB%8A%E5%9B%9E%E3%81%AF%E3%80%81-,MNIST,-%E3%82%92%E3%83%87%E3%83%BC%E3%82%BF%E3%81%A8%E3%81%97%E3%81%A6)のデータを用いて、入力が$28\\times28=754$ピクセルの画素値が入力であり、出力は0〜9までの数字のうちの１つである。"
      ]
    },
    {
      "cell_type": "markdown",
      "metadata": {
        "id": "0F8RyEZPshF1"
      },
      "source": [
        "**(2) データの入手方法・構築方法**\n",
        "\n",
        "分類モデルを学習するための訓練データや評価データの入手方法を説明せよ。データを自作した場合は、作成方法を説明せよ。<!-- 2(2) -->"
      ]
    },
    {
      "cell_type": "markdown",
      "metadata": {
        "id": "B2LS5UX1TmvY"
      },
      "source": [
        "講義で用いられていたMINISTのデータを使用する。\n",
        "以下のコードは、6.12 付録 にて記されていたminist.npzを作成するコードを参考に、細部だけを変更したものである。\n",
        "(具体的には型情報と関数に対してのコメントを付加したのみで、本質的な動作を変更する処置は施していない。)"
      ]
    },
    {
      "cell_type": "code",
      "execution_count": null,
      "metadata": {
        "id": "Qmn2oWrmTmvY"
      },
      "outputs": [],
      "source": [
        "import numpy as np\n",
        "import matplotlib.pyplot as plt\n",
        "import gzip\n",
        "import struct\n",
        "import urllib.request\n",
        "\n",
        "def read_image(fi) -> np.ndarray:\n",
        "    magic, n, rows, columns = struct.unpack(\">IIII\", fi.read(16))\n",
        "    assert magic == 0x00000803\n",
        "    assert rows == 28\n",
        "    assert columns == 28\n",
        "    rawbuffer = fi.read()\n",
        "    assert len(rawbuffer) == n * rows * columns\n",
        "    rawdata = np.frombuffer(rawbuffer, dtype='>u1', count=n*rows*columns)\n",
        "    return rawdata.reshape(n, rows, columns).astype(np.float32) / 255.0\n",
        "\n",
        "def read_label(fi):\n",
        "    magic, n = struct.unpack(\">II\", fi.read(8))\n",
        "    assert magic == 0x00000801\n",
        "    rawbuffer = fi.read()\n",
        "    assert len(rawbuffer) == n\n",
        "    return np.frombuffer(rawbuffer, dtype='>u1', count=n)\n",
        "\n",
        "def openurl_gzip(url):\n",
        "    request = urllib.request.Request(\n",
        "        url,\n",
        "        headers={\n",
        "            \"Accept-Encoding\": \"gzip\",\n",
        "            \"User-Agent\": \"Mozilla/5.0 (X11; U; Linux i686) Gecko/20071127 Firefox/2.0.0.11\", \n",
        "        })\n",
        "    response = urllib.request.urlopen(request)\n",
        "    return gzip.GzipFile(fileobj=response, mode='rb')\n",
        "\n",
        "\n",
        "np.savez_compressed(\n",
        "    'mnist',\n",
        "    train_x=read_image(openurl_gzip('http://yann.lecun.com/exdb/mnist/train-images-idx3-ubyte.gz')),\n",
        "    train_y=read_label(openurl_gzip('http://yann.lecun.com/exdb/mnist/train-labels-idx1-ubyte.gz')),\n",
        "    test_x=read_image(openurl_gzip('http://yann.lecun.com/exdb/mnist/t10k-images-idx3-ubyte.gz')),\n",
        "    test_y=read_label(openurl_gzip('http://yann.lecun.com/exdb/mnist/t10k-labels-idx1-ubyte.gz'))\n",
        ")"
      ]
    },
    {
      "cell_type": "code",
      "execution_count": null,
      "metadata": {
        "id": "zoiR-eFdTmvZ"
      },
      "outputs": [],
      "source": [
        "data = np.load('mnist.npz')\n",
        "\n",
        "def image_to_vector(X):\n",
        "    '''flatten: (N * 28 * 28) -> (N * 784)'''\n",
        "    return np.reshape(X, (len(X), -1))\n",
        "\n",
        "train_data_x = image_to_vector(data['train_x'])\n",
        "train_data_y = data['train_y']\n",
        "\n",
        "test_data_x = image_to_vector(data['test_x'])\n",
        "test_data_y = data['test_y']"
      ]
    },
    {
      "cell_type": "markdown",
      "metadata": {
        "id": "mKb_nuV3rXLP"
      },
      "source": [
        "**(3) モデルの学習**\n",
        "\n",
        "訓練データで分類モデルを確率的勾配降下法により学習せよ。このとき、各エポック毎に以下の評価値を計算し、グラフとして表示せよ。\n",
        "\n",
        "+ 訓練データ上の損失関数の値\n",
        "+ 訓練データ上の正解率\n",
        "+ 評価データ上の損失関数の値\n",
        "+ 評価データ上の正解率<!-- 2(3) -->"
      ]
    },
    {
      "cell_type": "code",
      "execution_count": null,
      "metadata": {
        "id": "puDKlkYWrX2r"
      },
      "outputs": [],
      "source": [
        "class StochasticGradientDescent:\n",
        "    '''SGD: 確率的勾配降下法'''\n",
        "    MAX_EPOCHS: int = 30 # 60000\n",
        "    INF: np.float64 = (1 << 30)\n",
        "\n",
        "    def __init__(self, train_data_x, train_data_y, test_data_x, test_data_y, learning_rate):\n",
        "        '''Constructor'''\n",
        "        self.train_SIZE: int = len(train_data_y)\n",
        "        self.test_SIZE: int = len(test_data_y)\n",
        "        # get the max and min value of the train_data_y\n",
        "        minimum_label: int = np.amin(train_data_y)\n",
        "        max_label: int = np.amax(train_data_y)\n",
        "        # y を単位行列を用いて変形\n",
        "        train_data_y_1h = np.eye(10)[train_data_y]\n",
        "        test_data_y_1h = np.eye(10)[test_data_y]\n",
        "        # 重みの初期値の設定\n",
        "        # self.W = np.ndarray(np.random.randint(minimum_label, max_label, len(train_data_x[0])))\n",
        "        self.W = np.random.randn(len(train_data_x[0]), 10)\n",
        "        # 学習率\n",
        "        self.learnig_rate = learning_rate\n",
        "        # 損失関数の値の配列\n",
        "        self.loss_train_data: list = []\n",
        "        self.loss_validation_data: list = []\n",
        "        # 正解率の値の配列\n",
        "        self.accuracy_train_data: list = []\n",
        "        self.accuracy_validation_data: list = []\n",
        "        # 確率的勾配降下法による更新\n",
        "        for index in range(self.MAX_EPOCHS):\n",
        "            # update sequence\n",
        "            self.__update_sequence(train_data_x, train_data_y_1h, self.train_SIZE)\n",
        "            # % 表記にして配列に追加する\n",
        "            # self.accuracy_train_data.append([self.__score(train_data_x, train_data_y) * 100]) : appendは遅いので\n",
        "            print(self.__score(train_data_x, train_data_y))\n",
        "            self.accuracy_train_data += [self.__score(train_data_x, train_data_y) * 100]\n",
        "            self.accuracy_validation_data += [self.__score(test_data_x, test_data_y) * 100]\n",
        "\n",
        "            # 損失関数の値を配列に追加する\n",
        "            self.loss_train_data += [self.__clac_loss(train_data_x, train_data_y_1h)]\n",
        "            self.loss_validation_data += [self.__clac_loss(test_data_x, test_data_y_1h)]\n",
        "\n",
        "    # private\n",
        "    def __predict(self, X) -> int:\n",
        "        '''最も内積値が高いカテゴリを返す'''\n",
        "        return (np.dot(X, self.W)).argmax(1)\n",
        "    \n",
        "    def __score(self, X, Y):\n",
        "        '''正しいカテゴリを選べているかの平均'''\n",
        "        return (self.__predict(X) == Y).mean()\n",
        "    \n",
        "    def __update_sequence(self, train_data_x, train_data_y_1h, SIZE: int):\n",
        "        '''更新処理のための関数'''\n",
        "        permutations = np.random.permutation(SIZE)\n",
        "        for id in range(SIZE):\n",
        "            xn = train_data_x[permutations[id:id+1]]\n",
        "            yn = train_data_y_1h[permutations[id:id+1]]\n",
        "            p = self._w_softmax(xn)\n",
        "            update = (yn - p) / len(yn) * self.learnig_rate\n",
        "            self.W += np.dot(update.T, xn).T\n",
        "    \n",
        "    def _w_softmax(self,X):\n",
        "        h = np.dot(X,self.W)\n",
        "        ea = np.exp(h.T-h.max(1))\n",
        "        return (ea/ea.sum(0)).T\n",
        "    \n",
        "    def __softmax(self, a):\n",
        "        ea = np.exp(a - np.max(a))\n",
        "        return ea / ea.sum()\n",
        "    \n",
        "    def __clac_loss(self, X, y):\n",
        "        return -(y * np.log(self._w_softmax(X) + 1e-6)).mean()\n",
        "\n",
        "    # public\n",
        "    def get_loss(self, key: str):\n",
        "        '''損失関数の値を返す'''\n",
        "        if key == 'train':\n",
        "            return self.loss_train_data\n",
        "        else:\n",
        "            return self.loss_validation_data\n",
        "    \n",
        "    def get_accuracy(self, key: str):\n",
        "        '''正解率を返す'''\n",
        "        if key == 'train':\n",
        "            return self.accuracy_train_data\n",
        "        else:\n",
        "            return self.accuracy_validation_data\n",
        "    \n",
        "    def predict(self, X) -> int:\n",
        "        '''最も内積値が高いカテゴリを返す'''\n",
        "        return (np.dot(X, self.W)).argmax(1)"
      ]
    },
    {
      "cell_type": "code",
      "execution_count": null,
      "metadata": {
        "id": "OAs0G839Tmva",
        "outputId": "6bfe4fe8-9c48-43a1-fa0f-ea3d318eb94f"
      },
      "outputs": [
        {
          "name": "stdout",
          "output_type": "stream",
          "text": [
            "0.8551333333333333\n",
            "0.8761166666666667\n",
            "0.8847\n",
            "0.8939833333333334\n",
            "0.8989\n",
            "0.9021666666666667\n",
            "0.9048666666666667\n",
            "0.9073833333333333\n",
            "0.9114333333333333\n",
            "0.9120666666666667\n",
            "0.9147333333333333\n",
            "0.9133833333333333\n",
            "0.9153\n",
            "0.9169833333333334\n",
            "0.9189333333333334\n",
            "0.9203333333333333\n",
            "0.92095\n",
            "0.9215833333333333\n",
            "0.9198666666666667\n",
            "0.9222666666666667\n",
            "0.918\n",
            "0.9237\n",
            "0.92335\n",
            "0.9243833333333333\n",
            "0.9252833333333333\n",
            "0.9251\n",
            "0.9245\n",
            "0.9275\n",
            "0.9260166666666667\n",
            "0.9281333333333334\n",
            "accuracy train:  [85.51333333333334, 87.61166666666666, 88.47, 89.39833333333334, 89.89, 90.21666666666667, 90.48666666666666, 90.73833333333333, 91.14333333333333, 91.20666666666666, 91.47333333333333, 91.33833333333334, 91.53, 91.69833333333334, 91.89333333333335, 92.03333333333333, 92.095, 92.15833333333333, 91.98666666666668, 92.22666666666667, 91.8, 92.36999999999999, 92.335, 92.43833333333333, 92.52833333333334, 92.51, 92.45, 92.75, 92.60166666666667, 92.81333333333333]\n",
            "\n",
            "loss train:  [0.06369339860775065, 0.05147184937479574, 0.04623368941833653, 0.041795983275970436, 0.03935661689719918, 0.03744641121118475, 0.035912011456064694, 0.0349635475486433, 0.03335255712507303, 0.03281359017430367, 0.03205175821779265, 0.03229584976794143, 0.03147936569811949, 0.03066342305835095, 0.030203324981718186, 0.02963128546758932, 0.029306801598145273, 0.029090057530810134, 0.029483073547710202, 0.02878723269645712, 0.029654863835654098, 0.028254722459122587, 0.02806520083639099, 0.02749814992121297, 0.027632952685292585, 0.027311702451530553, 0.027454198659468656, 0.026987456282687658, 0.02718130360751639, 0.026520535342439817]\n",
            "\n",
            "accuracy valid:  [85.61, 87.47, 88.42999999999999, 88.94, 89.22, 89.83, 89.97, 90.05, 90.46, 90.73, 90.72, 90.53, 90.73, 90.93, 90.99000000000001, 91.16, 91.14999999999999, 91.36999999999999, 91.21000000000001, 91.4, 91.03, 91.36, 91.18, 91.67999999999999, 91.62, 91.62, 91.43, 91.64, 91.64, 92.12]\n",
            "\n",
            "loss valid:  [0.062327830803922186, 0.05116134658591834, 0.04632766510165345, 0.04324114602603883, 0.04102312533410559, 0.03900452268722582, 0.037979758233771706, 0.03692359688861586, 0.03588040971811917, 0.03512496494192861, 0.03436272288799944, 0.03550232489017352, 0.0340747089511392, 0.033490549898739605, 0.033142865077778166, 0.032619176770962516, 0.03256570340861797, 0.03203358567387138, 0.03223281470566321, 0.031987890351915696, 0.03283238550318734, 0.031792577524294985, 0.03141119694507946, 0.03102731224413656, 0.031101123192041093, 0.030653268475745368, 0.031153698657749668, 0.03112614885027071, 0.031023658486471078, 0.029983001521820235]\n"
          ]
        }
      ],
      "source": [
        "learning_rate: np.float64 = 0.005\n",
        "sgd = StochasticGradientDescent(train_data_x, train_data_y, test_data_x, test_data_y, learning_rate)\n",
        "\n",
        "print(\"accuracy train: \", sgd.get_accuracy('train'))\n",
        "print()\n",
        "print(\"loss train: \", sgd.get_loss('train'))\n",
        "print()\n",
        "print(\"accuracy valid: \", sgd.get_accuracy('valid'))\n",
        "print()\n",
        "print(\"loss valid: \", sgd.get_loss('valid'))"
      ]
    },
    {
      "cell_type": "code",
      "execution_count": null,
      "metadata": {
        "id": "lOifMkIWTmva",
        "outputId": "bfb8ab50-7a62-4cba-87b7-c5ac2c08520c"
      },
      "outputs": [
        {
          "data": {
            "image/png": "[encoded data removed]",
            "text/plain": [
              "<Figure size 576x576 with 2 Axes>"
            ]
          },
          "metadata": {
            "needs_background": "light"
          },
          "output_type": "display_data"
        }
      ],
      "source": [
        "plt.figure(figsize=[8,8])\n",
        "ax = plt.subplot(211)\n",
        "ax.set_ylabel('Loss',size=17)\n",
        "plt.plot(sgd.get_loss('train'),'#0000ff')\n",
        "plt.plot(sgd.get_loss('valid'),'#dd0000')\n",
        "plt.legend(['Train','Validation'],prop={'size':17})\n",
        "ax = plt.subplot(212)\n",
        "ax.set_ylabel('Precision (%)',size=17)\n",
        "plt.plot(sgd.get_accuracy('train'),'#0000ff')\n",
        "plt.plot(sgd.get_accuracy('valid'),'#dd0000')\n",
        "plt.legend(['Train','Validation'],prop={'size':17})\n",
        "plt.show()"
      ]
    },
    {
      "cell_type": "markdown",
      "metadata": {
        "id": "lsXB5rTdTmvb"
      },
      "source": [
        "上記のグラフの形式は、線形多クラス分析の演習問題の発表者（Inoue Akito氏）の方法を真似た"
      ]
    },
    {
      "cell_type": "markdown",
      "metadata": {
        "id": "xWBhzEEfrbnY"
      },
      "source": [
        "**(4) 適合率、再現率、F1スコア**\n",
        "\n",
        "(3)で学習したモデルに対して、評価データ上で以下の評価値を計算せよ。\n",
        "\n",
        "+ 各分類カテゴリに対する適合率、再現率、F1スコア\n",
        "+ 各カテゴリの適合率、再現率、F1スコアのマクロ平均を取ったもの<!-- 2(4) -->"
      ]
    },
    {
      "cell_type": "code",
      "execution_count": null,
      "metadata": {
        "id": "wt6N4oKxTmvb"
      },
      "outputs": [],
      "source": [
        "test_data_y_predictions = sgd.predict(test_data_x)"
      ]
    },
    {
      "cell_type": "markdown",
      "metadata": {
        "id": "CeKWMcalTmvb"
      },
      "source": [
        "sklearnを以下のように用いることで各分類カテゴリに対する適合率、再現率、F1スコアを簡単に求めることができる。\n",
        "[Documents](https://scikit-learn.org/stable/modules/generated/sklearn.metrics.classification_report.html)"
      ]
    },
    {
      "cell_type": "code",
      "execution_count": null,
      "metadata": {
        "id": "PlG4S6KOTmvc",
        "outputId": "0fef40e2-5e85-4406-9fb9-3ca00766381a"
      },
      "outputs": [
        {
          "name": "stdout",
          "output_type": "stream",
          "text": [
            "              precision    recall  f1-score   support\n",
            "\n",
            "           0       0.96      0.96      0.96       980\n",
            "           1       0.97      0.98      0.97      1135\n",
            "           2       0.92      0.89      0.91      1032\n",
            "           3       0.90      0.90      0.90      1010\n",
            "           4       0.93      0.93      0.93       982\n",
            "           5       0.90      0.86      0.88       892\n",
            "           6       0.93      0.96      0.94       958\n",
            "           7       0.92      0.93      0.93      1028\n",
            "           8       0.87      0.88      0.88       974\n",
            "           9       0.91      0.91      0.91      1009\n",
            "\n",
            "    accuracy                           0.92     10000\n",
            "   macro avg       0.92      0.92      0.92     10000\n",
            "weighted avg       0.92      0.92      0.92     10000\n",
            "\n"
          ]
        }
      ],
      "source": [
        "from sklearn.metrics import classification_report\n",
        "import pandas as pd\n",
        "\n",
        "print(classification_report(test_data_y, test_data_y_predictions))"
      ]
    },
    {
      "cell_type": "markdown",
      "metadata": {
        "id": "CjVO9MfETmvc"
      },
      "source": [
        "以下は正解率と各カテゴリのマクロ平均をとったものである"
      ]
    },
    {
      "cell_type": "code",
      "execution_count": null,
      "metadata": {
        "id": "fWAiZPMprb-9",
        "outputId": "f9d1c410-d2e2-4a97-b79e-ea3a7d999b3c"
      },
      "outputs": [
        {
          "name": "stdout",
          "output_type": "stream",
          "text": [
            "正解率 0.9212\n"
          ]
        }
      ],
      "source": [
        "from sklearn.metrics import accuracy_score\n",
        "print(\"正解率\", accuracy_score(test_data_y, test_data_y_predictions))"
      ]
    },
    {
      "cell_type": "code",
      "execution_count": null,
      "metadata": {
        "id": "KzODeEhzTmvd",
        "outputId": "48a3743b-fcb2-4b16-b8aa-cd2896800c16"
      },
      "outputs": [
        {
          "name": "stdout",
          "output_type": "stream",
          "text": [
            "適合率 0.9202896022725439\n"
          ]
        }
      ],
      "source": [
        "from sklearn.metrics import precision_score\n",
        "print(\"適合率\", precision_score(test_data_y, test_data_y_predictions, average='macro'))"
      ]
    },
    {
      "cell_type": "code",
      "execution_count": null,
      "metadata": {
        "id": "xM0am4QiTmvd",
        "outputId": "424fea1e-1c42-4787-acba-e8d0fe865c12"
      },
      "outputs": [
        {
          "name": "stdout",
          "output_type": "stream",
          "text": [
            "再現率 0.9200258282468464\n"
          ]
        }
      ],
      "source": [
        "from sklearn.metrics import recall_score\n",
        "print(\"再現率\", recall_score(test_data_y, test_data_y_predictions, average='macro'))"
      ]
    },
    {
      "cell_type": "code",
      "execution_count": null,
      "metadata": {
        "id": "W8daI88zTmvd",
        "outputId": "2df77fd2-6235-4584-fb8e-25739a2fe783"
      },
      "outputs": [
        {
          "name": "stdout",
          "output_type": "stream",
          "text": [
            "F1スコア 0.9200598948782013\n"
          ]
        }
      ],
      "source": [
        "from sklearn.metrics import f1_score\n",
        "print(\"F1スコア\", f1_score(test_data_y, test_data_y_predictions, average='macro'))"
      ]
    },
    {
      "cell_type": "markdown",
      "metadata": {
        "id": "I7nRdkY6rcta"
      },
      "source": [
        "**(5) 混同行列**\n",
        "\n",
        "(3)で学習したモデルに対して、評価データ上で混同行列を計算せよ。<!-- 2()5) -->"
      ]
    },
    {
      "cell_type": "code",
      "execution_count": null,
      "metadata": {
        "id": "axrENp6jTmve"
      },
      "outputs": [],
      "source": [
        "import pandas as pd\n",
        "import seaborn as sns\n",
        "from sklearn.metrics import confusion_matrix\n",
        "import matplotlib.pyplot as plt\n",
        "from matplotlib.colors import LogNorm"
      ]
    },
    {
      "cell_type": "code",
      "execution_count": null,
      "metadata": {
        "id": "w3ZaxQhergKk",
        "outputId": "83405798-fd41-49b7-cd2b-fdc49f9d5425"
      },
      "outputs": [
        {
          "data": {
            "image/png": "[encoded data removed]",
            "text/plain": [
              "<Figure size 1440x1008 with 2 Axes>"
            ]
          },
          "metadata": {
            "needs_background": "light"
          },
          "output_type": "display_data"
        }
      ],
      "source": [
        "# test_data_y_predictions = sgd.predict(test_data_x)\n",
        "\n",
        "labels = list(set(test_data_y)).sort() # 明らかに [i for i in range(10)]であるとわかっているのだが\n",
        "\n",
        "confusionMatrixData = confusion_matrix(test_data_y, test_data_y_predictions, labels=labels)\n",
        "dataframe_ConfusionMatrixData = pd.DataFrame(confusionMatrixData, index=labels, columns=labels)\n",
        "\n",
        "plt.figure(figsize=(20, 14))\n",
        "sns.heatmap(dataframe_ConfusionMatrixData, annot=True,norm=LogNorm(),cmap='Wistia')\n",
        "plt.xlabel('Predicted',size=20)\n",
        "plt.ylabel('Real',size=20)\n",
        "plt.show()"
      ]
    },
    {
      "cell_type": "markdown",
      "metadata": {
        "id": "pISpTT3irlRS"
      },
      "source": [
        "**(6) 失敗分析**\n",
        "\n",
        "評価データの中に、(3)で学習したモデルが正しく分類できないものがあることが通常である。分類に失敗する事例について、その原因を分析・考察せよ。<!-- 2(6) -->"
      ]
    },
    {
      "cell_type": "markdown",
      "metadata": {
        "id": "FyslOT7FTmvf"
      },
      "source": [
        "上記の混同行列から分かるように、2を8と誤って認識することや、3を5と誤って認識すること, 5を8と誤認識すること, 4を9と誤認識すること, 5を3と誤認識することなど、一定数判別が難しいものが存在しており、これらが正しく分類できていない。\n",
        "その理由として考えられるのは、今回のような手法は単層のニューラルネットワークと同様で、単層ニューラルネットワークにおけるXORがうまく分離できないことのように、線形分離が完全にはできないことに原因が存在すると考えられる。"
      ]
    },
    {
      "cell_type": "markdown",
      "metadata": {
        "id": "6iCbeLBmTmvj"
      },
      "source": [
        ""
      ]
    }
  ],
  "metadata": {
    "colab": {
      "collapsed_sections": [],
      "name": "ml2021_r2.ipynb",
      "provenance": []
    },
    "kernelspec": {
      "display_name": "Python 3",
      "name": "python3"
    },
    "language_info": {
      "codemirror_mode": {
        "name": "ipython",
        "version": 3
      },
      "file_extension": ".py",
      "mimetype": "text/x-python",
      "name": "python",
      "nbconvert_exporter": "python",
      "pygments_lexer": "ipython3",
      "version": "3.9.7"
    }
  },
  "nbformat": 4,
  "nbformat_minor": 0
}