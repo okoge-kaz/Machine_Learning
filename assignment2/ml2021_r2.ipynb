{
  "cells": [
    {
      "cell_type": "markdown",
      "metadata": {
        "id": "RTLfkWkboOF3"
      },
      "source": [
        "# 機械学習 課題2\n",
        "\n",
        "※ セルを増やしても大丈夫ですが、すでに書かれているセルの内容を変更しないで下さい。\n",
        "\n",
        "**この課題におけるベクトルは列ベクトルとします。**"
      ]
    },
    {
      "cell_type": "markdown",
      "metadata": {
        "id": "KYIRxvPuoQx4"
      },
      "source": [
        "## 1. ニューラルネットワークの順伝搬と逆伝搬"
      ]
    },
    {
      "cell_type": "markdown",
      "metadata": {
        "id": "sV67n0M1k9Ls"
      },
      "source": [
        "2次元の入力$\\pmb{x} \\in \\mathbb{R}^{2}$を受け取り、2次元の中間層$\\pmb{h} \\in \\mathbb{R}^{2}$を介して、$\\hat{y} \\in \\mathbb{R}$を出力する2層のニューラルネットワークを次式で定義する。\n",
        "\\begin{align*}\n",
        "\\hat{y} = \\sigma(\\pmb{h}^{\\top}\\pmb{q}+c), \\; \\pmb{h}=\\mathrm{ReLU}(\\pmb{W}\\pmb{x} + \\pmb{b})\n",
        "\\end{align*}\n",
        "ただし、$\\sigma$はシグモイド関数であり、$\\mathrm{ReLU}(a) = \\max(a, 0)$である。また、$\\pmb{W} \\in \\mathbb{R}^{2 \\times 2}, \\pmb{q} \\in \\mathbb{R}^{2}, b \\in \\mathbb{R}^2, c \\in \\mathbb{R}$はモデルのパラメータであり、以下に示す値に設定されているとする。\n",
        "\n",
        "\\begin{align}\n",
        "\\pmb{W} = \\begin{pmatrix}1 & 0 \\\\ 0 & -1\\end{pmatrix}, \\; \\pmb{q} = \\begin{pmatrix}1 \\\\ 1\\end{pmatrix}, \\; \\pmb{b} = \\begin{pmatrix}-0.5 \\\\ -1.5\\end{pmatrix}, \\; c = -0.5 .\n",
        "\\end{align}\n",
        "\n",
        "以下の問に答えよ。なお、計算は手計算でもプログラムを用いてもよいが、最終的な答えに至る経過が分かるように記述せよ。"
      ]
    },
    {
      "cell_type": "markdown",
      "metadata": {
        "id": "Pfv4k947lRwn"
      },
      "source": [
        "**(1) 中間層の計算**\n",
        "\n",
        "このモデルに入力$\\pmb{x}=\\begin{pmatrix}1 \\\\ -1\\end{pmatrix}$を与えたとき、中間層の値$\\pmb{h}$を求めよ。<!-- 1(1) -->"
      ]
    },
    {
      "cell_type": "code",
      "execution_count": null,
      "metadata": {
        "id": "OXx2rxJ_k9rO"
      },
      "outputs": [],
      "source": []
    },
    {
      "cell_type": "markdown",
      "metadata": {
        "id": "hjZ_Wox7mZNX"
      },
      "source": [
        "**(2) 出力の計算**\n",
        "\n",
        "このモデルに入力$\\pmb{x}=\\begin{pmatrix}1 \\\\ -1\\end{pmatrix}$を与えたとき、出力の値$\\hat{y}$を求めよ。<!-- 1(2) -->"
      ]
    },
    {
      "cell_type": "code",
      "execution_count": null,
      "metadata": {
        "id": "F_ufNDi8mkbN"
      },
      "outputs": [],
      "source": []
    },
    {
      "cell_type": "markdown",
      "metadata": {
        "id": "xhsjI0pmlQFl"
      },
      "source": [
        "**(3) 損失値の計算**\n",
        "\n",
        "ある学習事例$(\\pmb{x}, y) = \\left(\\begin{pmatrix}1 \\\\ -1 \\end{pmatrix}, 0\\right)$に対する、このニューラルネットワークのクロスエントロピー損失関数$\\mathcal{l}(y, \\hat{y})$の値を求めよ。<!-- 1(3) -->"
      ]
    },
    {
      "cell_type": "code",
      "execution_count": null,
      "metadata": {
        "id": "2qXlmICUlQaW"
      },
      "outputs": [],
      "source": []
    },
    {
      "cell_type": "markdown",
      "metadata": {
        "id": "fO8cCpA-nNMp"
      },
      "source": [
        "**(4) 勾配の計算**\n",
        "\n",
        "ある学習事例$(\\pmb{x}, y) = \\left(\\begin{pmatrix}1 \\\\ -1 \\end{pmatrix}, 0\\right)$に対して、このニューラルネットワークのクロスエントロピー損失関数$l(y, \\hat{y})$のパラメータに関する勾配、すなわち、$\\frac{\\partial l(y, \\hat{y})}{\\partial \\pmb{W}}$, $\\frac{\\partial l(y, \\hat{y})}{\\partial \\pmb{q}}$, $\\frac{\\partial l(y, \\hat{y})}{\\partial \\pmb{b}}$, $\\frac{\\partial l(y, \\hat{y})}{\\partial c}$を、それぞれ求めよ。<!-- 1(4) -->"
      ]
    },
    {
      "cell_type": "code",
      "execution_count": null,
      "metadata": {
        "id": "MUclJjnVnk1U"
      },
      "outputs": [],
      "source": []
    },
    {
      "cell_type": "markdown",
      "metadata": {
        "id": "UTuHY0stq5kR"
      },
      "source": [
        "## 2. 分類\n",
        "\n",
        "適切な題材を選び、分類モデル（二値分類でも多値分類でも何でも可）を学習せよ。ただし、以下の観点で採点を行うので、これらを満たすように解答せよ。"
      ]
    },
    {
      "cell_type": "markdown",
      "metadata": {
        "id": "BPmHxo_-sEw3"
      },
      "source": [
        "**(1) タスクの説明**\n",
        "\n",
        "選んだ分類タスクの概要（入力と出力が何であるか等）を説明せよ。<!-- 2(1) -->"
      ]
    },
    {
      "cell_type": "code",
      "execution_count": null,
      "metadata": {
        "id": "6zuS1UkgsbC9"
      },
      "outputs": [],
      "source": []
    },
    {
      "cell_type": "markdown",
      "metadata": {
        "id": "0F8RyEZPshF1"
      },
      "source": [
        "**(2) データの入手方法・構築方法**\n",
        "\n",
        "分類モデルを学習するための訓練データや評価データの入手方法を説明せよ。データを自作した場合は、作成方法を説明せよ。<!-- 2(2) -->"
      ]
    },
    {
      "cell_type": "code",
      "execution_count": null,
      "metadata": {
        "id": "c2-PlyRss3bV"
      },
      "outputs": [],
      "source": []
    },
    {
      "cell_type": "markdown",
      "metadata": {
        "id": "mKb_nuV3rXLP"
      },
      "source": [
        "**(3) モデルの学習**\n",
        "\n",
        "訓練データで分類モデルを確率的勾配降下法により学習せよ。このとき、各エポック毎に以下の評価値を計算し、グラフとして表示せよ。\n",
        "\n",
        "+ 訓練データ上の損失関数の値\n",
        "+ 訓練データ上の正解率\n",
        "+ 評価データ上の損失関数の値\n",
        "+ 評価データ上の正解率<!-- 2(3) -->"
      ]
    },
    {
      "cell_type": "code",
      "execution_count": null,
      "metadata": {
        "id": "puDKlkYWrX2r"
      },
      "outputs": [],
      "source": []
    },
    {
      "cell_type": "markdown",
      "metadata": {
        "id": "xWBhzEEfrbnY"
      },
      "source": [
        "**(4) 適合率、再現率、F1スコア**\n",
        "\n",
        "(3)で学習したモデルに対して、評価データ上で以下の評価値を計算せよ。\n",
        "\n",
        "+ 各分類カテゴリに対する適合率、再現率、F1スコア\n",
        "+ 各カテゴリの適合率、再現率、F1スコアのマクロ平均を取ったもの<!-- 2(4) -->"
      ]
    },
    {
      "cell_type": "code",
      "execution_count": null,
      "metadata": {
        "id": "fWAiZPMprb-9"
      },
      "outputs": [],
      "source": []
    },
    {
      "cell_type": "markdown",
      "metadata": {
        "id": "I7nRdkY6rcta"
      },
      "source": [
        "**(5) 混同行列**\n",
        "\n",
        "(3)で学習したモデルに対して、評価データ上で混同行列を計算せよ。<!-- 2()5) -->"
      ]
    },
    {
      "cell_type": "code",
      "execution_count": null,
      "metadata": {
        "id": "w3ZaxQhergKk"
      },
      "outputs": [],
      "source": []
    },
    {
      "cell_type": "markdown",
      "metadata": {
        "id": "pISpTT3irlRS"
      },
      "source": [
        "**(6) 失敗分析**\n",
        "\n",
        "評価データの中に、(3)で学習したモデルが正しく分類できないものがあることが通常である。分類に失敗する事例について、その原因を分析・考察せよ。<!-- 2(6) -->"
      ]
    },
    {
      "cell_type": "code",
      "execution_count": null,
      "metadata": {
        "id": "ixRJC25xrlx4"
      },
      "outputs": [],
      "source": []
    }
  ],
  "metadata": {
    "colab": {
      "collapsed_sections": [],
      "name": "ml2021-r2.ipynb",
      "provenance": []
    },
    "kernelspec": {
      "display_name": "Python 3",
      "name": "python3"
    },
    "language_info": {
      "name": "python",
      "version": "3.9.7"
    }
  },
  "nbformat": 4,
  "nbformat_minor": 0
}
