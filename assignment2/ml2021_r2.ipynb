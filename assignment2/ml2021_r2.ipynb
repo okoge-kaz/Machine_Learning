{
  "cells": [
    {
      "cell_type": "markdown",
      "metadata": {
        "id": "RTLfkWkboOF3"
      },
      "source": [
        "# 機械学習 課題2\n",
        "\n",
        "※ セルを増やしても大丈夫ですが、すでに書かれているセルの内容を変更しないで下さい。\n",
        "\n",
        "**この課題におけるベクトルは列ベクトルとします。**"
      ]
    },
    {
      "cell_type": "markdown",
      "metadata": {
        "id": "KYIRxvPuoQx4"
      },
      "source": [
        "## 1. ニューラルネットワークの順伝搬と逆伝搬"
      ]
    },
    {
      "cell_type": "markdown",
      "metadata": {
        "id": "sV67n0M1k9Ls"
      },
      "source": [
        "2次元の入力$\\pmb{x} \\in \\mathbb{R}^{2}$を受け取り、2次元の中間層$\\pmb{h} \\in \\mathbb{R}^{2}$を介して、$\\hat{y} \\in \\mathbb{R}$を出力する2層のニューラルネットワークを次式で定義する。\n",
        "\\begin{align*}\n",
        "\\hat{y} = \\sigma(\\pmb{h}^{\\top}\\pmb{q}+c), \\; \\pmb{h}=\\mathrm{ReLU}(\\pmb{W}\\pmb{x} + \\pmb{b})\n",
        "\\end{align*}\n",
        "ただし、$\\sigma$はシグモイド関数であり、$\\mathrm{ReLU}(a) = \\max(a, 0)$である。また、$\\pmb{W} \\in \\mathbb{R}^{2 \\times 2}, \\pmb{q} \\in \\mathbb{R}^{2}, b \\in \\mathbb{R}^2, c \\in \\mathbb{R}$はモデルのパラメータであり、以下に示す値に設定されているとする。\n",
        "\n",
        "\\begin{align}\n",
        "\\pmb{W} = \\begin{pmatrix}1 & 0 \\\\ 0 & -1\\end{pmatrix}, \\; \\pmb{q} = \\begin{pmatrix}1 \\\\ 1\\end{pmatrix}, \\; \\pmb{b} = \\begin{pmatrix}-0.5 \\\\ -1.5\\end{pmatrix}, \\; c = -0.5 .\n",
        "\\end{align}\n",
        "\n",
        "以下の問に答えよ。なお、計算は手計算でもプログラムを用いてもよいが、最終的な答えに至る経過が分かるように記述せよ。"
      ]
    },
    {
      "cell_type": "markdown",
      "metadata": {
        "id": "Pfv4k947lRwn"
      },
      "source": [
        "**(1) 中間層の計算**\n",
        "\n",
        "このモデルに入力$\\pmb{x}=\\begin{pmatrix}1 \\\\ -1\\end{pmatrix}$を与えたとき、中間層の値$\\pmb{h}$を求めよ。<!-- 1(1) -->"
      ]
    },
    {
      "cell_type": "code",
      "execution_count": 1,
      "metadata": {
        "id": "OXx2rxJ_k9rO"
      },
      "outputs": [
        {
          "name": "stdout",
          "output_type": "stream",
          "text": [
            "[0.5 0. ]\n"
          ]
        }
      ],
      "source": [
        "import numpy as np\n",
        "\n",
        "x: np.ndarray = np.array([1, -1]).T\n",
        "\n",
        "W: np.ndarray = np.array([[1, 0], [0, -1]])\n",
        "q: np.ndarray = np.array([1, 1])\n",
        "b: np.ndarray = np.array([-0.5, -1.5])\n",
        "c: np.float64 = -0.5\n",
        "\n",
        "def ReLU(value):\n",
        "    return np.maximum(value, 0)\n",
        "\n",
        "def sigmoid(value: np.float64):\n",
        "    if 0 <= value:\n",
        "        return 1 / (1 + np.exp(- value))\n",
        "    else:\n",
        "        return 1. - 1 / (1 + np.exp(value))\n",
        "\n",
        "h = ReLU(np.dot(W, x) + b)\n",
        "print(h)"
      ]
    },
    {
      "cell_type": "markdown",
      "metadata": {
        "id": "hjZ_Wox7mZNX"
      },
      "source": [
        "**(2) 出力の計算**\n",
        "\n",
        "このモデルに入力$\\pmb{x}=\\begin{pmatrix}1 \\\\ -1\\end{pmatrix}$を与えたとき、出力の値$\\hat{y}$を求めよ。<!-- 1(2) -->"
      ]
    },
    {
      "cell_type": "code",
      "execution_count": 2,
      "metadata": {
        "id": "F_ufNDi8mkbN"
      },
      "outputs": [
        {
          "name": "stdout",
          "output_type": "stream",
          "text": [
            "0.5\n"
          ]
        }
      ],
      "source": [
        "x: np.ndarray = np.array([1, -1]).T\n",
        "\n",
        "h = ReLU(np.dot(W, x) + b)\n",
        "y_hat: np.float64 = sigmoid(np.dot(h.T, q) + c)\n",
        "\n",
        "print(y_hat)"
      ]
    },
    {
      "cell_type": "markdown",
      "metadata": {
        "id": "xhsjI0pmlQFl"
      },
      "source": [
        "**(3) 損失値の計算**\n",
        "\n",
        "ある学習事例$(\\pmb{x}, y) = \\left(\\begin{pmatrix}1 \\\\ -1 \\end{pmatrix}, 0\\right)$に対する、このニューラルネットワークのクロスエントロピー損失関数$\\mathcal{l}(y, \\hat{y})$の値を求めよ。<!-- 1(3) -->"
      ]
    },
    {
      "cell_type": "code",
      "execution_count": 3,
      "metadata": {
        "id": "2qXlmICUlQaW"
      },
      "outputs": [
        {
          "name": "stdout",
          "output_type": "stream",
          "text": [
            "0.6931471805599453\n"
          ]
        }
      ],
      "source": [
        "def l_binary_cross_entropy(x: np.ndarray, y):\n",
        "\n",
        "    W: np.ndarray = np.array([[1, 0], [0, -1]])\n",
        "    q: np.ndarray = np.array([1, 1])\n",
        "    b: np.ndarray = np.array([-0.5, -1.5])\n",
        "    c: np.float64 = -0.5\n",
        "\n",
        "    h = ReLU(np.dot(W, x) + b)\n",
        "    y_hat = sigmoid(np.dot(h.T, q) + c)\n",
        "\n",
        "    return (-y * np.log(y_hat) - (1 - y) * np.log(1 - y_hat))\n",
        "\n",
        "x: np.ndarray = np.array([1, -1]).T\n",
        "y: np.float64 = 0.\n",
        "\n",
        "print(l_binary_cross_entropy(x, y))"
      ]
    },
    {
      "cell_type": "markdown",
      "metadata": {
        "id": "fO8cCpA-nNMp"
      },
      "source": [
        "**(4) 勾配の計算**\n",
        "\n",
        "ある学習事例$(\\pmb{x}, y) = \\left(\\begin{pmatrix}1 \\\\ -1 \\end{pmatrix}, 0\\right)$に対して、このニューラルネットワークのクロスエントロピー損失関数$l(y, \\hat{y})$のパラメータに関する勾配、すなわち、$\\frac{\\partial l(y, \\hat{y})}{\\partial \\pmb{W}}$, $\\frac{\\partial l(y, \\hat{y})}{\\partial \\pmb{q}}$, $\\frac{\\partial l(y, \\hat{y})}{\\partial \\pmb{b}}$, $\\frac{\\partial l(y, \\hat{y})}{\\partial c}$を、それぞれ求めよ。<!-- 1(4) -->"
      ]
    },
    {
      "cell_type": "code",
      "execution_count": 4,
      "metadata": {
        "id": "MUclJjnVnk1U"
      },
      "outputs": [],
      "source": [
        "import autograd\n",
        "import autograd.numpy as np\n",
        "\n",
        "def loss(w, x):\n",
        "    y = 0\n",
        "    q: np.ndarray = np.array([1, 1])\n",
        "    b: np.ndarray = np.array([-0.5, -1.5])\n",
        "    c: np.float64 = -0.5\n",
        "\n",
        "    h = ReLU(np.dot(w, x) + b)\n",
        "    y_hat = sigmoid(np.dot(h.T, q) + c)\n",
        "\n",
        "    return (-y * np.log(y_hat) - (1 - y) * np.log(1 - y_hat))\n",
        "\n",
        "x = np.array([1, -1]).T"
      ]
    },
    {
      "cell_type": "markdown",
      "metadata": {},
      "source": [
        "$\\frac{\\partial l(y, \\hat{y})}{\\partial \\pmb{W}}$"
      ]
    },
    {
      "cell_type": "code",
      "execution_count": 5,
      "metadata": {},
      "outputs": [
        {
          "ename": "TypeError",
          "evalue": "'list' object cannot be interpreted as an integer",
          "output_type": "error",
          "traceback": [
            "\u001b[0;31m---------------------------------------------------------------------------\u001b[0m",
            "\u001b[0;31mTypeError\u001b[0m                                 Traceback (most recent call last)",
            "\u001b[0;32m/var/folders/wl/l0q5d3r90b375sqc25hk_bsw0000gn/T/ipykernel_83519/4065544266.py\u001b[0m in \u001b[0;36m<module>\u001b[0;34m\u001b[0m\n\u001b[0;32m----> 1\u001b[0;31m \u001b[0mw\u001b[0m \u001b[0;34m=\u001b[0m \u001b[0mnp\u001b[0m\u001b[0;34m.\u001b[0m\u001b[0mndarray\u001b[0m\u001b[0;34m(\u001b[0m\u001b[0;34m[\u001b[0m\u001b[0;34m[\u001b[0m\u001b[0;36m1\u001b[0m\u001b[0;34m,\u001b[0m \u001b[0;36m0\u001b[0m\u001b[0;34m]\u001b[0m\u001b[0;34m,\u001b[0m \u001b[0;34m[\u001b[0m\u001b[0;36m0\u001b[0m\u001b[0;34m,\u001b[0m \u001b[0;34m-\u001b[0m\u001b[0;36m1\u001b[0m\u001b[0;34m]\u001b[0m\u001b[0;34m]\u001b[0m\u001b[0;34m)\u001b[0m\u001b[0;34m\u001b[0m\u001b[0;34m\u001b[0m\u001b[0m\n\u001b[0m\u001b[1;32m      2\u001b[0m \u001b[0;34m\u001b[0m\u001b[0m\n\u001b[1;32m      3\u001b[0m \u001b[0mgrad_loss\u001b[0m \u001b[0;34m=\u001b[0m \u001b[0mautograd\u001b[0m\u001b[0;34m.\u001b[0m\u001b[0mgrad\u001b[0m\u001b[0;34m(\u001b[0m\u001b[0mloss\u001b[0m\u001b[0;34m)\u001b[0m\u001b[0;34m\u001b[0m\u001b[0;34m\u001b[0m\u001b[0m\n\u001b[1;32m      4\u001b[0m \u001b[0;34m\u001b[0m\u001b[0m\n\u001b[1;32m      5\u001b[0m \u001b[0mprint\u001b[0m\u001b[0;34m(\u001b[0m\u001b[0mloss\u001b[0m\u001b[0;34m(\u001b[0m\u001b[0mw\u001b[0m\u001b[0;34m,\u001b[0m \u001b[0mx\u001b[0m\u001b[0;34m)\u001b[0m\u001b[0;34m)\u001b[0m\u001b[0;34m\u001b[0m\u001b[0;34m\u001b[0m\u001b[0m\n",
            "\u001b[0;31mTypeError\u001b[0m: 'list' object cannot be interpreted as an integer"
          ]
        }
      ],
      "source": [
        "w = np.ndarray([[1, 0], [0, -1]])\n",
        "\n",
        "grad_loss = autograd.grad(loss)\n",
        "\n",
        "print(loss(w, x))\n",
        "print(grad_loss(w, x))"
      ]
    },
    {
      "cell_type": "markdown",
      "metadata": {},
      "source": [
        "$\\frac{\\partial l(y, \\hat{y})}{\\partial \\pmb{q}}$"
      ]
    },
    {
      "cell_type": "code",
      "execution_count": 6,
      "metadata": {},
      "outputs": [
        {
          "ename": "ValueError",
          "evalue": "shapes (2,) and (1,1) not aligned: 2 (dim 0) != 1 (dim 0)",
          "output_type": "error",
          "traceback": [
            "\u001b[0;31m---------------------------------------------------------------------------\u001b[0m",
            "\u001b[0;31mValueError\u001b[0m                                Traceback (most recent call last)",
            "\u001b[0;32m/var/folders/wl/l0q5d3r90b375sqc25hk_bsw0000gn/T/ipykernel_83519/3892809693.py\u001b[0m in \u001b[0;36m<module>\u001b[0;34m\u001b[0m\n\u001b[1;32m     13\u001b[0m \u001b[0;34m\u001b[0m\u001b[0m\n\u001b[1;32m     14\u001b[0m \u001b[0mgrad_loss\u001b[0m \u001b[0;34m=\u001b[0m \u001b[0mautograd\u001b[0m\u001b[0;34m.\u001b[0m\u001b[0mgrad\u001b[0m\u001b[0;34m(\u001b[0m\u001b[0mloss\u001b[0m\u001b[0;34m)\u001b[0m\u001b[0;34m\u001b[0m\u001b[0;34m\u001b[0m\u001b[0m\n\u001b[0;32m---> 15\u001b[0;31m \u001b[0mprint\u001b[0m\u001b[0;34m(\u001b[0m\u001b[0mloss\u001b[0m\u001b[0;34m(\u001b[0m\u001b[0mq\u001b[0m\u001b[0;34m,\u001b[0m \u001b[0mx\u001b[0m\u001b[0;34m)\u001b[0m\u001b[0;34m)\u001b[0m\u001b[0;34m\u001b[0m\u001b[0;34m\u001b[0m\u001b[0m\n\u001b[0m\u001b[1;32m     16\u001b[0m \u001b[0mprint\u001b[0m\u001b[0;34m(\u001b[0m\u001b[0mgrad_loss\u001b[0m\u001b[0;34m(\u001b[0m\u001b[0mq\u001b[0m\u001b[0;34m,\u001b[0m \u001b[0mx\u001b[0m\u001b[0;34m)\u001b[0m\u001b[0;34m)\u001b[0m\u001b[0;34m\u001b[0m\u001b[0;34m\u001b[0m\u001b[0m\n",
            "\u001b[0;32m/var/folders/wl/l0q5d3r90b375sqc25hk_bsw0000gn/T/ipykernel_83519/3892809693.py\u001b[0m in \u001b[0;36mloss\u001b[0;34m(q, x)\u001b[0m\n\u001b[1;32m      6\u001b[0m     \u001b[0my\u001b[0m \u001b[0;34m=\u001b[0m \u001b[0;36m0\u001b[0m\u001b[0;34m\u001b[0m\u001b[0;34m\u001b[0m\u001b[0m\n\u001b[1;32m      7\u001b[0m     \u001b[0mh\u001b[0m \u001b[0;34m=\u001b[0m \u001b[0mReLU\u001b[0m\u001b[0;34m(\u001b[0m\u001b[0mnp\u001b[0m\u001b[0;34m.\u001b[0m\u001b[0mdot\u001b[0m\u001b[0;34m(\u001b[0m\u001b[0mW\u001b[0m\u001b[0;34m,\u001b[0m \u001b[0mx\u001b[0m\u001b[0;34m)\u001b[0m \u001b[0;34m+\u001b[0m \u001b[0mb\u001b[0m\u001b[0;34m)\u001b[0m\u001b[0;34m\u001b[0m\u001b[0;34m\u001b[0m\u001b[0m\n\u001b[0;32m----> 8\u001b[0;31m     \u001b[0my_hat\u001b[0m \u001b[0;34m=\u001b[0m \u001b[0msigmoid\u001b[0m\u001b[0;34m(\u001b[0m\u001b[0mnp\u001b[0m\u001b[0;34m.\u001b[0m\u001b[0mdot\u001b[0m\u001b[0;34m(\u001b[0m\u001b[0mh\u001b[0m\u001b[0;34m.\u001b[0m\u001b[0mT\u001b[0m\u001b[0;34m,\u001b[0m \u001b[0mq\u001b[0m\u001b[0;34m)\u001b[0m \u001b[0;34m+\u001b[0m \u001b[0mc\u001b[0m\u001b[0;34m)\u001b[0m\u001b[0;34m\u001b[0m\u001b[0;34m\u001b[0m\u001b[0m\n\u001b[0m\u001b[1;32m      9\u001b[0m \u001b[0;34m\u001b[0m\u001b[0m\n\u001b[1;32m     10\u001b[0m     \u001b[0;32mreturn\u001b[0m \u001b[0;34m(\u001b[0m\u001b[0;34m-\u001b[0m\u001b[0my\u001b[0m \u001b[0;34m*\u001b[0m \u001b[0mnp\u001b[0m\u001b[0;34m.\u001b[0m\u001b[0mlog\u001b[0m\u001b[0;34m(\u001b[0m\u001b[0my_hat\u001b[0m\u001b[0;34m)\u001b[0m \u001b[0;34m-\u001b[0m \u001b[0;34m(\u001b[0m\u001b[0;36m1\u001b[0m \u001b[0;34m-\u001b[0m \u001b[0my\u001b[0m\u001b[0;34m)\u001b[0m \u001b[0;34m*\u001b[0m \u001b[0mnp\u001b[0m\u001b[0;34m.\u001b[0m\u001b[0mlog\u001b[0m\u001b[0;34m(\u001b[0m\u001b[0;36m1\u001b[0m \u001b[0;34m-\u001b[0m \u001b[0my_hat\u001b[0m\u001b[0;34m)\u001b[0m\u001b[0;34m)\u001b[0m\u001b[0;34m\u001b[0m\u001b[0;34m\u001b[0m\u001b[0m\n",
            "\u001b[0;32m~/opt/anaconda3/lib/python3.9/site-packages/autograd/tracer.py\u001b[0m in \u001b[0;36mf_wrapped\u001b[0;34m(*args, **kwargs)\u001b[0m\n\u001b[1;32m     46\u001b[0m             \u001b[0;32mreturn\u001b[0m \u001b[0mnew_box\u001b[0m\u001b[0;34m(\u001b[0m\u001b[0mans\u001b[0m\u001b[0;34m,\u001b[0m \u001b[0mtrace\u001b[0m\u001b[0;34m,\u001b[0m \u001b[0mnode\u001b[0m\u001b[0;34m)\u001b[0m\u001b[0;34m\u001b[0m\u001b[0;34m\u001b[0m\u001b[0m\n\u001b[1;32m     47\u001b[0m         \u001b[0;32melse\u001b[0m\u001b[0;34m:\u001b[0m\u001b[0;34m\u001b[0m\u001b[0;34m\u001b[0m\u001b[0m\n\u001b[0;32m---> 48\u001b[0;31m             \u001b[0;32mreturn\u001b[0m \u001b[0mf_raw\u001b[0m\u001b[0;34m(\u001b[0m\u001b[0;34m*\u001b[0m\u001b[0margs\u001b[0m\u001b[0;34m,\u001b[0m \u001b[0;34m**\u001b[0m\u001b[0mkwargs\u001b[0m\u001b[0;34m)\u001b[0m\u001b[0;34m\u001b[0m\u001b[0;34m\u001b[0m\u001b[0m\n\u001b[0m\u001b[1;32m     49\u001b[0m     \u001b[0mf_wrapped\u001b[0m\u001b[0;34m.\u001b[0m\u001b[0mfun\u001b[0m \u001b[0;34m=\u001b[0m \u001b[0mf_raw\u001b[0m\u001b[0;34m\u001b[0m\u001b[0;34m\u001b[0m\u001b[0m\n\u001b[1;32m     50\u001b[0m     \u001b[0mf_wrapped\u001b[0m\u001b[0;34m.\u001b[0m\u001b[0m_is_autograd_primitive\u001b[0m \u001b[0;34m=\u001b[0m \u001b[0;32mTrue\u001b[0m\u001b[0;34m\u001b[0m\u001b[0;34m\u001b[0m\u001b[0m\n",
            "\u001b[0;32m<__array_function__ internals>\u001b[0m in \u001b[0;36mdot\u001b[0;34m(*args, **kwargs)\u001b[0m\n",
            "\u001b[0;31mValueError\u001b[0m: shapes (2,) and (1,1) not aligned: 2 (dim 0) != 1 (dim 0)"
          ]
        }
      ],
      "source": [
        "\n",
        "def loss(q: np.ndarray, x: np.ndarray):\n",
        "\n",
        "    W: np.ndarray = np.array([[1, 0], [0, -1]])\n",
        "    b: np.ndarray = np.array([-0.5, -1.5])\n",
        "    c: np.float64 = -0.5\n",
        "    y = 0\n",
        "    h = ReLU(np.dot(W, x) + b)\n",
        "    y_hat = sigmoid(np.dot(h.T, q) + c)\n",
        "\n",
        "    return (-y * np.log(y_hat) - (1 - y) * np.log(1 - y_hat))\n",
        "\n",
        "q: np.ndarray = np.ndarray([1, 1])\n",
        "\n",
        "grad_loss = autograd.grad(loss)\n",
        "print(loss(q, x))\n",
        "print(grad_loss(q, x))"
      ]
    },
    {
      "cell_type": "markdown",
      "metadata": {},
      "source": [
        "$\\frac{\\partial l(y, \\hat{y})}{\\partial \\pmb{b}}$"
      ]
    },
    {
      "cell_type": "code",
      "execution_count": null,
      "metadata": {},
      "outputs": [],
      "source": [
        "w = np.array([-0.5, -1.5])\n"
      ]
    },
    {
      "cell_type": "markdown",
      "metadata": {},
      "source": [
        "$\\frac{\\partial l(y, \\hat{y})}{\\partial c}$"
      ]
    },
    {
      "cell_type": "code",
      "execution_count": null,
      "metadata": {},
      "outputs": [],
      "source": [
        "w: np.float64 = -0.5"
      ]
    },
    {
      "cell_type": "markdown",
      "metadata": {
        "id": "UTuHY0stq5kR"
      },
      "source": [
        "## 2. 分類\n",
        "\n",
        "適切な題材を選び、分類モデル（二値分類でも多値分類でも何でも可）を学習せよ。ただし、以下の観点で採点を行うので、これらを満たすように解答せよ。"
      ]
    },
    {
      "cell_type": "markdown",
      "metadata": {
        "id": "BPmHxo_-sEw3"
      },
      "source": [
        "**(1) タスクの説明**\n",
        "\n",
        "選んだ分類タスクの概要（入力と出力が何であるか等）を説明せよ。<!-- 2(1) -->"
      ]
    },
    {
      "cell_type": "markdown",
      "metadata": {},
      "source": [
        "講義でも紹介されていた[MINIST](https://chokkan.github.io/mlnote/classification/02multi.html#:~:text=%E4%BB%8A%E5%9B%9E%E3%81%AF%E3%80%81-,MNIST,-%E3%82%92%E3%83%87%E3%83%BC%E3%82%BF%E3%81%A8%E3%81%97%E3%81%A6)のデータを用いて、入力が$28\\times28=754$ピクセルの画素値が入力であり、出力は0〜9までの数字のうちの１つである。"
      ]
    },
    {
      "cell_type": "markdown",
      "metadata": {
        "id": "0F8RyEZPshF1"
      },
      "source": [
        "**(2) データの入手方法・構築方法**\n",
        "\n",
        "分類モデルを学習するための訓練データや評価データの入手方法を説明せよ。データを自作した場合は、作成方法を説明せよ。<!-- 2(2) -->"
      ]
    },
    {
      "cell_type": "markdown",
      "metadata": {},
      "source": [
        "講義で用いられていたMINISTのデータを使用する。\n",
        "以下のコードは、6.12 付録 にて記されていたminist.npzを作成するコードを参考に、細部だけを変更したものである。\n",
        "(具体的には型情報と関数に対してのコメントを付加したのみで、本質的な動作を変更する処置は施していない。)"
      ]
    },
    {
      "cell_type": "code",
      "execution_count": 7,
      "metadata": {},
      "outputs": [],
      "source": [
        "import numpy as np\n",
        "import matplotlib.pyplot as plt\n",
        "import gzip\n",
        "import struct\n",
        "import urllib.request\n",
        "\n",
        "def read_image(fi) -> np.ndarray:\n",
        "    magic, n, rows, columns = struct.unpack(\">IIII\", fi.read(16))\n",
        "    assert magic == 0x00000803\n",
        "    assert rows == 28\n",
        "    assert columns == 28\n",
        "    rawbuffer = fi.read()\n",
        "    assert len(rawbuffer) == n * rows * columns\n",
        "    rawdata = np.frombuffer(rawbuffer, dtype='>u1', count=n*rows*columns)\n",
        "    return rawdata.reshape(n, rows, columns).astype(np.float32) / 255.0\n",
        "\n",
        "def read_label(fi):\n",
        "    magic, n = struct.unpack(\">II\", fi.read(8))\n",
        "    assert magic == 0x00000801\n",
        "    rawbuffer = fi.read()\n",
        "    assert len(rawbuffer) == n\n",
        "    return np.frombuffer(rawbuffer, dtype='>u1', count=n)\n",
        "\n",
        "def openurl_gzip(url):\n",
        "    request = urllib.request.Request(\n",
        "        url,\n",
        "        headers={\n",
        "            \"Accept-Encoding\": \"gzip\",\n",
        "            \"User-Agent\": \"Mozilla/5.0 (X11; U; Linux i686) Gecko/20071127 Firefox/2.0.0.11\", \n",
        "        })\n",
        "    response = urllib.request.urlopen(request)\n",
        "    return gzip.GzipFile(fileobj=response, mode='rb')\n",
        "\n",
        "\n",
        "np.savez_compressed(\n",
        "    'mnist',\n",
        "    train_x=read_image(openurl_gzip('http://yann.lecun.com/exdb/mnist/train-images-idx3-ubyte.gz')),\n",
        "    train_y=read_label(openurl_gzip('http://yann.lecun.com/exdb/mnist/train-labels-idx1-ubyte.gz')),\n",
        "    test_x=read_image(openurl_gzip('http://yann.lecun.com/exdb/mnist/t10k-images-idx3-ubyte.gz')),\n",
        "    test_y=read_label(openurl_gzip('http://yann.lecun.com/exdb/mnist/t10k-labels-idx1-ubyte.gz'))\n",
        ")"
      ]
    },
    {
      "cell_type": "code",
      "execution_count": 8,
      "metadata": {},
      "outputs": [],
      "source": [
        "data = np.load('mnist.npz')\n",
        "\n",
        "def image_to_vector(X):\n",
        "    '''flatten: (N * 28 * 28) -> (N * 784)'''\n",
        "    return np.reshape(X, (len(X), -1))\n",
        "\n",
        "train_data_x = image_to_vector(data['train_x'])\n",
        "train_data_y = data['train_y']\n",
        "\n",
        "test_data_x = image_to_vector(data['test_x'])\n",
        "test_data_y = data['test_y']"
      ]
    },
    {
      "cell_type": "markdown",
      "metadata": {
        "id": "mKb_nuV3rXLP"
      },
      "source": [
        "**(3) モデルの学習**\n",
        "\n",
        "訓練データで分類モデルを確率的勾配降下法により学習せよ。このとき、各エポック毎に以下の評価値を計算し、グラフとして表示せよ。\n",
        "\n",
        "+ 訓練データ上の損失関数の値\n",
        "+ 訓練データ上の正解率\n",
        "+ 評価データ上の損失関数の値\n",
        "+ 評価データ上の正解率<!-- 2(3) -->"
      ]
    },
    {
      "cell_type": "code",
      "execution_count": 32,
      "metadata": {
        "id": "puDKlkYWrX2r"
      },
      "outputs": [],
      "source": [
        "class StochasticGradientDescent:\n",
        "    '''SGD: 確率的勾配降下法'''\n",
        "    MAX_EPOCHS: int = 30 # 60000\n",
        "    INF: np.float64 = (1 << 30)\n",
        "\n",
        "    def __init__(self, train_data_x, train_data_y, test_data_x, test_data_y, learning_rate):\n",
        "        '''Constructor'''\n",
        "        self.train_SIZE: int = len(train_data_y)\n",
        "        self.test_SIZE: int = len(test_data_y)\n",
        "        # get the max and min value of the train_data_y\n",
        "        minimum_label: int = np.amin(train_data_y)\n",
        "        max_label: int = np.amax(train_data_y)\n",
        "        # y を単位行列を用いて変形\n",
        "        train_data_y_1h = np.eye(10)[train_data_y]\n",
        "        test_data_y_1h = np.eye(10)[test_data_y]\n",
        "        # 重みの初期値の設定\n",
        "        # self.W = np.ndarray(np.random.randint(minimum_label, max_label, len(train_data_x[0])))\n",
        "        self.W = np.random.randn(len(train_data_x[0]), 10)\n",
        "        # 学習率\n",
        "        self.learnig_rate = learning_rate\n",
        "        # 損失関数の値の配列\n",
        "        self.loss_train_data: list = []\n",
        "        self.loss_validation_data: list = []\n",
        "        # 正解率の値の配列\n",
        "        self.accuracy_train_data: list = []\n",
        "        self.accuracy_validation_data: list = []\n",
        "        # 確率的勾配降下法による更新\n",
        "        for index in range(self.MAX_EPOCHS):\n",
        "            # update sequence\n",
        "            self.__update_sequence(train_data_x, train_data_y_1h, self.train_SIZE)\n",
        "            # % 表記にして配列に追加する\n",
        "            # self.accuracy_train_data.append([self.__score(train_data_x, train_data_y) * 100]) : appendは遅いので\n",
        "            print(self.__score(train_data_x, train_data_y))\n",
        "            self.accuracy_train_data += [self.__score(train_data_x, train_data_y) * 100]\n",
        "            self.accuracy_validation_data += [self.__score(test_data_x, test_data_y) * 100]\n",
        "\n",
        "            # 損失関数の値を配列に追加する\n",
        "            self.loss_train_data += [self.__clac_loss(train_data_x, train_data_y_1h)]\n",
        "            self.loss_validation_data += [self.__clac_loss(test_data_x, test_data_y_1h)]\n",
        "\n",
        "    # @private\n",
        "    def __predict(self, X) -> int:\n",
        "        '''最も内積値が高いカテゴリを返す'''\n",
        "        return (np.dot(X, self.W)).argmax(1)\n",
        "    \n",
        "    def __score(self, X, Y):\n",
        "        '''正しいカテゴリを選べているかの平均'''\n",
        "        return self.__predict(X == Y).mean()\n",
        "    \n",
        "    def __update_sequence(self, train_data_x, train_data_y_1h, SIZE: int):\n",
        "        '''更新処理のための関数'''\n",
        "        for _ in range(SIZE):\n",
        "            id: int = np.random.randint(0, SIZE)\n",
        "            xn = train_data_x[id]\n",
        "            yn = train_data_y_1h[id]\n",
        "            h = np.dot(xn, self.W)\n",
        "            p = self.__softmax(h)\n",
        "            update = (yn- p) * self.learnig_rate\n",
        "            xn = xn.reshape((1, -1))\n",
        "            update = update.reshape((1, -1))\n",
        "            # print(\"x\", xn.shape)\n",
        "            # print(\"update\", update.shape)\n",
        "            self.W += np.dot(update.T, xn).T\n",
        "    \n",
        "    def __softmax(self, a):\n",
        "        ea = np.exp(a - np.max(a))\n",
        "        return ea / ea.sum()\n",
        "    \n",
        "    def __clac_loss(self, X, y):\n",
        "        return -(y * np.log(self.__softmax(np.dot(X, self.W)))).mean()\n",
        "\n",
        "    # @public\n",
        "    def get_loss(self, key: str):\n",
        "        '''損失関数の値を返す'''\n",
        "        if key == 'train':\n",
        "            return self.loss_train_data\n",
        "        else:\n",
        "            return self.loss_validation_data\n",
        "    \n",
        "    def get_accuracy(self, key: str):\n",
        "        '''正解率を返す'''\n",
        "        if key == 'train':\n",
        "            return self.accuracy_train_data\n",
        "        else:\n",
        "            return self.accuracy_validation_data\n",
        "\n"
      ]
    },
    {
      "cell_type": "code",
      "execution_count": 33,
      "metadata": {},
      "outputs": [
        {
          "name": "stderr",
          "output_type": "stream",
          "text": [
            "/var/folders/wl/l0q5d3r90b375sqc25hk_bsw0000gn/T/ipykernel_83519/930549250.py:48: DeprecationWarning: elementwise comparison failed; this will raise an error in the future.\n",
            "  return self.__predict(X == Y).mean()\n"
          ]
        },
        {
          "name": "stdout",
          "output_type": "stream",
          "text": [
            "0.0\n",
            "0.0\n",
            "0.0\n",
            "0.0\n",
            "0.0\n",
            "0.0\n",
            "0.0\n",
            "0.0\n",
            "0.0\n",
            "0.0\n",
            "0.0\n",
            "0.0\n",
            "0.0\n",
            "0.0\n",
            "0.0\n",
            "0.0\n",
            "0.0\n",
            "0.0\n",
            "0.0\n",
            "0.0\n",
            "0.0\n",
            "0.0\n",
            "0.0\n",
            "0.0\n",
            "0.0\n",
            "0.0\n",
            "0.0\n",
            "0.0\n",
            "0.0\n",
            "0.0\n",
            "accuracy train:  [0.0, 0.0, 0.0, 0.0, 0.0, 0.0, 0.0, 0.0, 0.0, 0.0, 0.0, 0.0, 0.0, 0.0, 0.0, 0.0, 0.0, 0.0, 0.0, 0.0, 0.0, 0.0, 0.0, 0.0, 0.0, 0.0, 0.0, 0.0, 0.0, 0.0]\n",
            "\n",
            "loss train:  [-4.953632153337234, -5.658911470867736, -6.165394849198364, -5.294701300119884, -5.012733722570418, -6.00596526504249, -5.2552265411626795, -5.920451518394424, -5.091410239979479, -6.319972441165902, -5.8837786862856385, -5.627179062845235, -6.758513419563611, -6.388837365201528, -6.5916983025578535, -5.887235303606436, -6.156211165429627, -7.371374374529033, -6.639514745467863, -6.104766325301119, -6.084105578139264, -6.343887066511904, -6.261026917177786, -6.72685631219811, -6.564122049719639, -6.50899210160749, -6.873640543625217, -6.842284309743862, -6.918070246580118, -7.3435326294806025]\n",
            "\n",
            "accuracy valid:  [0.0, 0.0, 0.0, 0.0, 0.0, 0.0, 0.0, 0.0, 0.0, 0.0, 0.0, 0.0, 0.0, 0.0, 0.0, 0.0, 0.0, 0.0, 0.0, 0.0, 0.0, 0.0, 0.0, 0.0, 0.0, 0.0, 0.0, 0.0, 0.0, 0.0]\n",
            "\n",
            "loss valid:  [-4.439729302804057, -5.158667376140246, -5.090218061936405, -5.285026599600371, -4.747355063725716, -5.252859144405394, -4.620947710493668, -4.821837459759173, -4.811589796796054, -5.593810381931156, -5.587271682268538, -5.414515182962987, -5.902946210216617, -5.927225603642835, -5.381264900581215, -5.448420997655295, -5.368119640165366, -6.041995112720226, -6.067048213268188, -5.811911730312208, -5.604061188423303, -6.091446004324168, -5.862923011008318, -6.392401339860673, -5.766979431628689, -5.43618160793803, -5.854467948962216, -5.548218696322223, -6.44204412291336, -5.830634053183505]\n"
          ]
        }
      ],
      "source": [
        "learning_rate: np.float64 = 0.07\n",
        "sgd = StochasticGradientDescent(train_data_x, train_data_y, test_data_x, test_data_y, learning_rate)\n",
        "\n",
        "print(\"accuracy train: \", sgd.get_accuracy('train'))\n",
        "print()\n",
        "print(\"loss train: \", sgd.get_loss('train'))\n",
        "print()\n",
        "print(\"accuracy valid: \", sgd.get_accuracy('valid'))\n",
        "print()\n",
        "print(\"loss valid: \", sgd.get_loss('valid'))"
      ]
    },
    {
      "cell_type": "code",
      "execution_count": 34,
      "metadata": {},
      "outputs": [
        {
          "data": {
            "image/png": "[encoded data removed]",
            "text/plain": [
              "<Figure size 576x576 with 2 Axes>"
            ]
          },
          "metadata": {
            "needs_background": "light"
          },
          "output_type": "display_data"
        }
      ],
      "source": [
        "plt.figure(figsize=[8,8])\n",
        "ax = plt.subplot(211)\n",
        "ax.set_ylabel('Loss',size=17)\n",
        "plt.plot(sgd.get_loss('train'),'#0000ff')\n",
        "plt.plot(sgd.get_loss('valid'),'#dd0000')\n",
        "plt.legend(['Train','Validation'],prop={'size':17})\n",
        "ax = plt.subplot(212)\n",
        "ax.set_ylabel('Precision (%)',size=17)\n",
        "plt.plot(sgd.get_accuracy('train'),'#0000ff')\n",
        "plt.plot(sgd.get_accuracy('valid'),'#dd0000')\n",
        "plt.legend(['Train','Validation'],prop={'size':17})\n",
        "plt.show()"
      ]
    },
    {
      "cell_type": "markdown",
      "metadata": {
        "id": "xWBhzEEfrbnY"
      },
      "source": [
        "**(4) 適合率、再現率、F1スコア**\n",
        "\n",
        "(3)で学習したモデルに対して、評価データ上で以下の評価値を計算せよ。\n",
        "\n",
        "+ 各分類カテゴリに対する適合率、再現率、F1スコア\n",
        "+ 各カテゴリの適合率、再現率、F1スコアのマクロ平均を取ったもの<!-- 2(4) -->"
      ]
    },
    {
      "cell_type": "code",
      "execution_count": null,
      "metadata": {
        "id": "fWAiZPMprb-9"
      },
      "outputs": [],
      "source": []
    },
    {
      "cell_type": "markdown",
      "metadata": {
        "id": "I7nRdkY6rcta"
      },
      "source": [
        "**(5) 混同行列**\n",
        "\n",
        "(3)で学習したモデルに対して、評価データ上で混同行列を計算せよ。<!-- 2()5) -->"
      ]
    },
    {
      "cell_type": "code",
      "execution_count": null,
      "metadata": {
        "id": "w3ZaxQhergKk"
      },
      "outputs": [],
      "source": []
    },
    {
      "cell_type": "markdown",
      "metadata": {
        "id": "pISpTT3irlRS"
      },
      "source": [
        "**(6) 失敗分析**\n",
        "\n",
        "評価データの中に、(3)で学習したモデルが正しく分類できないものがあることが通常である。分類に失敗する事例について、その原因を分析・考察せよ。<!-- 2(6) -->"
      ]
    },
    {
      "cell_type": "code",
      "execution_count": null,
      "metadata": {
        "id": "ixRJC25xrlx4"
      },
      "outputs": [],
      "source": []
    }
  ],
  "metadata": {
    "colab": {
      "collapsed_sections": [],
      "name": "ml2021-r2.ipynb",
      "provenance": []
    },
    "kernelspec": {
      "display_name": "Python 3",
      "name": "python3"
    },
    "language_info": {
      "codemirror_mode": {
        "name": "ipython",
        "version": 3
      },
      "file_extension": ".py",
      "mimetype": "text/x-python",
      "name": "python",
      "nbconvert_exporter": "python",
      "pygments_lexer": "ipython3",
      "version": "3.9.7"
    }
  },
  "nbformat": 4,
  "nbformat_minor": 0
}
