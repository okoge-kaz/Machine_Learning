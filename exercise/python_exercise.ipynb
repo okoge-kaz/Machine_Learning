{
  "cells": [
    {
      "cell_type": "markdown",
      "metadata": {
        "id": "Tm57MuilRXRp"
      },
      "source": [
        "# 演習問題"
      ]
    },
    {
      "cell_type": "code",
      "execution_count": 25,
      "metadata": {
        "id": "lXLWkEzAR09t"
      },
      "outputs": [
        {
          "name": "stdout",
          "output_type": "stream",
          "text": [
            "\u001b[33mDEPRECATION: Configuring installation scheme with distutils config files is deprecated and will no longer work in the near future. If you are using a Homebrew or Linuxbrew Python, please see discussion at https://github.com/Homebrew/homebrew-core/issues/76621\u001b[0m\n",
            "Requirement already satisfied: japanize-matplotlib in /usr/local/lib/python3.9/site-packages (1.1.3)\n",
            "Requirement already satisfied: matplotlib in /usr/local/lib/python3.9/site-packages (from japanize-matplotlib) (3.4.2)\n",
            "Requirement already satisfied: python-dateutil>=2.7 in /usr/local/lib/python3.9/site-packages (from matplotlib->japanize-matplotlib) (2.8.1)\n",
            "Requirement already satisfied: pillow>=6.2.0 in /usr/local/lib/python3.9/site-packages (from matplotlib->japanize-matplotlib) (8.2.0)\n",
            "Requirement already satisfied: numpy>=1.16 in /usr/local/lib/python3.9/site-packages (from matplotlib->japanize-matplotlib) (1.20.2)\n",
            "Requirement already satisfied: kiwisolver>=1.0.1 in /usr/local/lib/python3.9/site-packages (from matplotlib->japanize-matplotlib) (1.3.1)\n",
            "Requirement already satisfied: cycler>=0.10 in /usr/local/lib/python3.9/site-packages (from matplotlib->japanize-matplotlib) (0.10.0)\n",
            "Requirement already satisfied: pyparsing>=2.2.1 in /usr/local/lib/python3.9/site-packages (from matplotlib->japanize-matplotlib) (2.4.7)\n",
            "Requirement already satisfied: six in /usr/local/lib/python3.9/site-packages (from cycler>=0.10->matplotlib->japanize-matplotlib) (1.16.0)\n",
            "Note: you may need to restart the kernel to use updated packages.\n"
          ]
        }
      ],
      "source": [
        "%pip install japanize-matplotlib"
      ]
    },
    {
      "cell_type": "code",
      "execution_count": 26,
      "metadata": {
        "id": "cj0KE9zcRXRq"
      },
      "outputs": [],
      "source": [
        "import matplotlib\n",
        "import matplotlib.pyplot as plt\n",
        "import japanize_matplotlib\n",
        "import numpy as np"
      ]
    },
    {
      "cell_type": "markdown",
      "metadata": {
        "id": "mJqIl8mNRXRq"
      },
      "source": [
        "## 1. 基本的な計算"
      ]
    },
    {
      "cell_type": "markdown",
      "metadata": {
        "id": "018HwNnkRXRq"
      },
      "source": [
        "$2^{16}-1$を計算せよ．"
      ]
    },
    {
      "cell_type": "code",
      "execution_count": 27,
      "metadata": {
        "id": "U50mquUHRXRq",
        "tags": [
          "hide"
        ]
      },
      "outputs": [
        {
          "data": {
            "text/plain": [
              "65535"
            ]
          },
          "execution_count": 27,
          "metadata": {},
          "output_type": "execute_result"
        }
      ],
      "source": [
        "2**16-1"
      ]
    },
    {
      "cell_type": "markdown",
      "metadata": {
        "id": "xaklmOEsRXRq"
      },
      "source": [
        "## 2. 変数"
      ]
    },
    {
      "cell_type": "markdown",
      "metadata": {
        "id": "ipkUUaGkRXRq"
      },
      "source": [
        "変数$x = 3, y = 4$を定義して，$x^2 + 2xy + y^2$を計算せよ．"
      ]
    },
    {
      "cell_type": "code",
      "execution_count": 28,
      "metadata": {
        "id": "6JImcrs4RXRq",
        "tags": [
          "hide"
        ]
      },
      "outputs": [
        {
          "data": {
            "text/plain": [
              "49"
            ]
          },
          "execution_count": 28,
          "metadata": {},
          "output_type": "execute_result"
        }
      ],
      "source": [
        "x = 3\n",
        "y = 4\n",
        "ans = x**2 + 2*x*y + y**2 \n",
        "ans"
      ]
    },
    {
      "cell_type": "markdown",
      "metadata": {
        "id": "bieXSbMfRXRq"
      },
      "source": [
        "## 3. 実行制御"
      ]
    },
    {
      "cell_type": "markdown",
      "metadata": {
        "id": "eciviSDRRXRq"
      },
      "source": [
        "### 3.1) for文\n",
        "for文を使って，$s = \\displaystyle \\prod_{i=1}^{8} 2$を計算せよ．また，この計算結果と同じ結果を得ることができる演算をプログラムで説明せよ．"
      ]
    },
    {
      "cell_type": "code",
      "execution_count": 29,
      "metadata": {
        "id": "xbaGEIkORXRq"
      },
      "outputs": [
        {
          "data": {
            "text/plain": [
              "256"
            ]
          },
          "execution_count": 29,
          "metadata": {},
          "output_type": "execute_result"
        }
      ],
      "source": [
        "s = 1\n",
        "for i in range(8):\n",
        "    s *= 2\n",
        "s"
      ]
    },
    {
      "cell_type": "code",
      "execution_count": 30,
      "metadata": {
        "id": "0Dg2SsnBRXRr"
      },
      "outputs": [
        {
          "data": {
            "text/plain": [
              "256"
            ]
          },
          "execution_count": 30,
          "metadata": {},
          "output_type": "execute_result"
        }
      ],
      "source": [
        "s = 2 ** 8\n",
        "s"
      ]
    },
    {
      "cell_type": "code",
      "execution_count": 31,
      "metadata": {
        "id": "uLi-idkuRXRr",
        "tags": [
          "hide"
        ]
      },
      "outputs": [
        {
          "data": {
            "text/plain": [
              "256"
            ]
          },
          "execution_count": 31,
          "metadata": {},
          "output_type": "execute_result"
        }
      ],
      "source": [
        "def pow(x, n):\n",
        "    if n == 0:\n",
        "        return 1\n",
        "    # other case\n",
        "    if n % 2 == 0:\n",
        "        return pow(x*x, n//2)\n",
        "    else:\n",
        "        return x * pow(x, n-1)\n",
        "\n",
        "s = pow(2,8)\n",
        "s"
      ]
    },
    {
      "cell_type": "markdown",
      "metadata": {
        "id": "H6gtTCWLRXRr"
      },
      "source": [
        "### 3.2) if文"
      ]
    },
    {
      "cell_type": "markdown",
      "metadata": {
        "id": "kJ3cAampRXRr"
      },
      "source": [
        "$1$から$40$までの小さい順の整数に関して，$3$の倍数と$3$が付く整数には`aho`と表示し，$5$の倍数には`wan`と表示し，この2つの条件を満たす整数には`aho wan`と表示し，それ以外の整数にはその値を表示するプログラムを記述せよ．以下に出力の例を示す．\n",
        "\n",
        "```\n",
        "1 2 aho 4 wan aho 7 8 aho wan 11 aho aho 14 aho wan 16 17 aho 19 wan aho 22 aho aho wan 26 aho 28 29 aho wan aho aho aho aho aho wan aho aho aho aho wan\n",
        "```"
      ]
    },
    {
      "cell_type": "code",
      "execution_count": 32,
      "metadata": {
        "id": "Q0P27QZmRXRr",
        "tags": [
          "hide"
        ]
      },
      "outputs": [
        {
          "name": "stdout",
          "output_type": "stream",
          "text": [
            "1 2 aho 4 wan aho 7 8 aho wan 11 aho aho 14 aho wan 16 17 aho 19 wan aho 22 aho aho wan 26 aho 28 29 aho wan aho aho aho aho aho wan aho aho aho aho wan "
          ]
        }
      ],
      "source": [
        "def is_three(num):\n",
        "    if num % 3 == 0:\n",
        "        return True\n",
        "    elif '3' in str(num):\n",
        "        return True\n",
        "    else:\n",
        "        return False\n",
        "\n",
        "for i in range(1,41):\n",
        "    if is_three(i) and i % 5 == 0:\n",
        "        print(\"aho wan\", end=' ')\n",
        "    elif is_three(i):\n",
        "        print(\"aho\", end=' ')\n",
        "    elif i % 5 == 0:\n",
        "        print(\"wan\", end=' ')\n",
        "    else:\n",
        "        print(i, end=' ')\n"
      ]
    },
    {
      "cell_type": "markdown",
      "metadata": {
        "id": "BJhyngmORXRr"
      },
      "source": [
        "### 3.3) while文"
      ]
    },
    {
      "cell_type": "markdown",
      "metadata": {
        "id": "3P2RJiHdRXRs"
      },
      "source": [
        "[二分法](https://ja.wikipedia.org/wiki/%E4%BA%8C%E5%88%86%E6%B3%95)を使い，$f(x) = x^2 - 2 = 0$の解を$|f(x)| < 10^{-8}$の精度で求めるプログラムを記述せよ．"
      ]
    },
    {
      "cell_type": "code",
      "execution_count": 33,
      "metadata": {
        "id": "HkB8vvSTRXRs",
        "tags": [
          "hide"
        ]
      },
      "outputs": [
        {
          "name": "stdout",
          "output_type": "stream",
          "text": [
            "1.414213562922484\n"
          ]
        }
      ],
      "source": [
        "ok = 1e8\n",
        "ng = 0\n",
        "\n",
        "def check(mid):\n",
        "    if mid*mid - 2 > 0:\n",
        "        return True\n",
        "    else:\n",
        "        return False\n",
        "\n",
        "def check_fx(x):\n",
        "    if abs(x*x - 2) < 1/1e8:\n",
        "        return True\n",
        "    else:\n",
        "        return False\n",
        "\n",
        "while(not check_fx(ok)):\n",
        "    mid = (ok+ng)/2\n",
        "    if check(mid):\n",
        "        ok = mid\n",
        "    else:\n",
        "        ng = mid\n",
        "\n",
        "\n",
        "print(ok)"
      ]
    },
    {
      "cell_type": "markdown",
      "metadata": {
        "id": "4ZfoildzRXRs"
      },
      "source": [
        "## 4. 関数"
      ]
    },
    {
      "cell_type": "markdown",
      "metadata": {
        "id": "m_YmlaRuRXRs"
      },
      "source": [
        "### 4.1) 関数の定義\n",
        "\n",
        "2つの引数$x$と$y$を受け取り，$x^2 + y^2$を戻り値とするsquare関数を定義し，$x = 3, y = 4$を引数としてsquare関数を呼び出せ．"
      ]
    },
    {
      "cell_type": "code",
      "execution_count": 34,
      "metadata": {
        "id": "GKvqHn-7RXRs",
        "tags": [
          "hide"
        ]
      },
      "outputs": [
        {
          "data": {
            "text/plain": [
              "25"
            ]
          },
          "execution_count": 34,
          "metadata": {},
          "output_type": "execute_result"
        }
      ],
      "source": [
        "def square(x, y):\n",
        "    return x*x + y*y\n",
        "\n",
        "square(3, 4)"
      ]
    },
    {
      "cell_type": "markdown",
      "metadata": {
        "id": "R_To71zTRXRs"
      },
      "source": [
        "### 4.2) 再帰関数\n",
        "\n",
        "$x$と$y$を非負整数とする．以下の漸化式を再帰関数で実装し，$c_{8,6}$の値を求めよ．\n",
        "$$\n",
        "c_{x,y} = \\begin{cases}\n",
        "1 & (x = 0 \\vee y = 0) \\\\\n",
        "c_{x-1,y} + c_{x,y-1} & ({それ以外のとき}) \\\\\n",
        "\\end{cases}\n",
        "$$"
      ]
    },
    {
      "cell_type": "code",
      "execution_count": 35,
      "metadata": {
        "id": "64ozFn8oRXRs",
        "tags": [
          "hide"
        ]
      },
      "outputs": [
        {
          "name": "stdout",
          "output_type": "stream",
          "text": [
            "3003\n"
          ]
        }
      ],
      "source": [
        "def cxy(x, y):\n",
        "    if x == 0 or y == 0:\n",
        "        return 1\n",
        "    else:\n",
        "        return cxy(x-1,y) + cxy(x, y-1)\n",
        "\n",
        "print(cxy(8,6))"
      ]
    },
    {
      "cell_type": "markdown",
      "metadata": {
        "id": "vjhkkrYSRXRs"
      },
      "source": [
        "### 4.3) 関数オブジェクト\n",
        "\n",
        "方程式$f(x)=0$の解を[二分法](https://ja.wikipedia.org/wiki/%E4%BA%8C%E5%88%86%E6%B3%95)で求める関数bisectionを実装せよ．ただし，\n",
        "\n",
        "+ 第1引数（`func`）は値$x$を引数に受け取り，関数の値$f(x)$を戻り値とする関数オブジェクト\n",
        "+ 第2引数（`a`）は二分法を行う範囲の下限\n",
        "+ 第3引数（`b`）は二分法を行う範囲の上限\n",
        "\n",
        "とせよ．また，このbisection関数を用い，$f(x) = x^2 - 2 = 0$の解を求めよ（解は$|f(x)|<10^{-8}$くらいの精度で求めよ）．"
      ]
    },
    {
      "cell_type": "code",
      "execution_count": 36,
      "metadata": {
        "id": "SotwZz9GRXRs",
        "tags": [
          "hide"
        ]
      },
      "outputs": [
        {
          "name": "stdout",
          "output_type": "stream",
          "text": [
            "1.4142135623842478\n"
          ]
        }
      ],
      "source": [
        "def bisection(func, a, b):\n",
        "    x = ( a + b ) / 2\n",
        "    while True:\n",
        "        if -1e-8 < func(x) < 1e-8:\n",
        "            break\n",
        "        if func(x) > 0:\n",
        "            b, x = x, (a + x) / 2\n",
        "        else:\n",
        "            a, x = x, (b + x) / 2\n",
        "    return x\n",
        "\n",
        "def f(x):\n",
        "    return x ** 2 - 2\n",
        "\n",
        "a = 0\n",
        "b = 10\n",
        "\n",
        "print(bisection(f, a , b))"
      ]
    },
    {
      "cell_type": "markdown",
      "metadata": {
        "id": "XtmwlPKbRXRs"
      },
      "source": [
        "## 5. リスト"
      ]
    },
    {
      "cell_type": "markdown",
      "metadata": {
        "id": "BEcl-3lKRXRs"
      },
      "source": [
        "### 5.1) リストへの要素の追加\n",
        "\n",
        "$A$を$1$以上$20$以下の$2$の倍数を小さい順に並べたリスト，$B$を$1$以上$20$以下の$3$の倍数を小さい順に並べたリストとする．$A$と$B$の両方に含まれる要素を取り出し，空のリスト$C$に追加せよ．ただし，このプログラムではリスト以外のデータ構造（辞書や集合など）を用いないこととせよ．"
      ]
    },
    {
      "cell_type": "code",
      "execution_count": 37,
      "metadata": {
        "id": "qxYMF0cvRXRs",
        "tags": [
          "hide"
        ]
      },
      "outputs": [
        {
          "name": "stdout",
          "output_type": "stream",
          "text": [
            "[6, 12, 18]\n"
          ]
        }
      ],
      "source": [
        "A: list = []\n",
        "for i in range(1,21):\n",
        "    if i % 2 == 0:\n",
        "        A.append(i)\n",
        "B: list = []\n",
        "for i in range(1,21):\n",
        "    if i % 3 == 0:\n",
        "        B.append(i)\n",
        "\n",
        "C: list = []\n",
        "for i in range(1,21):\n",
        "    if i in A and i in B:\n",
        "        C.append(i)\n",
        "print(C)"
      ]
    },
    {
      "cell_type": "markdown",
      "metadata": {
        "id": "8hkWUInVRXRs"
      },
      "source": [
        "### 5.2) リストの作成\n",
        "$n = (0, 1, \\dots, 16)$に対して$2^n$の値を並べたリストを作成せよ．"
      ]
    },
    {
      "cell_type": "code",
      "execution_count": 38,
      "metadata": {
        "id": "ljGY4dQ_RXRs",
        "tags": [
          "hide"
        ]
      },
      "outputs": [
        {
          "name": "stdout",
          "output_type": "stream",
          "text": [
            "[1, 2, 4, 8, 16, 32, 64, 128, 256, 512, 1024, 2048, 4096, 8192, 16384, 32768, 65536]\n"
          ]
        }
      ],
      "source": [
        "res: list = []\n",
        "for i in range(17):\n",
        "    res.append(2**i)\n",
        "print(res)"
      ]
    },
    {
      "cell_type": "markdown",
      "metadata": {
        "id": "BHI8hjX8RXRs"
      },
      "source": [
        "### 5.3) 2次元配列\n",
        "\n",
        "$x$と$y$を非負整数とする．以下の漸化式を[動的計画法](https://ja.wikipedia.org/wiki/%E5%8B%95%E7%9A%84%E8%A8%88%E7%94%BB%E6%B3%95)で実装し，$c_{8,6}$の値を求めよ．\n",
        "$$\n",
        "c_{x,y} = \\begin{cases}\n",
        "1 & (x = 0 \\vee y = 0) \\\\\n",
        "c_{x-1,y} + c_{x,y-1} & ({それ以外のとき}) \\\\\n",
        "\\end{cases}\n",
        "$$"
      ]
    },
    {
      "cell_type": "code",
      "execution_count": 39,
      "metadata": {
        "id": "dng6wrLfRXRs",
        "tags": [
          "hide"
        ]
      },
      "outputs": [
        {
          "name": "stdout",
          "output_type": "stream",
          "text": [
            "3003\n"
          ]
        }
      ],
      "source": [
        "dp = [[0 for i in range(100)] for j in range(100)]\n",
        "for i in range(100):\n",
        "    dp[0][i] = 1\n",
        "    dp[i][0] = 1\n",
        "\n",
        "for i in range(1,100):\n",
        "    for j in range(100):\n",
        "        if i == 0 or j == 0:\n",
        "            continue\n",
        "        else:\n",
        "            dp[i][j] = dp[i-1][j] + dp[i][j-1]\n",
        "\n",
        "print(dp[8][6])"
      ]
    },
    {
      "cell_type": "markdown",
      "metadata": {
        "id": "wCkYbZyTRXRs"
      },
      "source": [
        "## 6. 文字列"
      ]
    },
    {
      "cell_type": "markdown",
      "metadata": {
        "id": "79B-tcbTRXRs"
      },
      "source": [
        "### 6.1) 「サスンリダッルパ」\n",
        "\n",
        "「サスンリダッルパ」という文字列を定義し，その文字列の1,3,5,7文字目を取り出して連結した文字列を得よ．ただし，文字列の先頭の文字は０番目とする（先頭のインデックスは０）．"
      ]
    },
    {
      "cell_type": "code",
      "execution_count": 40,
      "metadata": {
        "id": "JKnYvSRTRXRs",
        "tags": [
          "hide"
        ]
      },
      "outputs": [
        {
          "data": {
            "text/plain": [
              "'スリッパ'"
            ]
          },
          "execution_count": 40,
          "metadata": {},
          "output_type": "execute_result"
        }
      ],
      "source": [
        "string: str = \"サスンリダッルパ\"\n",
        "res_string: str = string[1] + string[3] + string[5] + string[7]\n",
        "res_string"
      ]
    },
    {
      "cell_type": "markdown",
      "metadata": {
        "id": "R_TNXJ7IRXRs"
      },
      "source": [
        "### 6.2) 「サンダル」＋「スリッパ」＝「サスンリダッルパ」\n",
        "\n",
        "「サンダル」＋「スリッパ」の文字を先頭から交互に連結して文字列「サスンリダッルパ」を得よ．"
      ]
    },
    {
      "cell_type": "code",
      "execution_count": 41,
      "metadata": {
        "id": "KEN6JWxZRXRs",
        "tags": [
          "hide"
        ]
      },
      "outputs": [
        {
          "data": {
            "text/plain": [
              "'サスンリダッルパ'"
            ]
          },
          "execution_count": 41,
          "metadata": {},
          "output_type": "execute_result"
        }
      ],
      "source": [
        "string_left: str = \"サンダル\"\n",
        "string_right: str = \"スリッパ\"\n",
        "\n",
        "ans_string: str = \"\"\n",
        "for i, c in enumerate(string_left):\n",
        "    ans_string += c\n",
        "    ans_string += string_right[i]\n",
        "\n",
        "ans_string"
      ]
    },
    {
      "cell_type": "markdown",
      "metadata": {
        "id": "L0Os0fEXRXRs"
      },
      "source": [
        "### 6.3) フォーマット文字列\n",
        "\n",
        "身長 (m) を変数`h`で表し，体重 (kg) を変数`w`で表すこととする．体重を身長の二乗で割ったBMI値を求め，身長と体重，BMIの値を「身長=###.#cm, 体重=##.#kg, BMI=##.##」というフォーマットの文字列に変換せよ．ただし，#は数字を表しており，身長と体重は小数点以下1位まで，BMIは小数点以下2位までの表示とせよ．たとえば，`h=1.8`, `w=80`のときは「身長=180.0cm, 体重=80.0kg, BMI=24.69」という文字列を作成したい．"
      ]
    },
    {
      "cell_type": "code",
      "execution_count": 42,
      "metadata": {
        "id": "xPNtbfspRXRs",
        "tags": [
          "hide"
        ]
      },
      "outputs": [
        {
          "data": {
            "text/plain": [
              "'「身長=180.0cm, 体重=80kg, BMI=24.69」'"
            ]
          },
          "execution_count": 42,
          "metadata": {},
          "output_type": "execute_result"
        }
      ],
      "source": [
        "def get_bmi(h: float, w: float):\n",
        "    return \"「身長={}cm, 体重={}kg, BMI={:02.2f}」\".format(h*100, w, (w / (h ** 2)))\n",
        "\n",
        "get_bmi(1.800, 80)"
      ]
    },
    {
      "cell_type": "markdown",
      "metadata": {
        "id": "NA_pMJQ_RXRs"
      },
      "source": [
        "### 6.4) 文字列の分割\n",
        "\n",
        "\"Now I need a drink, alcoholic of course, after the heavy lectures involving quantum mechanics.\"という文を単語に分解し，各単語の（アルファベットの）文字数を先頭から出現順に並べたリストを作成せよ．"
      ]
    },
    {
      "cell_type": "code",
      "execution_count": 43,
      "metadata": {
        "id": "pF2XwJycRXRs",
        "tags": [
          "hide"
        ]
      },
      "outputs": [
        {
          "name": "stdout",
          "output_type": "stream",
          "text": [
            "['Now', 'I', 'need', 'a', 'drink,', 'alcoholic', 'of', 'course,', 'after', 'the', 'heavy', 'lectures', 'involving', 'quantum', 'mechanics.']\n"
          ]
        }
      ],
      "source": [
        "string: str = \"Now I need a drink, alcoholic of course, after the heavy lectures involving quantum mechanics.\"\n",
        "ans: list = string.split(\" \")\n",
        "print(ans)"
      ]
    },
    {
      "cell_type": "markdown",
      "metadata": {
        "id": "-a_5b-ktRXRs"
      },
      "source": [
        "### 6.5) Typoglycemia\n",
        "\n",
        "スペースで区切られた単語列に対して，各単語の先頭と末尾の文字は残し，それ以外の文字の順序をランダムに並び替えるプログラムを作成せよ．ただし，長さが４以下の単語は並び替えないこととする．適当な英語の文（例えば\"I couldn’t believe that I could actually understand what I was reading : the phenomenal power of the human mind .\"）を与え，その実行結果を確認せよ．"
      ]
    },
    {
      "cell_type": "code",
      "execution_count": 44,
      "metadata": {
        "id": "KCO4U1KdRXRs",
        "tags": [
          "hide"
        ]
      },
      "outputs": [
        {
          "name": "stdout",
          "output_type": "stream",
          "text": [
            "['I', 'c’ludont', 'bivleee', 'that', 'I', 'cuold', 'acutllay', 'unnsaetrdd', 'what', 'I', 'was', 'rndiaeg', ':', 'the', 'peaonnemhl', 'poewr', 'of', 'the', 'hmaun', 'mind', '.']\n"
          ]
        }
      ],
      "source": [
        "string: str = \"I couldn’t believe that I could actually understand what I was reading : the phenomenal power of the human mind .\"\n",
        "string_list: list = string.split(\" \")\n",
        "\n",
        "import random\n",
        "\n",
        "ans: list = []\n",
        "for string in string_list:\n",
        "    if len(string) <= 4:\n",
        "        ans.append(string)\n",
        "        continue\n",
        "    tmp: str = string[0]\n",
        "    # operation\n",
        "    mean_string: str = string[1:-1]\n",
        "    # random sort \n",
        "    tmp += ''.join(random.sample(mean_string,len(mean_string)))\n",
        "    # operation end\n",
        "    tmp += string[-1]\n",
        "    ans.append(tmp)\n",
        "print(ans)"
      ]
    },
    {
      "cell_type": "markdown",
      "metadata": {
        "id": "juWN26_fRXRs"
      },
      "source": [
        "## 7. 辞書\n",
        "\n",
        "### 7-1) 出現頻度\n",
        "\"neko no ko koneko, shishi no ko kojishi.\"という文字列から全ての文字（空白や記号を含む）の出現回数を計測せよ．"
      ]
    },
    {
      "cell_type": "code",
      "execution_count": 45,
      "metadata": {
        "id": "_vIUracMRXRs",
        "tags": [
          "hide"
        ]
      },
      "outputs": [
        {
          "name": "stdout",
          "output_type": "stream",
          "text": [
            "{'n': 4, 'e': 2, 'k': 6, 'o': 8, ' ': 7, ',': 1, 's': 3, 'h': 3, 'i': 4, 'j': 1, '.': 1}\n"
          ]
        }
      ],
      "source": [
        "taraget_string: str = \"neko no ko koneko, shishi no ko kojishi.\"\n",
        "string_map: dict = {}\n",
        "for c in taraget_string:\n",
        "    if c in string_map:\n",
        "        string_map[c] += 1\n",
        "    else:\n",
        "        string_map[c] = 1\n",
        "\n",
        "print(string_map)"
      ]
    },
    {
      "cell_type": "markdown",
      "metadata": {
        "id": "X8Q0vmN7RXRs"
      },
      "source": [
        "### 7-2) ユニークなID番号への変換\n",
        "\"neko no ko koneko, shishi no ko kojishi.\"という文字列からスペース区切りで単語列（記号は単語から除去する）を取り出し，各単語をユニークなID番号の列に変換せよ．このとき，単語をID番号に変換するための辞書と，文字列をID番号列に変換した結果の両方を出力せよ．"
      ]
    },
    {
      "cell_type": "code",
      "execution_count": 46,
      "metadata": {
        "id": "yg8yXJMnRXRs",
        "tags": [
          "hide"
        ]
      },
      "outputs": [
        {
          "name": "stdout",
          "output_type": "stream",
          "text": [
            "{'neko': 1000, 'no': 1001, 'ko': 1002, 'koneko,': 1003, 'shishi': 1004, 'kojishi.': 1005}\n",
            "[1000, 1001, 1002, 1003, 1004, 1001, 1002, 1005]\n"
          ]
        }
      ],
      "source": [
        "string_list: list = taraget_string.split(\" \")\n",
        "string_dict: dict = {}\n",
        "id:  int = 1000\n",
        "for string in string_list:\n",
        "    if string not in string_dict:\n",
        "        string_dict[string] = id\n",
        "        id += 1\n",
        "    else:\n",
        "        pass\n",
        "\n",
        "print(string_dict)\n",
        "ans: list = []\n",
        "for string in string_list:\n",
        "    ans.append(string_dict[string])\n",
        "\n",
        "print(ans)"
      ]
    },
    {
      "cell_type": "markdown",
      "metadata": {
        "id": "TdXYPjfkRXRs"
      },
      "source": [
        "## 8. ファイルの入出力"
      ]
    },
    {
      "cell_type": "markdown",
      "metadata": {
        "id": "GCbyvW3RRXRs"
      },
      "source": [
        "### 8.1) ファイルのダウンロード\n",
        "\n",
        "東京都が公開している[新型コロナウイルス陽性患者のCSVファイル](https://stopcovid19.metro.tokyo.lg.jp/data/130001_tokyo_covid19_patients.csv)をダウンロードせよ．"
      ]
    },
    {
      "cell_type": "code",
      "execution_count": 47,
      "metadata": {
        "id": "1h9cywwwRXRs",
        "tags": [
          "hide"
        ]
      },
      "outputs": [],
      "source": [
        "import numpy as np\n",
        "import pandas as pd\n",
        "\n",
        "url: str = \"https://stopcovid19.metro.tokyo.lg.jp/data/130001_tokyo_covid19_patients.csv\"\n",
        "\n",
        "# csv_data = pd.read_csv(url)"
      ]
    },
    {
      "cell_type": "code",
      "execution_count": 48,
      "metadata": {},
      "outputs": [
        {
          "name": "stdout",
          "output_type": "stream",
          "text": [
            "zsh:1: command not found: wget\n"
          ]
        }
      ],
      "source": [
        "# #  ダウンロードするなら\n",
        "\n",
        "# import urllib.request\n",
        "\n",
        "# url: str = \"https://stopcovid19.metro.tokyo.lg.jp/data/130001_tokyo_covid19_patients.csv\"\n",
        "# save_name: str = 'data.csv'\n",
        "\n",
        "# urllib.request.urlretrieve(url, save_name)\n",
        "!wget https://stopcovid19.metro.tokyo.lg.jp/data/130001_tokyo_covid19_patients.csv"
      ]
    },
    {
      "cell_type": "code",
      "execution_count": 49,
      "metadata": {},
      "outputs": [],
      "source": [
        "import pandas as pd\n",
        "import numpy as np\n",
        "csv_data = pd.read_csv('tokyo_covid19_patients.csv')\n"
      ]
    },
    {
      "cell_type": "markdown",
      "metadata": {
        "id": "QIObpuJwRXRs"
      },
      "source": [
        "### 8.2) CSVファイルの読み込み \n",
        "\n",
        "ダウンロードしたCSVファイルを読み込み，\"患者_年代\"列で示される年代別の感染者の総数を求めよ．"
      ]
    },
    {
      "cell_type": "code",
      "execution_count": 50,
      "metadata": {
        "id": "nloE1JMMRXRs",
        "tags": [
          "hide"
        ]
      },
      "outputs": [
        {
          "data": {
            "text/html": [
              "<div>\n",
              "<style scoped>\n",
              "    .dataframe tbody tr th:only-of-type {\n",
              "        vertical-align: middle;\n",
              "    }\n",
              "\n",
              "    .dataframe tbody tr th {\n",
              "        vertical-align: top;\n",
              "    }\n",
              "\n",
              "    .dataframe thead th {\n",
              "        text-align: right;\n",
              "    }\n",
              "</style>\n",
              "<table border=\"1\" class=\"dataframe\">\n",
              "  <thead>\n",
              "    <tr style=\"text-align: right;\">\n",
              "      <th></th>\n",
              "      <th>No</th>\n",
              "      <th>全国地方公共団体コード</th>\n",
              "      <th>都道府県名</th>\n",
              "      <th>市区町村名</th>\n",
              "      <th>公表_年月日</th>\n",
              "      <th>発症_年月日</th>\n",
              "      <th>確定_年月日</th>\n",
              "      <th>患者_居住地</th>\n",
              "      <th>患者_年代</th>\n",
              "      <th>患者_性別</th>\n",
              "      <th>患者_職業</th>\n",
              "      <th>患者_状態</th>\n",
              "      <th>患者_症状</th>\n",
              "      <th>患者_渡航歴の有無フラグ</th>\n",
              "      <th>患者_接触歴の有無フラグ</th>\n",
              "      <th>備考</th>\n",
              "      <th>退院済フラグ</th>\n",
              "    </tr>\n",
              "  </thead>\n",
              "  <tbody>\n",
              "    <tr>\n",
              "      <th>0</th>\n",
              "      <td>1</td>\n",
              "      <td>130001</td>\n",
              "      <td>東京都</td>\n",
              "      <td>NaN</td>\n",
              "      <td>2020-01-24</td>\n",
              "      <td>NaN</td>\n",
              "      <td>NaN</td>\n",
              "      <td>湖北省武漢市</td>\n",
              "      <td>40代</td>\n",
              "      <td>男性</td>\n",
              "      <td>NaN</td>\n",
              "      <td>NaN</td>\n",
              "      <td>NaN</td>\n",
              "      <td>NaN</td>\n",
              "      <td>NaN</td>\n",
              "      <td>NaN</td>\n",
              "      <td>1.0</td>\n",
              "    </tr>\n",
              "    <tr>\n",
              "      <th>1</th>\n",
              "      <td>2</td>\n",
              "      <td>130001</td>\n",
              "      <td>東京都</td>\n",
              "      <td>NaN</td>\n",
              "      <td>2020-01-25</td>\n",
              "      <td>NaN</td>\n",
              "      <td>NaN</td>\n",
              "      <td>湖北省武漢市</td>\n",
              "      <td>30代</td>\n",
              "      <td>女性</td>\n",
              "      <td>NaN</td>\n",
              "      <td>NaN</td>\n",
              "      <td>NaN</td>\n",
              "      <td>NaN</td>\n",
              "      <td>NaN</td>\n",
              "      <td>NaN</td>\n",
              "      <td>1.0</td>\n",
              "    </tr>\n",
              "    <tr>\n",
              "      <th>2</th>\n",
              "      <td>3</td>\n",
              "      <td>130001</td>\n",
              "      <td>東京都</td>\n",
              "      <td>NaN</td>\n",
              "      <td>2020-01-30</td>\n",
              "      <td>NaN</td>\n",
              "      <td>NaN</td>\n",
              "      <td>湖南省長沙市</td>\n",
              "      <td>30代</td>\n",
              "      <td>女性</td>\n",
              "      <td>NaN</td>\n",
              "      <td>NaN</td>\n",
              "      <td>NaN</td>\n",
              "      <td>NaN</td>\n",
              "      <td>NaN</td>\n",
              "      <td>NaN</td>\n",
              "      <td>1.0</td>\n",
              "    </tr>\n",
              "    <tr>\n",
              "      <th>3</th>\n",
              "      <td>4</td>\n",
              "      <td>130001</td>\n",
              "      <td>東京都</td>\n",
              "      <td>NaN</td>\n",
              "      <td>2020-02-13</td>\n",
              "      <td>NaN</td>\n",
              "      <td>NaN</td>\n",
              "      <td>都内</td>\n",
              "      <td>70代</td>\n",
              "      <td>男性</td>\n",
              "      <td>NaN</td>\n",
              "      <td>NaN</td>\n",
              "      <td>NaN</td>\n",
              "      <td>NaN</td>\n",
              "      <td>NaN</td>\n",
              "      <td>NaN</td>\n",
              "      <td>1.0</td>\n",
              "    </tr>\n",
              "    <tr>\n",
              "      <th>4</th>\n",
              "      <td>5</td>\n",
              "      <td>130001</td>\n",
              "      <td>東京都</td>\n",
              "      <td>NaN</td>\n",
              "      <td>2020-02-14</td>\n",
              "      <td>NaN</td>\n",
              "      <td>NaN</td>\n",
              "      <td>都内</td>\n",
              "      <td>50代</td>\n",
              "      <td>女性</td>\n",
              "      <td>NaN</td>\n",
              "      <td>NaN</td>\n",
              "      <td>NaN</td>\n",
              "      <td>NaN</td>\n",
              "      <td>NaN</td>\n",
              "      <td>NaN</td>\n",
              "      <td>1.0</td>\n",
              "    </tr>\n",
              "    <tr>\n",
              "      <th>...</th>\n",
              "      <td>...</td>\n",
              "      <td>...</td>\n",
              "      <td>...</td>\n",
              "      <td>...</td>\n",
              "      <td>...</td>\n",
              "      <td>...</td>\n",
              "      <td>...</td>\n",
              "      <td>...</td>\n",
              "      <td>...</td>\n",
              "      <td>...</td>\n",
              "      <td>...</td>\n",
              "      <td>...</td>\n",
              "      <td>...</td>\n",
              "      <td>...</td>\n",
              "      <td>...</td>\n",
              "      <td>...</td>\n",
              "      <td>...</td>\n",
              "    </tr>\n",
              "    <tr>\n",
              "      <th>382319</th>\n",
              "      <td>377413</td>\n",
              "      <td>130001</td>\n",
              "      <td>東京都</td>\n",
              "      <td>NaN</td>\n",
              "      <td>2021-12-09</td>\n",
              "      <td>NaN</td>\n",
              "      <td>NaN</td>\n",
              "      <td>NaN</td>\n",
              "      <td>10代</td>\n",
              "      <td>女性</td>\n",
              "      <td>NaN</td>\n",
              "      <td>NaN</td>\n",
              "      <td>NaN</td>\n",
              "      <td>NaN</td>\n",
              "      <td>NaN</td>\n",
              "      <td>NaN</td>\n",
              "      <td>NaN</td>\n",
              "    </tr>\n",
              "    <tr>\n",
              "      <th>382320</th>\n",
              "      <td>377414</td>\n",
              "      <td>130001</td>\n",
              "      <td>東京都</td>\n",
              "      <td>NaN</td>\n",
              "      <td>2021-12-09</td>\n",
              "      <td>NaN</td>\n",
              "      <td>NaN</td>\n",
              "      <td>NaN</td>\n",
              "      <td>10歳未満</td>\n",
              "      <td>男性</td>\n",
              "      <td>NaN</td>\n",
              "      <td>NaN</td>\n",
              "      <td>NaN</td>\n",
              "      <td>NaN</td>\n",
              "      <td>NaN</td>\n",
              "      <td>NaN</td>\n",
              "      <td>NaN</td>\n",
              "    </tr>\n",
              "    <tr>\n",
              "      <th>382321</th>\n",
              "      <td>377415</td>\n",
              "      <td>130001</td>\n",
              "      <td>東京都</td>\n",
              "      <td>NaN</td>\n",
              "      <td>2021-12-09</td>\n",
              "      <td>NaN</td>\n",
              "      <td>NaN</td>\n",
              "      <td>NaN</td>\n",
              "      <td>10歳未満</td>\n",
              "      <td>男性</td>\n",
              "      <td>NaN</td>\n",
              "      <td>NaN</td>\n",
              "      <td>NaN</td>\n",
              "      <td>NaN</td>\n",
              "      <td>NaN</td>\n",
              "      <td>NaN</td>\n",
              "      <td>NaN</td>\n",
              "    </tr>\n",
              "    <tr>\n",
              "      <th>382322</th>\n",
              "      <td>377416</td>\n",
              "      <td>130001</td>\n",
              "      <td>東京都</td>\n",
              "      <td>NaN</td>\n",
              "      <td>2021-12-09</td>\n",
              "      <td>NaN</td>\n",
              "      <td>NaN</td>\n",
              "      <td>NaN</td>\n",
              "      <td>70代</td>\n",
              "      <td>男性</td>\n",
              "      <td>NaN</td>\n",
              "      <td>NaN</td>\n",
              "      <td>NaN</td>\n",
              "      <td>NaN</td>\n",
              "      <td>NaN</td>\n",
              "      <td>NaN</td>\n",
              "      <td>NaN</td>\n",
              "    </tr>\n",
              "    <tr>\n",
              "      <th>382323</th>\n",
              "      <td>377417</td>\n",
              "      <td>130001</td>\n",
              "      <td>東京都</td>\n",
              "      <td>NaN</td>\n",
              "      <td>2021-12-09</td>\n",
              "      <td>NaN</td>\n",
              "      <td>NaN</td>\n",
              "      <td>NaN</td>\n",
              "      <td>60代</td>\n",
              "      <td>男性</td>\n",
              "      <td>NaN</td>\n",
              "      <td>NaN</td>\n",
              "      <td>NaN</td>\n",
              "      <td>NaN</td>\n",
              "      <td>NaN</td>\n",
              "      <td>NaN</td>\n",
              "      <td>NaN</td>\n",
              "    </tr>\n",
              "  </tbody>\n",
              "</table>\n",
              "<p>382324 rows × 17 columns</p>\n",
              "</div>"
            ],
            "text/plain": [
              "            No  全国地方公共団体コード 都道府県名  市区町村名      公表_年月日 発症_年月日 確定_年月日  患者_居住地  \\\n",
              "0            1       130001   東京都    NaN  2020-01-24    NaN    NaN  湖北省武漢市   \n",
              "1            2       130001   東京都    NaN  2020-01-25    NaN    NaN  湖北省武漢市   \n",
              "2            3       130001   東京都    NaN  2020-01-30    NaN    NaN  湖南省長沙市   \n",
              "3            4       130001   東京都    NaN  2020-02-13    NaN    NaN      都内   \n",
              "4            5       130001   東京都    NaN  2020-02-14    NaN    NaN      都内   \n",
              "...        ...          ...   ...    ...         ...    ...    ...     ...   \n",
              "382319  377413       130001   東京都    NaN  2021-12-09    NaN    NaN     NaN   \n",
              "382320  377414       130001   東京都    NaN  2021-12-09    NaN    NaN     NaN   \n",
              "382321  377415       130001   東京都    NaN  2021-12-09    NaN    NaN     NaN   \n",
              "382322  377416       130001   東京都    NaN  2021-12-09    NaN    NaN     NaN   \n",
              "382323  377417       130001   東京都    NaN  2021-12-09    NaN    NaN     NaN   \n",
              "\n",
              "        患者_年代 患者_性別 患者_職業  患者_状態  患者_症状  患者_渡航歴の有無フラグ  患者_接触歴の有無フラグ  備考  \\\n",
              "0         40代    男性   NaN    NaN    NaN           NaN           NaN NaN   \n",
              "1         30代    女性   NaN    NaN    NaN           NaN           NaN NaN   \n",
              "2         30代    女性   NaN    NaN    NaN           NaN           NaN NaN   \n",
              "3         70代    男性   NaN    NaN    NaN           NaN           NaN NaN   \n",
              "4         50代    女性   NaN    NaN    NaN           NaN           NaN NaN   \n",
              "...       ...   ...   ...    ...    ...           ...           ...  ..   \n",
              "382319    10代    女性   NaN    NaN    NaN           NaN           NaN NaN   \n",
              "382320  10歳未満    男性   NaN    NaN    NaN           NaN           NaN NaN   \n",
              "382321  10歳未満    男性   NaN    NaN    NaN           NaN           NaN NaN   \n",
              "382322    70代    男性   NaN    NaN    NaN           NaN           NaN NaN   \n",
              "382323    60代    男性   NaN    NaN    NaN           NaN           NaN NaN   \n",
              "\n",
              "        退院済フラグ  \n",
              "0          1.0  \n",
              "1          1.0  \n",
              "2          1.0  \n",
              "3          1.0  \n",
              "4          1.0  \n",
              "...        ...  \n",
              "382319     NaN  \n",
              "382320     NaN  \n",
              "382321     NaN  \n",
              "382322     NaN  \n",
              "382323     NaN  \n",
              "\n",
              "[382324 rows x 17 columns]"
            ]
          },
          "execution_count": 50,
          "metadata": {},
          "output_type": "execute_result"
        }
      ],
      "source": [
        "csv_data"
      ]
    },
    {
      "cell_type": "code",
      "execution_count": 51,
      "metadata": {},
      "outputs": [
        {
          "name": "stdout",
          "output_type": "stream",
          "text": [
            "{'40代': 60414, '30代': 75636, '70代': 13309, '50代': 45506, '80代': 9278, '60代': 18941, '20代': 110276, '10歳未満': 16742, '90代': 3162, '10代': 28892, '不明': 6, '-': 8, '100歳以上': 154}\n"
          ]
        }
      ],
      "source": [
        "ans: dict = {}\n",
        "for generation in csv_data[\"患者_年代\"]:\n",
        "    if generation not in ans:\n",
        "        ans[generation] = 1\n",
        "    else:\n",
        "        ans[generation] += 1\n",
        "print(ans)"
      ]
    },
    {
      "cell_type": "markdown",
      "metadata": {
        "id": "EzTZAslYRXRs"
      },
      "source": [
        "### 8.3) CSVファイルの書き込み（難易度：高）\n",
        "\n",
        "ダウンロードしたCSVファイルを読み込み，公表年月日ごとに各年代の感染者数を求め，CSVファイルに保存せよ．なお，余力があればデータが欠損している日付は感染者数が0人として埋めよ．作成されると期待されるファイルの冒頭部分を以下に示す．\n",
        "\n",
        "```\n",
        "公表年月日,10歳未満,10代,20代,30代,40代,50代,60代,70代,80代,90代,100歳以上,不明,-,合計\n",
        "2020-01-24,0,0,0,0,1,0,0,0,0,0,0,0,0,1\n",
        "2020-01-25,0,0,0,1,0,0,0,0,0,0,0,0,0,1\n",
        "2020-01-26,0,0,0,0,0,0,0,0,0,0,0,0,0,0\n",
        "2020-01-27,0,0,0,0,0,0,0,0,0,0,0,0,0,0\n",
        "2020-01-28,0,0,0,0,0,0,0,0,0,0,0,0,0,0\n",
        "2020-01-29,0,0,0,0,0,0,0,0,0,0,0,0,0,0\n",
        "2020-01-30,0,0,0,1,0,0,0,0,0,0,0,0,0,1\n",
        "```\n",
        "\n",
        "2020年12月2日現在で作成したファイルを[tokyo-covid.csv](tokyo-covid.csv)として保存してあるので，実行結果の確認用に用いるとよい．"
      ]
    },
    {
      "cell_type": "code",
      "execution_count": 52,
      "metadata": {
        "id": "1aGMe7ypRXRs",
        "tags": [
          "hide"
        ]
      },
      "outputs": [
        {
          "name": "stdout",
          "output_type": "stream",
          "text": [
            "<class 'pandas.core.frame.DataFrame'>\n",
            "RangeIndex: 382324 entries, 0 to 382323\n",
            "Data columns (total 17 columns):\n",
            " #   Column        Non-Null Count   Dtype  \n",
            "---  ------        --------------   -----  \n",
            " 0   No            382324 non-null  int64  \n",
            " 1   全国地方公共団体コード   382324 non-null  int64  \n",
            " 2   都道府県名         382324 non-null  object \n",
            " 3   市区町村名         0 non-null       float64\n",
            " 4   公表_年月日        382324 non-null  object \n",
            " 5   発症_年月日        248552 non-null  object \n",
            " 6   確定_年月日        356528 non-null  object \n",
            " 7   患者_居住地        382307 non-null  object \n",
            " 8   患者_年代         382324 non-null  object \n",
            " 9   患者_性別         382324 non-null  object \n",
            " 10  患者_職業         356526 non-null  object \n",
            " 11  患者_状態         0 non-null       float64\n",
            " 12  患者_症状         0 non-null       float64\n",
            " 13  患者_渡航歴の有無フラグ  0 non-null       float64\n",
            " 14  患者_接触歴の有無フラグ  142620 non-null  float64\n",
            " 15  備考            0 non-null       float64\n",
            " 16  退院済フラグ        382107 non-null  float64\n",
            "dtypes: float64(7), int64(2), object(8)\n",
            "memory usage: 49.6+ MB\n"
          ]
        }
      ],
      "source": [
        "csv_data.info()"
      ]
    },
    {
      "cell_type": "code",
      "execution_count": 53,
      "metadata": {},
      "outputs": [],
      "source": [
        "# 公表年月日にはnon-nullとの表記があるのでとくに処理を行う必要がない\n",
        "# するなら pandas dataframeを直接用いるのが良さそう...\n",
        "csv_data = csv_data.T"
      ]
    },
    {
      "cell_type": "code",
      "execution_count": 54,
      "metadata": {
        "id": "g7F9roceRXRs",
        "tags": [
          "hide"
        ]
      },
      "outputs": [
        {
          "data": {
            "text/html": [
              "<div>\n",
              "<style scoped>\n",
              "    .dataframe tbody tr th:only-of-type {\n",
              "        vertical-align: middle;\n",
              "    }\n",
              "\n",
              "    .dataframe tbody tr th {\n",
              "        vertical-align: top;\n",
              "    }\n",
              "\n",
              "    .dataframe thead th {\n",
              "        text-align: right;\n",
              "    }\n",
              "</style>\n",
              "<table border=\"1\" class=\"dataframe\">\n",
              "  <thead>\n",
              "    <tr style=\"text-align: right;\">\n",
              "      <th></th>\n",
              "      <th>10歳未満</th>\n",
              "      <th>10代</th>\n",
              "      <th>20代</th>\n",
              "      <th>30代</th>\n",
              "      <th>40代</th>\n",
              "      <th>50代</th>\n",
              "      <th>60代</th>\n",
              "      <th>70代</th>\n",
              "      <th>80代</th>\n",
              "      <th>90代</th>\n",
              "      <th>100歳以上</th>\n",
              "      <th>不明</th>\n",
              "      <th>-</th>\n",
              "      <th>合計</th>\n",
              "    </tr>\n",
              "  </thead>\n",
              "  <tbody>\n",
              "    <tr>\n",
              "      <th>2020-01-24</th>\n",
              "      <td>0.0</td>\n",
              "      <td>0.0</td>\n",
              "      <td>0.0</td>\n",
              "      <td>0.0</td>\n",
              "      <td>1.0</td>\n",
              "      <td>0.0</td>\n",
              "      <td>0.0</td>\n",
              "      <td>0.0</td>\n",
              "      <td>0.0</td>\n",
              "      <td>0.0</td>\n",
              "      <td>0.0</td>\n",
              "      <td>0.0</td>\n",
              "      <td>0.0</td>\n",
              "      <td>1.0</td>\n",
              "    </tr>\n",
              "    <tr>\n",
              "      <th>2020-01-25</th>\n",
              "      <td>0.0</td>\n",
              "      <td>0.0</td>\n",
              "      <td>0.0</td>\n",
              "      <td>1.0</td>\n",
              "      <td>0.0</td>\n",
              "      <td>0.0</td>\n",
              "      <td>0.0</td>\n",
              "      <td>0.0</td>\n",
              "      <td>0.0</td>\n",
              "      <td>0.0</td>\n",
              "      <td>0.0</td>\n",
              "      <td>0.0</td>\n",
              "      <td>0.0</td>\n",
              "      <td>1.0</td>\n",
              "    </tr>\n",
              "    <tr>\n",
              "      <th>2020-01-30</th>\n",
              "      <td>0.0</td>\n",
              "      <td>0.0</td>\n",
              "      <td>0.0</td>\n",
              "      <td>1.0</td>\n",
              "      <td>0.0</td>\n",
              "      <td>0.0</td>\n",
              "      <td>0.0</td>\n",
              "      <td>0.0</td>\n",
              "      <td>0.0</td>\n",
              "      <td>0.0</td>\n",
              "      <td>0.0</td>\n",
              "      <td>0.0</td>\n",
              "      <td>0.0</td>\n",
              "      <td>1.0</td>\n",
              "    </tr>\n",
              "    <tr>\n",
              "      <th>2020-02-13</th>\n",
              "      <td>0.0</td>\n",
              "      <td>0.0</td>\n",
              "      <td>0.0</td>\n",
              "      <td>0.0</td>\n",
              "      <td>0.0</td>\n",
              "      <td>0.0</td>\n",
              "      <td>0.0</td>\n",
              "      <td>1.0</td>\n",
              "      <td>0.0</td>\n",
              "      <td>0.0</td>\n",
              "      <td>0.0</td>\n",
              "      <td>0.0</td>\n",
              "      <td>0.0</td>\n",
              "      <td>1.0</td>\n",
              "    </tr>\n",
              "    <tr>\n",
              "      <th>2020-02-14</th>\n",
              "      <td>0.0</td>\n",
              "      <td>0.0</td>\n",
              "      <td>0.0</td>\n",
              "      <td>0.0</td>\n",
              "      <td>0.0</td>\n",
              "      <td>1.0</td>\n",
              "      <td>0.0</td>\n",
              "      <td>1.0</td>\n",
              "      <td>0.0</td>\n",
              "      <td>0.0</td>\n",
              "      <td>0.0</td>\n",
              "      <td>0.0</td>\n",
              "      <td>0.0</td>\n",
              "      <td>2.0</td>\n",
              "    </tr>\n",
              "    <tr>\n",
              "      <th>...</th>\n",
              "      <td>...</td>\n",
              "      <td>...</td>\n",
              "      <td>...</td>\n",
              "      <td>...</td>\n",
              "      <td>...</td>\n",
              "      <td>...</td>\n",
              "      <td>...</td>\n",
              "      <td>...</td>\n",
              "      <td>...</td>\n",
              "      <td>...</td>\n",
              "      <td>...</td>\n",
              "      <td>...</td>\n",
              "      <td>...</td>\n",
              "      <td>...</td>\n",
              "    </tr>\n",
              "    <tr>\n",
              "      <th>2021-12-05</th>\n",
              "      <td>0.0</td>\n",
              "      <td>1.0</td>\n",
              "      <td>4.0</td>\n",
              "      <td>2.0</td>\n",
              "      <td>6.0</td>\n",
              "      <td>2.0</td>\n",
              "      <td>4.0</td>\n",
              "      <td>1.0</td>\n",
              "      <td>0.0</td>\n",
              "      <td>0.0</td>\n",
              "      <td>0.0</td>\n",
              "      <td>0.0</td>\n",
              "      <td>0.0</td>\n",
              "      <td>20.0</td>\n",
              "    </tr>\n",
              "    <tr>\n",
              "      <th>2021-12-06</th>\n",
              "      <td>0.0</td>\n",
              "      <td>1.0</td>\n",
              "      <td>2.0</td>\n",
              "      <td>1.0</td>\n",
              "      <td>1.0</td>\n",
              "      <td>0.0</td>\n",
              "      <td>0.0</td>\n",
              "      <td>2.0</td>\n",
              "      <td>0.0</td>\n",
              "      <td>0.0</td>\n",
              "      <td>0.0</td>\n",
              "      <td>0.0</td>\n",
              "      <td>0.0</td>\n",
              "      <td>7.0</td>\n",
              "    </tr>\n",
              "    <tr>\n",
              "      <th>2021-12-07</th>\n",
              "      <td>1.0</td>\n",
              "      <td>3.0</td>\n",
              "      <td>3.0</td>\n",
              "      <td>3.0</td>\n",
              "      <td>2.0</td>\n",
              "      <td>3.0</td>\n",
              "      <td>1.0</td>\n",
              "      <td>1.0</td>\n",
              "      <td>2.0</td>\n",
              "      <td>0.0</td>\n",
              "      <td>0.0</td>\n",
              "      <td>0.0</td>\n",
              "      <td>0.0</td>\n",
              "      <td>19.0</td>\n",
              "    </tr>\n",
              "    <tr>\n",
              "      <th>2021-12-08</th>\n",
              "      <td>1.0</td>\n",
              "      <td>4.0</td>\n",
              "      <td>6.0</td>\n",
              "      <td>2.0</td>\n",
              "      <td>4.0</td>\n",
              "      <td>1.0</td>\n",
              "      <td>2.0</td>\n",
              "      <td>1.0</td>\n",
              "      <td>0.0</td>\n",
              "      <td>0.0</td>\n",
              "      <td>0.0</td>\n",
              "      <td>0.0</td>\n",
              "      <td>0.0</td>\n",
              "      <td>21.0</td>\n",
              "    </tr>\n",
              "    <tr>\n",
              "      <th>2021-12-09</th>\n",
              "      <td>2.0</td>\n",
              "      <td>3.0</td>\n",
              "      <td>2.0</td>\n",
              "      <td>2.0</td>\n",
              "      <td>2.0</td>\n",
              "      <td>4.0</td>\n",
              "      <td>1.0</td>\n",
              "      <td>1.0</td>\n",
              "      <td>0.0</td>\n",
              "      <td>0.0</td>\n",
              "      <td>0.0</td>\n",
              "      <td>0.0</td>\n",
              "      <td>0.0</td>\n",
              "      <td>17.0</td>\n",
              "    </tr>\n",
              "  </tbody>\n",
              "</table>\n",
              "<p>660 rows × 14 columns</p>\n",
              "</div>"
            ],
            "text/plain": [
              "            10歳未満  10代  20代  30代  40代  50代  60代  70代  80代  90代  100歳以上   不明  \\\n",
              "2020-01-24    0.0  0.0  0.0  0.0  1.0  0.0  0.0  0.0  0.0  0.0     0.0  0.0   \n",
              "2020-01-25    0.0  0.0  0.0  1.0  0.0  0.0  0.0  0.0  0.0  0.0     0.0  0.0   \n",
              "2020-01-30    0.0  0.0  0.0  1.0  0.0  0.0  0.0  0.0  0.0  0.0     0.0  0.0   \n",
              "2020-02-13    0.0  0.0  0.0  0.0  0.0  0.0  0.0  1.0  0.0  0.0     0.0  0.0   \n",
              "2020-02-14    0.0  0.0  0.0  0.0  0.0  1.0  0.0  1.0  0.0  0.0     0.0  0.0   \n",
              "...           ...  ...  ...  ...  ...  ...  ...  ...  ...  ...     ...  ...   \n",
              "2021-12-05    0.0  1.0  4.0  2.0  6.0  2.0  4.0  1.0  0.0  0.0     0.0  0.0   \n",
              "2021-12-06    0.0  1.0  2.0  1.0  1.0  0.0  0.0  2.0  0.0  0.0     0.0  0.0   \n",
              "2021-12-07    1.0  3.0  3.0  3.0  2.0  3.0  1.0  1.0  2.0  0.0     0.0  0.0   \n",
              "2021-12-08    1.0  4.0  6.0  2.0  4.0  1.0  2.0  1.0  0.0  0.0     0.0  0.0   \n",
              "2021-12-09    2.0  3.0  2.0  2.0  2.0  4.0  1.0  1.0  0.0  0.0     0.0  0.0   \n",
              "\n",
              "              -    合計  \n",
              "2020-01-24  0.0   1.0  \n",
              "2020-01-25  0.0   1.0  \n",
              "2020-01-30  0.0   1.0  \n",
              "2020-02-13  0.0   1.0  \n",
              "2020-02-14  0.0   2.0  \n",
              "...         ...   ...  \n",
              "2021-12-05  0.0  20.0  \n",
              "2021-12-06  0.0   7.0  \n",
              "2021-12-07  0.0  19.0  \n",
              "2021-12-08  0.0  21.0  \n",
              "2021-12-09  0.0  17.0  \n",
              "\n",
              "[660 rows x 14 columns]"
            ]
          },
          "execution_count": 54,
          "metadata": {},
          "output_type": "execute_result"
        }
      ],
      "source": [
        "output: dict = {}\n",
        "\n",
        "for id in range(len(csv_data.columns)):\n",
        "    if csv_data[id]['公表_年月日'] not in output:\n",
        "        output[csv_data[id]['公表_年月日']] = {}\n",
        "        output[csv_data[id]['公表_年月日']][csv_data[id]['患者_年代']] = 1\n",
        "        output[csv_data[id]['公表_年月日']]['合計'] = 1\n",
        "    else:\n",
        "        if csv_data[id]['患者_年代'] not in output[csv_data[id]['公表_年月日']]:\n",
        "            output[csv_data[id]['公表_年月日']][csv_data[id]['患者_年代']] = 1\n",
        "        else:\n",
        "            output[csv_data[id]['公表_年月日']][csv_data[id]['患者_年代']] += 1\n",
        "        output[csv_data[id]['公表_年月日']]['合計'] += 1\n",
        "\n",
        "df = pd.DataFrame(output, index=['10歳未満','10代','20代','30代','40代','50代','60代','70代','80代','90代','100歳以上','不明','-','合計'])\n",
        "df = df.T\n",
        "df = df.fillna(0)\n",
        "\n",
        "df.to_csv('output.csv', encoding='utf-8')\n",
        "df\n"
      ]
    },
    {
      "cell_type": "markdown",
      "metadata": {
        "id": "4u0tJAawRXRs"
      },
      "source": [
        "## 9. NumPy"
      ]
    },
    {
      "cell_type": "markdown",
      "metadata": {
        "id": "r2QKjvgyRXRs"
      },
      "source": [
        "### 9-1) ベクトルの作成\n",
        "\n",
        "$n = 1, 2, 3, 4, 5$に対して，$1 / n^2$の値を数列として並べよ．"
      ]
    },
    {
      "cell_type": "code",
      "execution_count": 55,
      "metadata": {
        "id": "a0BuctCFRXRs",
        "tags": [
          "hide"
        ]
      },
      "outputs": [
        {
          "name": "stdout",
          "output_type": "stream",
          "text": [
            "[1.         0.25       0.11111111 0.0625     0.04      ]\n"
          ]
        }
      ],
      "source": [
        "vector = np.array([1/(n*n) for n in range(1,6)])\n",
        "print(vector)"
      ]
    },
    {
      "cell_type": "markdown",
      "metadata": {
        "id": "QlWPYFkMRXRs"
      },
      "source": [
        "### 9-2) ベクトルの和"
      ]
    },
    {
      "cell_type": "markdown",
      "metadata": {
        "id": "EyMQkvVtRXRs"
      },
      "source": [
        "$\\sqrt{6 \\displaystyle \\sum_{n = 1}^{10000} \\frac{1}{n^2}}$を計算せよ（[バーゼル問題](https://ja.wikipedia.org/wiki/%E3%83%90%E3%83%BC%E3%82%BC%E3%83%AB%E5%95%8F%E9%A1%8C)）．"
      ]
    },
    {
      "cell_type": "code",
      "execution_count": 56,
      "metadata": {
        "id": "NB6HdF_9RXRs",
        "tags": [
          "hide"
        ]
      },
      "outputs": [
        {
          "name": "stdout",
          "output_type": "stream",
          "text": [
            "3.1414971639472147\n"
          ]
        }
      ],
      "source": [
        "\n",
        "ans = np.sqrt(6 * sum([1/(n*n) for n in range(1,10001)]))\n",
        "print(ans)"
      ]
    },
    {
      "cell_type": "markdown",
      "metadata": {
        "id": "yqjAY85tRXRs"
      },
      "source": [
        "### 9-3) コサイン類似度"
      ]
    },
    {
      "cell_type": "markdown",
      "metadata": {
        "id": "Zbjaj1JqRXRs"
      },
      "source": [
        "2つの位置ベクトル $\\boldsymbol{u} = \\left(\\begin{array}{c}1 & 1 & 1\\end{array}\\right), \\boldsymbol{v} = \\left(\\begin{array}{c}1 & 2 & 3\\end{array}\\right)$ のなす角を$\\theta$とする．$\\cos \\theta$の値を求めよ．"
      ]
    },
    {
      "cell_type": "code",
      "execution_count": 57,
      "metadata": {
        "id": "dG1BkgLVRXRs",
        "tags": [
          "hide"
        ]
      },
      "outputs": [
        {
          "name": "stdout",
          "output_type": "stream",
          "text": [
            "0.9258200997725515\n"
          ]
        }
      ],
      "source": [
        "u = np.array([1, 1, 1])\n",
        "v = np.array([1, 2, 3])\n",
        "u_v_dot = np.dot(u, v)\n",
        "\n",
        "u_len = np.sqrt(sum([e**2 for e in list(u)]))\n",
        "v_len = np.sqrt(sum([e**2 for e in list(v)]))\n",
        "\n",
        "ans = u_v_dot / u_len / v_len\n",
        "print(ans)"
      ]
    },
    {
      "cell_type": "code",
      "execution_count": 58,
      "metadata": {},
      "outputs": [
        {
          "name": "stdout",
          "output_type": "stream",
          "text": [
            "0.9258200997725515\n"
          ]
        }
      ],
      "source": [
        "from numpy import linalg as LA\n",
        "\n",
        "i = np.inner(u, v)\n",
        "n = LA.norm(u) * LA.norm(v)\n",
        "\n",
        "c = i / n\n",
        "# a = np.rad2deg(np.arccos(np.clip(c, -1.0, 1.0)))\n",
        "print(c)"
      ]
    },
    {
      "cell_type": "markdown",
      "metadata": {
        "id": "C-FDfX3cRXRs"
      },
      "source": [
        "### 9-4) ベクトルと行列の積\n",
        "\n",
        "$X = \\left(\\begin{array}{c}\n",
        "0 & 0 & 1  \\\\\n",
        "0 & 1 & 1 \\\\\n",
        "1 & 0 & 1 \\\\\n",
        "1 & 1 & 1 \\\\\n",
        "\\end{array}\\right),\n",
        "\\boldsymbol{w} = \\left(\\begin{array}{c}\n",
        "1 & 1 & -1.5\n",
        "\\end{array}\\right)^\\top$\n",
        "に対して，$\\max(X\\boldsymbol{w}, \\boldsymbol{0})$を計算せよ．ただし，$\\max$は複数のベクトルを引数にとり，各要素ごとの最大値を返すものとする．"
      ]
    },
    {
      "cell_type": "code",
      "execution_count": 59,
      "metadata": {
        "id": "FpULBJvdRXRs",
        "tags": [
          "hide"
        ]
      },
      "outputs": [
        {
          "data": {
            "text/plain": [
              "array([0. , 0. , 0. , 0.5])"
            ]
          },
          "execution_count": 59,
          "metadata": {},
          "output_type": "execute_result"
        }
      ],
      "source": [
        "import numpy as np\n",
        "\n",
        "X = np.array([[0, 0, 1],[0, 1, 1],[1, 0, 1],[1, 1, 1]])\n",
        "w = np.array([1, 1, -1.5]).T\n",
        "\n",
        "\n",
        "def self_max(vector1, vector2):\n",
        "    if vector1.shape != vector2.shape:\n",
        "        exit()\n",
        "    else:\n",
        "        if vector1.ndim == 1:\n",
        "            h = vector1.size\n",
        "            res: list = []\n",
        "            for i in range(h):\n",
        "                res.append(max(vector1[i], vector2[i]))\n",
        "            return np.array(res)\n",
        "        else:\n",
        "            print('something')\n",
        "            h, w = vector1.shape\n",
        "            res: list = []\n",
        "            for i in range(h):\n",
        "                tmp: list = []\n",
        "                for j in range(w):\n",
        "                    tmp.append(max(vector1[i][j], vector2[i][j]))\n",
        "                res.append(tmp)\n",
        "            return np.array(res)\n",
        "        \n",
        "\n",
        "ans = self_max(np.dot(X,w), np.array([0]*4))\n",
        "ans"
      ]
    },
    {
      "cell_type": "markdown",
      "metadata": {
        "id": "QXGSpzDfRXRs"
      },
      "source": [
        "### 9-5) 行列の多項式（2007年京大文系入試問題）\n",
        "\n",
        "$A = \\left(\\begin{array}{c}\n",
        "2 & 4 \\\\\n",
        "-1 & -1 \\\\\n",
        "\\end{array}\\right),\n",
        "E = \\left(\\begin{array}{c}\n",
        "1 & 0 \\\\\n",
        "0 & 1 \\\\\n",
        "\\end{array}\\right)$とするとき，$A^6 + 2A^4 + 2A^3 + 2A^2 + 2A + 3E$を求めよ．"
      ]
    },
    {
      "cell_type": "code",
      "execution_count": 68,
      "metadata": {
        "id": "n7zmowWLRXRs",
        "tags": [
          "hide"
        ]
      },
      "outputs": [
        {
          "data": {
            "text/plain": [
              "array([[ 127, 4776],\n",
              "       [   1,    4]])"
            ]
          },
          "execution_count": 68,
          "metadata": {},
          "output_type": "execute_result"
        }
      ],
      "source": [
        "A = np.array([\n",
        "    [2, 4],\n",
        "    [-1, -1],\n",
        "])\n",
        "E = np.array([\n",
        "    [1, 0],\n",
        "    [0, 1],\n",
        "])\n",
        "\n",
        "ans = A ** 6 + 2 * (A ** 4) + 2 * (A ** 3) + 2 * (A ** 2) + 2 * (A) + 3 * E\n",
        "ans\n",
        "# 行列の累乗については、np.powのようなものを利用するべき\n"
      ]
    },
    {
      "cell_type": "code",
      "execution_count": 73,
      "metadata": {},
      "outputs": [
        {
          "name": "stdout",
          "output_type": "stream",
          "text": [
            "[[8 0]\n",
            " [0 8]]\n"
          ]
        }
      ],
      "source": [
        "print((2*E)**3)"
      ]
    },
    {
      "cell_type": "markdown",
      "metadata": {
        "id": "DuEk4LjSRXRs"
      },
      "source": [
        "## 10. グラフ"
      ]
    },
    {
      "cell_type": "markdown",
      "metadata": {
        "id": "7dKHzvw3RXRs"
      },
      "source": [
        "### 10-1) プロット\n",
        "\n",
        "(1) $\\displaystyle \\lim_{x \\to +0} x^x$を解析的に求め，その計算過程をMarkdownセルにLaTeX形式で記述せよ．"
      ]
    },
    {
      "cell_type": "markdown",
      "metadata": {
        "id": "aKuyU9CrRXRs",
        "tags": [
          "hide"
        ]
      },
      "source": [
        "$$ \\lim_{x \\to +0} x^x = \\lim_{x \\to +0} (e ^ {\\log x})^x = \\lim_{x \\to +0} e^{x \\log x} $$\n",
        "さらに\n",
        "$$ \\lim_{x \\to +0} x \\log x = \\lim_{x \\to +0} \\frac{ \\log x }{\\frac{1}{x}} $$\n",
        "なので、ロピタルの定理より\n",
        "$$ \\lim_{x \\to +0} \\frac{ \\log x }{\\frac{1}{x}} = \\lim_{x \\to +0} \\frac{\\frac{1}{x}}{- \\frac{1}{x^2}} = \\lim_{x \\to +0}  - x \\rightarrow 0$$\n",
        "よって\n",
        "$$ \\lim_{x \\to +0} e^{x \\log x} \\rightarrow 1$$"
      ]
    },
    {
      "cell_type": "markdown",
      "metadata": {
        "id": "LHOXpiHaRXRs"
      },
      "source": [
        "(2) $0 < x \\leq 1$の範囲で関数$f(x) = x^x$のグラフを描き，$\\displaystyle \\lim_{x \\to +0} x^x$を図示せよ．ただし，横軸は対数目盛とせよ．"
      ]
    },
    {
      "cell_type": "code",
      "execution_count": 61,
      "metadata": {
        "id": "R3-3rwxcRXRs",
        "tags": [
          "hide"
        ]
      },
      "outputs": [
        {
          "data": {
            "image/png": "[encoded data removed]",
            "text/plain": [
              "<Figure size 432x288 with 1 Axes>"
            ]
          },
          "metadata": {
            "needs_background": "light"
          },
          "output_type": "display_data"
        }
      ],
      "source": [
        "import matplotlib.pyplot as plt\n",
        "import numpy as np\n",
        "\n",
        "# グラフがおかしい...\n",
        "fig, ax = plt.subplots()\n",
        "x = np.arange(1, 101, 1)\n",
        "ax.plot(x/100, (x/100) ** (x/100))\n",
        "ax.grid()\n",
        "plt.show()"
      ]
    },
    {
      "cell_type": "markdown",
      "metadata": {
        "id": "P7ZkPOZARXRs"
      },
      "source": [
        "(3) $\\displaystyle \\lim_{x \\to +0} \\left(e^{-1/x^2}\\right)^x$を解析的に求め，その計算過程をMarkdownセルにLaTeX形式で記述せよ．"
      ]
    },
    {
      "cell_type": "markdown",
      "metadata": {
        "id": "aWYg3_SHRXRs",
        "tags": [
          "hide"
        ]
      },
      "source": [
        "$\\displaystyle \\lim_{x \\to +0} (e ^ {- \\frac{1}{x^2}})^x  = \\lim_{x \\to +0} (e ^ {\\log (e ^ {- \\frac{1}{x^2}})})^x = \\lim_{x \\to +0} e ^ {x \\log (e ^ { \\frac{1}{x^2}})}$ となる。\n",
        "ここで、\n",
        "$\\displaystyle \\lim_{x \\to +0} x \\log ( e ^ {- \\frac{1}{x^2}} ) = \\lim_{x \\to +0} - \\frac{1}{x} \\rightarrow - \\infty$\n",
        "であるので、\n",
        "$\\displaystyle \\lim_{x \\to +0} (e ^ {- \\frac{1}{x^2}})^x \\rightarrow 0$"
      ]
    },
    {
      "cell_type": "markdown",
      "metadata": {
        "id": "YAaYB7ByRXRs"
      },
      "source": [
        "(4) $0 < x \\leq 1$の範囲で関数$f(x) = \\left(e^{-1/x^2}\\right)^x$のグラフを描き，$\\displaystyle \\lim_{x \\to +0} \\left(e^{-1/x^2}\\right)^x$を図示せよ．ただし，横軸は対数目盛とせよ．"
      ]
    },
    {
      "cell_type": "code",
      "execution_count": 62,
      "metadata": {
        "id": "uZ3VqL7dRXRs",
        "tags": [
          "hide"
        ]
      },
      "outputs": [
        {
          "data": {
            "image/png": "[encoded data removed]",
            "text/plain": [
              "<Figure size 432x288 with 1 Axes>"
            ]
          },
          "metadata": {
            "needs_background": "light"
          },
          "output_type": "display_data"
        }
      ],
      "source": [
        "\n",
        "fig, ax = plt.subplots()\n",
        "x = np.arange(1, 101, 1)\n",
        "# np.arrange(0,1,0.00001)みたいのにもできるようです...へー\n",
        "ax.plot(x/100, (np.e ** (- 1/ (x/100) ** (2))) ** (x/100))\n",
        "ax.grid()\n",
        "plt.show()"
      ]
    },
    {
      "cell_type": "markdown",
      "metadata": {
        "id": "pLPf2wuRRXRt"
      },
      "source": [
        "### 10-2) グラフ"
      ]
    },
    {
      "cell_type": "code",
      "execution_count": 63,
      "metadata": {
        "id": "XQfpcFAOTh4e"
      },
      "outputs": [
        {
          "name": "stdout",
          "output_type": "stream",
          "text": [
            "zsh:1: command not found: wget\n"
          ]
        }
      ],
      "source": [
        "!wget http://www.chokkan.org/temp/tokyo-covid.csv"
      ]
    },
    {
      "cell_type": "markdown",
      "metadata": {
        "id": "5HKFiaI0RXRt"
      },
      "source": [
        "(1) 東京都のCOVID-19新規感染者報告数をCSV形式にまとめた[tokyo-covid.csv](tokyo-covid.csv)を読み込み，横軸を公表年月日，縦軸を感染者数として，年代別の感染者数の推移を折れ線グラフで表示せよ．"
      ]
    },
    {
      "cell_type": "code",
      "execution_count": 64,
      "metadata": {
        "id": "cfJtlAmbRXRt",
        "tags": [
          "hide"
        ]
      },
      "outputs": [
        {
          "data": {
            "text/html": [
              "<div>\n",
              "<style scoped>\n",
              "    .dataframe tbody tr th:only-of-type {\n",
              "        vertical-align: middle;\n",
              "    }\n",
              "\n",
              "    .dataframe tbody tr th {\n",
              "        vertical-align: top;\n",
              "    }\n",
              "\n",
              "    .dataframe thead th {\n",
              "        text-align: right;\n",
              "    }\n",
              "</style>\n",
              "<table border=\"1\" class=\"dataframe\">\n",
              "  <thead>\n",
              "    <tr style=\"text-align: right;\">\n",
              "      <th></th>\n",
              "      <th>公表年月日</th>\n",
              "      <th>10歳未満</th>\n",
              "      <th>10代</th>\n",
              "      <th>20代</th>\n",
              "      <th>30代</th>\n",
              "      <th>40代</th>\n",
              "      <th>50代</th>\n",
              "      <th>60代</th>\n",
              "      <th>70代</th>\n",
              "      <th>80代</th>\n",
              "      <th>90代</th>\n",
              "      <th>100歳以上</th>\n",
              "      <th>不明</th>\n",
              "      <th>-</th>\n",
              "      <th>合計</th>\n",
              "    </tr>\n",
              "  </thead>\n",
              "  <tbody>\n",
              "    <tr>\n",
              "      <th>0</th>\n",
              "      <td>2020-01-24</td>\n",
              "      <td>0</td>\n",
              "      <td>0</td>\n",
              "      <td>0</td>\n",
              "      <td>0</td>\n",
              "      <td>1</td>\n",
              "      <td>0</td>\n",
              "      <td>0</td>\n",
              "      <td>0</td>\n",
              "      <td>0</td>\n",
              "      <td>0</td>\n",
              "      <td>0</td>\n",
              "      <td>0</td>\n",
              "      <td>0</td>\n",
              "      <td>1</td>\n",
              "    </tr>\n",
              "    <tr>\n",
              "      <th>1</th>\n",
              "      <td>2020-01-25</td>\n",
              "      <td>0</td>\n",
              "      <td>0</td>\n",
              "      <td>0</td>\n",
              "      <td>1</td>\n",
              "      <td>0</td>\n",
              "      <td>0</td>\n",
              "      <td>0</td>\n",
              "      <td>0</td>\n",
              "      <td>0</td>\n",
              "      <td>0</td>\n",
              "      <td>0</td>\n",
              "      <td>0</td>\n",
              "      <td>0</td>\n",
              "      <td>1</td>\n",
              "    </tr>\n",
              "    <tr>\n",
              "      <th>2</th>\n",
              "      <td>2020-01-26</td>\n",
              "      <td>0</td>\n",
              "      <td>0</td>\n",
              "      <td>0</td>\n",
              "      <td>0</td>\n",
              "      <td>0</td>\n",
              "      <td>0</td>\n",
              "      <td>0</td>\n",
              "      <td>0</td>\n",
              "      <td>0</td>\n",
              "      <td>0</td>\n",
              "      <td>0</td>\n",
              "      <td>0</td>\n",
              "      <td>0</td>\n",
              "      <td>0</td>\n",
              "    </tr>\n",
              "    <tr>\n",
              "      <th>3</th>\n",
              "      <td>2020-01-27</td>\n",
              "      <td>0</td>\n",
              "      <td>0</td>\n",
              "      <td>0</td>\n",
              "      <td>0</td>\n",
              "      <td>0</td>\n",
              "      <td>0</td>\n",
              "      <td>0</td>\n",
              "      <td>0</td>\n",
              "      <td>0</td>\n",
              "      <td>0</td>\n",
              "      <td>0</td>\n",
              "      <td>0</td>\n",
              "      <td>0</td>\n",
              "      <td>0</td>\n",
              "    </tr>\n",
              "    <tr>\n",
              "      <th>4</th>\n",
              "      <td>2020-01-28</td>\n",
              "      <td>0</td>\n",
              "      <td>0</td>\n",
              "      <td>0</td>\n",
              "      <td>0</td>\n",
              "      <td>0</td>\n",
              "      <td>0</td>\n",
              "      <td>0</td>\n",
              "      <td>0</td>\n",
              "      <td>0</td>\n",
              "      <td>0</td>\n",
              "      <td>0</td>\n",
              "      <td>0</td>\n",
              "      <td>0</td>\n",
              "      <td>0</td>\n",
              "    </tr>\n",
              "    <tr>\n",
              "      <th>...</th>\n",
              "      <td>...</td>\n",
              "      <td>...</td>\n",
              "      <td>...</td>\n",
              "      <td>...</td>\n",
              "      <td>...</td>\n",
              "      <td>...</td>\n",
              "      <td>...</td>\n",
              "      <td>...</td>\n",
              "      <td>...</td>\n",
              "      <td>...</td>\n",
              "      <td>...</td>\n",
              "      <td>...</td>\n",
              "      <td>...</td>\n",
              "      <td>...</td>\n",
              "      <td>...</td>\n",
              "    </tr>\n",
              "    <tr>\n",
              "      <th>309</th>\n",
              "      <td>2020-11-28</td>\n",
              "      <td>12</td>\n",
              "      <td>31</td>\n",
              "      <td>132</td>\n",
              "      <td>102</td>\n",
              "      <td>90</td>\n",
              "      <td>83</td>\n",
              "      <td>50</td>\n",
              "      <td>37</td>\n",
              "      <td>20</td>\n",
              "      <td>4</td>\n",
              "      <td>0</td>\n",
              "      <td>0</td>\n",
              "      <td>0</td>\n",
              "      <td>561</td>\n",
              "    </tr>\n",
              "    <tr>\n",
              "      <th>310</th>\n",
              "      <td>2020-11-29</td>\n",
              "      <td>10</td>\n",
              "      <td>22</td>\n",
              "      <td>110</td>\n",
              "      <td>70</td>\n",
              "      <td>80</td>\n",
              "      <td>51</td>\n",
              "      <td>32</td>\n",
              "      <td>25</td>\n",
              "      <td>12</td>\n",
              "      <td>6</td>\n",
              "      <td>0</td>\n",
              "      <td>0</td>\n",
              "      <td>0</td>\n",
              "      <td>418</td>\n",
              "    </tr>\n",
              "    <tr>\n",
              "      <th>311</th>\n",
              "      <td>2020-11-30</td>\n",
              "      <td>7</td>\n",
              "      <td>17</td>\n",
              "      <td>68</td>\n",
              "      <td>51</td>\n",
              "      <td>69</td>\n",
              "      <td>32</td>\n",
              "      <td>27</td>\n",
              "      <td>14</td>\n",
              "      <td>23</td>\n",
              "      <td>3</td>\n",
              "      <td>0</td>\n",
              "      <td>0</td>\n",
              "      <td>0</td>\n",
              "      <td>311</td>\n",
              "    </tr>\n",
              "    <tr>\n",
              "      <th>312</th>\n",
              "      <td>2020-12-01</td>\n",
              "      <td>5</td>\n",
              "      <td>25</td>\n",
              "      <td>93</td>\n",
              "      <td>81</td>\n",
              "      <td>58</td>\n",
              "      <td>38</td>\n",
              "      <td>23</td>\n",
              "      <td>18</td>\n",
              "      <td>24</td>\n",
              "      <td>7</td>\n",
              "      <td>0</td>\n",
              "      <td>0</td>\n",
              "      <td>0</td>\n",
              "      <td>372</td>\n",
              "    </tr>\n",
              "    <tr>\n",
              "      <th>313</th>\n",
              "      <td>2020-12-02</td>\n",
              "      <td>20</td>\n",
              "      <td>30</td>\n",
              "      <td>125</td>\n",
              "      <td>81</td>\n",
              "      <td>75</td>\n",
              "      <td>62</td>\n",
              "      <td>37</td>\n",
              "      <td>36</td>\n",
              "      <td>27</td>\n",
              "      <td>6</td>\n",
              "      <td>1</td>\n",
              "      <td>0</td>\n",
              "      <td>0</td>\n",
              "      <td>500</td>\n",
              "    </tr>\n",
              "  </tbody>\n",
              "</table>\n",
              "<p>314 rows × 15 columns</p>\n",
              "</div>"
            ],
            "text/plain": [
              "          公表年月日  10歳未満  10代  20代  30代  40代  50代  60代  70代  80代  90代  100歳以上  \\\n",
              "0    2020-01-24      0    0    0    0    1    0    0    0    0    0       0   \n",
              "1    2020-01-25      0    0    0    1    0    0    0    0    0    0       0   \n",
              "2    2020-01-26      0    0    0    0    0    0    0    0    0    0       0   \n",
              "3    2020-01-27      0    0    0    0    0    0    0    0    0    0       0   \n",
              "4    2020-01-28      0    0    0    0    0    0    0    0    0    0       0   \n",
              "..          ...    ...  ...  ...  ...  ...  ...  ...  ...  ...  ...     ...   \n",
              "309  2020-11-28     12   31  132  102   90   83   50   37   20    4       0   \n",
              "310  2020-11-29     10   22  110   70   80   51   32   25   12    6       0   \n",
              "311  2020-11-30      7   17   68   51   69   32   27   14   23    3       0   \n",
              "312  2020-12-01      5   25   93   81   58   38   23   18   24    7       0   \n",
              "313  2020-12-02     20   30  125   81   75   62   37   36   27    6       1   \n",
              "\n",
              "     不明  -   合計  \n",
              "0     0  0    1  \n",
              "1     0  0    1  \n",
              "2     0  0    0  \n",
              "3     0  0    0  \n",
              "4     0  0    0  \n",
              "..   .. ..  ...  \n",
              "309   0  0  561  \n",
              "310   0  0  418  \n",
              "311   0  0  311  \n",
              "312   0  0  372  \n",
              "313   0  0  500  \n",
              "\n",
              "[314 rows x 15 columns]"
            ]
          },
          "execution_count": 64,
          "metadata": {},
          "output_type": "execute_result"
        }
      ],
      "source": [
        "csv_data = pd.read_csv(\"tokyo-covid.csv\")\n",
        "csv_data"
      ]
    },
    {
      "cell_type": "code",
      "execution_count": 65,
      "metadata": {
        "id": "AWyruIpYRXRt",
        "tags": [
          "hide"
        ]
      },
      "outputs": [
        {
          "data": {
            "image/png": "[encoded data removed]",
            "text/plain": [
              "<Figure size 432x288 with 1 Axes>"
            ]
          },
          "metadata": {
            "needs_background": "light"
          },
          "output_type": "display_data"
        }
      ],
      "source": [
        "fig, ax = plt.subplots()\n",
        "X = csv_data['公表年月日']\n",
        "H = csv_data['10歳未満']\n",
        "L = csv_data['10代']\n",
        "L_data: list  = []\n",
        "L_data.append(csv_data['20代'])\n",
        "L_data.append(csv_data['30代'])\n",
        "L_data.append(csv_data['40代'])\n",
        "L_data.append(csv_data['50代'])\n",
        "L_data.append(csv_data['60代'])\n",
        "L_data.append(csv_data['70代'])\n",
        "L_data.append(csv_data['80代'])\n",
        "L_data.append(csv_data['90代'])\n",
        "L_data.append(csv_data['100歳以上'])\n",
        "\n",
        "\n",
        "ax.plot(X, H, 'o-r')\n",
        "ax.plot(X, L, 'x-b')\n",
        "\n",
        "for data in L_data:\n",
        "    ax.plot(X, data, 'x-g')\n",
        "ax.set_xlabel('公表年月日')\n",
        "ax.set_ylabel('感染者数')\n",
        "ax.grid()\n",
        "plt.show()"
      ]
    },
    {
      "cell_type": "code",
      "execution_count": null,
      "metadata": {},
      "outputs": [],
      "source": []
    },
    {
      "cell_type": "markdown",
      "metadata": {
        "id": "O3KhySGjRXRt"
      },
      "source": [
        "(2) 東京都のCOVID-19新規感染者報告数をCSV形式にまとめた[tokyo-covid.csv](tokyo-covid.csv)を読み込み，横軸を公表年月日，縦軸を感染者数として，１日の感染者数を棒グラフで示せ．"
      ]
    },
    {
      "cell_type": "code",
      "execution_count": 66,
      "metadata": {
        "id": "sGArs7MNRXRt",
        "tags": [
          "hide"
        ]
      },
      "outputs": [
        {
          "data": {
            "image/png": "[encoded data removed]",
            "text/plain": [
              "<Figure size 432x288 with 1 Axes>"
            ]
          },
          "metadata": {
            "needs_background": "light"
          },
          "output_type": "display_data"
        }
      ],
      "source": [
        "fig, ax = plt.subplots()\n",
        "X = csv_data['公表年月日']\n",
        "H = csv_data['合計']\n",
        "ax.plot(X, H, 'x-g')\n",
        "ax.set_xlabel('公表年月日')\n",
        "ax.set_ylabel('感染者数')\n",
        "ax.grid()\n",
        "plt.show()"
      ]
    },
    {
      "cell_type": "markdown",
      "metadata": {
        "id": "DAus1MWTRXRt"
      },
      "source": [
        "(2) 東京都のCOVID-19新規感染者報告数をCSV形式にまとめた[tokyo-covid.csv](tokyo-covid.csv)を読み込み，横軸を公表年月日，縦軸を感染者数として，１日の感染者数を折れ線グラフで示せ．このとき，7日間後方移動平均と14日間後方移動平均も折れ線グラフで示せ．"
      ]
    },
    {
      "cell_type": "code",
      "execution_count": 67,
      "metadata": {
        "id": "J6djr139RXRt",
        "tags": [
          "hide"
        ]
      },
      "outputs": [
        {
          "data": {
            "image/png": "[encoded data removed]",
            "text/plain": [
              "<Figure size 432x288 with 1 Axes>"
            ]
          },
          "metadata": {
            "needs_background": "light"
          },
          "output_type": "display_data"
        }
      ],
      "source": [
        "csv_data['7-days-mean'] = csv_data['合計'].rolling(7).mean().round(0)\n",
        "csv_data['14-days-mean'] = csv_data['合計'].rolling(14).mean().round(0)\n",
        "\n",
        "fig, ax = plt.subplots()\n",
        "X = csv_data['公表年月日']\n",
        "H = csv_data['合計']\n",
        "mean7 = csv_data['7-days-mean']\n",
        "mean14 = csv_data['14-days-mean']\n",
        "\n",
        "ax.plot(X, H, 'x-g')\n",
        "ax.plot(X, mean7, 'x-b')\n",
        "ax.plot(X, mean14, 'x-r')\n",
        "\n",
        "ax.set_xlabel('公表年月日')\n",
        "ax.set_ylabel('感染者数')\n",
        "ax.grid()\n",
        "plt.show()"
      ]
    },
    {
      "cell_type": "code",
      "execution_count": null,
      "metadata": {},
      "outputs": [],
      "source": []
    }
  ],
  "metadata": {
    "colab": {
      "collapsed_sections": [],
      "name": "python-exercise.ipynb",
      "provenance": []
    },
    "kernelspec": {
      "display_name": "Python 3",
      "language": "python",
      "name": "python3"
    },
    "language_info": {
      "codemirror_mode": {
        "name": "ipython",
        "version": 3
      },
      "file_extension": ".py",
      "mimetype": "text/x-python",
      "name": "python",
      "nbconvert_exporter": "python",
      "pygments_lexer": "ipython3",
      "version": "3.9.9"
    }
  },
  "nbformat": 4,
  "nbformat_minor": 0
}
