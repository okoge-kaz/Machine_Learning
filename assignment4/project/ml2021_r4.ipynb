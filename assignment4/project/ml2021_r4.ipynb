{
  "cells": [
    {
      "cell_type": "markdown",
      "metadata": {
        "id": "A1fZlL-LnPW8"
      },
      "source": [
        "# 機械学習 課題4\n",
        "\n",
        "※ セルを増やしても構いませんが、すでに書かれているセルの内容を変更しないで下さい。\n",
        "\n",
        "**この課題におけるベクトルは縦ベクトルとします。**\n",
        "\n",
        "## 1. モデルの学習\n",
        "\n",
        "ある訓練データを用い、多クラスロジスティック回帰モデルを確率的勾配降下法で学習したところ、以下に示す２つのグラフが得られた。これらのグラフの横軸は確率的勾配降下法の反復回数（パラメータの更新を行うために処理された訓練事例の数）で、縦軸は異なる二つの指標、すなわち左側のグラフでは①、右側のグラフでは②の値を表している。青色の実線は訓練データに対する指標の値、赤色の点線は検証データに対する指標の値をプロットしたものである。以下の問に答えよ。"
      ]
    },
    {
      "cell_type": "markdown",
      "metadata": {
        "id": "9vW023BTu438"
      },
      "source": [
        "<img src=\"data:image/png;base64,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\">"
      ]
    },
    {
      "cell_type": "markdown",
      "metadata": {
        "id": "CMX_kBtJf5b6"
      },
      "source": [
        "\n",
        "(1) 左側のグラフは、モデルのパラメータが訓練データに適合した度合いを反映するものである。左側のグラフの①（縦軸）を埋めるのに適切な用語をひとつ答えよ（複数の正解が考えられるが、そのうちのひとつを答えればよい）。ただし、縦軸は矢印の方向に向かって値が大きくなることに注意せよ。<!-- 1(1) -->"
      ]
    },
    {
      "cell_type": "markdown",
      "metadata": {
        "id": "CDUu4LKevSq6"
      },
      "source": [
        "損失関数の値"
      ]
    },
    {
      "cell_type": "markdown",
      "metadata": {
        "id": "1Ed_t8dZf7oQ"
      },
      "source": [
        "(2) 右側のグラフは、モデルの分類性能を反映するものである。右側のグラフの②（縦軸）を埋めるのに適切な用語をひとつ答えよ（複数の正解が考えられるが、そのうちのひとつを答えればよい）。ただし、縦軸は矢印の方向に向かって値が大きくなることに注意せよ。<!-- 1(2) -->"
      ]
    },
    {
      "cell_type": "markdown",
      "metadata": {
        "id": "CG1gg-60AKbH"
      },
      "source": [
        "正解率"
      ]
    },
    {
      "cell_type": "markdown",
      "metadata": {
        "id": "FyHaOrcZnwSB"
      },
      "source": [
        "(3) 検証データに対しては、左側のグラフでは反復回数が増えるにつれて値がじわじわ上昇し、右側のグラフでは反復回数が増えるにつれて値が下降している。この現象を最も的確に表す用語を答えよ。また、その用語について説明せよ。<!-- 1(3) -->"
      ]
    },
    {
      "cell_type": "markdown",
      "metadata": {
        "id": "US76QeHsghdR"
      },
      "source": [
        "過学習: 訓練データを厳密に再現しようとした結果、汎化性能が低いモデルが学習されてしまう状況。"
      ]
    },
    {
      "cell_type": "markdown",
      "metadata": {
        "id": "lJMYSyBxnlxz"
      },
      "source": [
        "(4) (3)の減少を軽減するために取り得る対策を一つ説明せよ。その対策を表す用語と、その対策の内容を説明せよ。<!-- 1(4) -->"
      ]
    },
    {
      "cell_type": "markdown",
      "metadata": {
        "id": "MSp84v1rgn6o"
      },
      "source": [
        "$L_2$正則化: $\\hat{J(w)} = \\hat{L(w)} + \\alpha R(w)$のように、訓練データの適合度に加え、パラメータ$w$の複雑さを表現する関数$R(w)$に関するペナルティ項を追加する。"
      ]
    },
    {
      "cell_type": "markdown",
      "metadata": {
        "id": "FW8kO9ME7wN9"
      },
      "source": [
        "## 2. 多クラスロジスティック回帰\n",
        "\n",
        "2次元の事例$\\pmb{x} \\in \\mathbb{R}^{2}$を受け取り、3個のクラス$\\mathcal{C}_1, \\mathcal{C}_2, \\mathcal{C}_3$のいずれかに分類する多クラスロジスティック回帰モデルを考える。事例$\\pmb{x}$がクラス$\\mathcal{C}_j$ $(j \\in \\{1, 2, 3\\})$に分類される条件付確率$P(\\hat{y}=\\mathcal{C}_j|\\pmb{x})$を以下の式で求める。\n",
        "\n",
        "\\begin{align}\n",
        "P(\\hat{y} = \\mathcal{C}_j|\\pmb{x}) = \\frac{\\exp (\\pmb{w}_j^\\top\\pmb{x} + b_j)}{\\sum_{k=1}^{3} \\exp (\\pmb{w}_k^\\top\\pmb{x} + b_k)}\n",
        "\\end{align}\n",
        "\n",
        "ここで、$\\pmb{w}_1, \\pmb{w}_2, \\pmb{w}_3 \\in \\mathbb{R}^{2}$と$b_1, b_2, b_3 \\in \\mathbb{R}$はモデルのパラメータであり、以下に示す値に設定されているとする。\n",
        "\n",
        "\\begin{gather}\n",
        "\\pmb{w}_1 = \\begin{pmatrix}0 \\\\ 1\\end{pmatrix}, \\;\n",
        "\\pmb{w}_2 = \\begin{pmatrix}1 \\\\ 0\\end{pmatrix}, \\;\n",
        "\\pmb{w}_3 = \\begin{pmatrix}-1 \\\\ -1\\end{pmatrix} \\\\\n",
        "b_1 = 1, \\; b_2 = -1, \\; b_3 = 0\n",
        "\\end{gather}\n",
        "\n",
        "いま、$\\mathcal{C}_2$に分類されるべき訓練事例、\n",
        "\n",
        "\\begin{gather}\n",
        "\\pmb{x}_1 = \\begin{pmatrix}1 \\\\ -1\\end{pmatrix}\n",
        "\\end{gather}\n",
        "\n",
        "が与えられたとする。以下の問に答えよ。なお、計算は手計算でもプログラムを用いてもよいが、最終的な答えに至る経過が分かるように記述せよ。"
      ]
    },
    {
      "cell_type": "markdown",
      "metadata": {
        "id": "4-eOmVjWBWCF"
      },
      "source": [
        "(1) このモデルの訓練事例$\\pmb{x}_1$に対する尤度を求めよ。<!-- 2(1) -->"
      ]
    },
    {
      "cell_type": "code",
      "execution_count": 1,
      "metadata": {
        "id": "ZQ_mZBvWCXGa"
      },
      "outputs": [
        {
          "name": "stdout",
          "output_type": "stream",
          "text": [
            "[0.33333333 0.33333333 0.33333333]\n"
          ]
        }
      ],
      "source": [
        "import numpy as np\n",
        "\n",
        "x1 = np.array([1, -1])\n",
        "\n",
        "\n",
        "def multi_class_logistic_regression_p(x: np.ndarray) -> np.ndarray:\n",
        "    \"\"\"\n",
        "    Multi-class Logistic Regression\n",
        "    \"\"\"\n",
        "    w1 = np.array([0, 1])\n",
        "    w2 = np.array([1, 0])\n",
        "    w3 = np.array([-1, -1])\n",
        "    W = np.array([w1, w2, w3])\n",
        "\n",
        "    b1, b2, b3 = 1, -1, 0\n",
        "    B = np.array([b1, b2, b3])\n",
        "\n",
        "    y = np.zeros(B.shape[0], dtype=np.float64)\n",
        "    for i in range(B.shape[0]):\n",
        "        y[i] = np.exp((W[i, :].T) @ x + B[i])\n",
        "\n",
        "    return y / np.sum(y)\n",
        "\n",
        "\n",
        "print(multi_class_logistic_regression_p(x1))"
      ]
    },
    {
      "cell_type": "markdown",
      "metadata": {},
      "source": [
        "よって、0.33333333"
      ]
    },
    {
      "cell_type": "markdown",
      "metadata": {
        "id": "XCCEyXKUCXnT"
      },
      "source": [
        "(2) このモデルのパラメータを負の対数尤度を目的関数とする確率的勾配降下法で更新することを考える。目的関数に対する各パラメータ（$\\pmb{w}_1, \\pmb{w}_2, \\pmb{w}_3, b_1, b_2, b_3$）の勾配を求めよ。<!-- 2(2) -->"
      ]
    },
    {
      "cell_type": "markdown",
      "metadata": {},
      "source": [
        "$$- \\log \\hat{l}_{(\\pmb{x}, \\pmb{y})}(\\pmb{W}) = - \\log \\prod_{k=1}^K p_k^{y_k} = - \\sum_{k=1}^K y_k \\log p_k$$\n",
        "より\n",
        "\n",
        "$$- \\frac{\\partial \\log \\hat{l}_{(\\pmb{x}, \\pmb{y})}(\\pmb{W})}{\\partial \\pmb{w}_j} = - \\sum_{k=1}^K \\frac{\\partial}{\\partial \\pmb{w}_j}(y_k \\log p_k) = - \\sum_{k=1}^K \\frac{y_k}{p_k} \\frac{\\partial p_k}{\\partial \\pmb{w}_j}$$\n",
        "であるので、また"
      ]
    },
    {
      "cell_type": "markdown",
      "metadata": {},
      "source": [
        "機械学習帳 (6.33)より\n",
        "$$\\frac{\\partial \\log{\\hat{l}_(x,y)(W)}}{\\partial w_j} = - \\pmb{x} (y_j - p_j)$$\n",
        "となる。"
      ]
    },
    {
      "cell_type": "markdown",
      "metadata": {},
      "source": [
        "また、\n",
        "$$ - \\frac{\\partial \\log \\hat{l}_{(\\pmb{x}, \\pmb{y})}(\\pmb{W})}{\\partial \\pmb{b}_j} = - \\sum_{k=1}^K \\frac{y_k}{p_k} \\frac{\\partial p_k}{\\partial \\pmb{b}_j}$$\n",
        "$$= - \\sum_{k=1}^K \\frac{y_k}{p_k} \\frac{\\partial p_k}{\\partial a_j} \\frac{\\partial a_j}{\\partial \\pmb{b}_j}$$\n",
        "$$= - \\sum_{k=1}^K \\frac{y_k}{p_k}  \\{p_k (\\delta_{kj} - p_j ) \\} = -(y_j - p_j)$$\n",
        "となるので、\n"
      ]
    },
    {
      "cell_type": "markdown",
      "metadata": {},
      "source": [
        "$$(\\begin{pmatrix}0 \\\\ 1\\end{pmatrix} ( 0.33333333 - y_1), \\begin{pmatrix}1 \\\\ 0\\end{pmatrix} (0.33333333 - y_2), \\begin{pmatrix}-1 \\\\ -1\\end{pmatrix} (0.33333333 - y_3), (0.33333333 - y_1), (0.33333333 - y_2), (0.33333333 - y_3))$$\n",
        "\n",
        "ここで $\\pmb{y} = (0, 1, 0)^T$であるので\n",
        "\n",
        "$$(\\begin{pmatrix}0 \\\\ 1\\end{pmatrix} ( 0.33333333 - 0), \\begin{pmatrix}1 \\\\ 0\\end{pmatrix} (0.33333333 - 1), \\begin{pmatrix}-1 \\\\ -1\\end{pmatrix} (0.33333333 - 0), (0.33333333 - 0), (0.33333333 - 1), (0.33333333 - 0))$$\n",
        "\n",
        "すなわち\n",
        "\n",
        "$$(\\begin{pmatrix}0 \\\\ 0.33333333\\end{pmatrix}, \\begin{pmatrix}-0.66666666 \\\\ 0\\end{pmatrix}, \\begin{pmatrix}-0.33333333 \\\\ -0.33333333\\end{pmatrix}, 0.33333333, -0.66666666, 0.33333333 )$$\n",
        "\n"
      ]
    },
    {
      "cell_type": "markdown",
      "metadata": {
        "id": "R5KhB6tOGHZE"
      },
      "source": [
        "(3) (2)の勾配を用い、確率的勾配降下法でパラメータを更新した後、このモデルの$\\pmb{x}_1$に対する尤度を再計算すると、尤度は大きくなるか、小さくなるか、その理由とともに答えよ。<!-- 2(3) -->"
      ]
    },
    {
      "cell_type": "markdown",
      "metadata": {},
      "source": [
        "尤度は大きくなる。\n",
        "理由: 確率的勾配降下法により、目的関数を最小にするパラメータ$\\pmb{W}^*$を求めるので、$log_{p_k}$は増加するため、尤度は大きくなる。\n"
      ]
    }
  ],
  "metadata": {
    "colab": {
      "collapsed_sections": [],
      "name": "ml2021-r4.ipynb",
      "provenance": []
    },
    "kernelspec": {
      "display_name": "Python 3",
      "name": "python3"
    },
    "language_info": {
      "codemirror_mode": {
        "name": "ipython",
        "version": 3
      },
      "file_extension": ".py",
      "mimetype": "text/x-python",
      "name": "python",
      "nbconvert_exporter": "python",
      "pygments_lexer": "ipython3",
      "version": "3.9.10"
    }
  },
  "nbformat": 4,
  "nbformat_minor": 0
}
