{
  "cells": [
    {
      "cell_type": "markdown",
      "metadata": {
        "id": "QweE-gyBzTzQ"
      },
      "source": [
        "# 機械学習 課題5\n",
        "\n",
        "※ セルを増やしても構いませんが、すでに書かれているセルの内容を変更しないで下さい。"
      ]
    },
    {
      "cell_type": "markdown",
      "metadata": {
        "id": "NsZkda_OzIMO"
      },
      "source": [
        "## 1. 特異値分解\n",
        "\n",
        "特異値分解（singular value decomposition）について調べて説明せよ。さらに、主成分分析と特異値分解との違いや関連性について説明せよ。<!-- 1 -->"
      ]
    },
    {
      "cell_type": "markdown",
      "metadata": {
        "id": "_C92CQp7zM0c"
      },
      "source": []
    },
    {
      "cell_type": "markdown",
      "metadata": {
        "id": "z6f4E8GtzOPl"
      },
      "source": [
        "## 2. 特異値分解と最小二乗法\n",
        "\n",
        "単回帰や重回帰の講義で例として用いた計画行列$\\pmb{X}$と目的変数ベクトル$\\pmb{y}$を考える。\n",
        "$$\n",
        "\\begin{align}\n",
        "\\pmb{X} = \\begin{pmatrix}\n",
        "1 & 1 \\\\\n",
        "1 & 3 \\\\\n",
        "1 & 6 \\\\\n",
        "1 & 8\n",
        "\\end{pmatrix},\n",
        "\\pmb{y} = \\begin{pmatrix}\n",
        "3 \\\\ 6 \\\\ 5 \\\\ 7\n",
        "\\end{pmatrix}\n",
        "\\end{align}\n",
        "$$"
      ]
    },
    {
      "cell_type": "markdown",
      "metadata": {
        "id": "s1iVL7xc0hN8"
      },
      "source": [
        "(1) [numpy.linalg.svd](https://numpy.org/doc/stable/reference/generated/numpy.linalg.svd.html)などの関数を用い、計画行列$\\pmb{X}$の特異値分解、\n",
        "\n",
        "\\begin{align}\n",
        "\\pmb{X} = \\pmb{U} \\pmb{\\Sigma} \\pmb{V}^\\top\n",
        "\\end{align}\n",
        "\n",
        "を求め、$\\pmb{U}$, $\\pmb{\\Sigma}$, $\\pmb{V}$を用いて$\\pmb{X}$を再構成できることを表示・確認せよ（求めた$\\pmb{U}$, $\\pmb{\\Sigma}$, $\\pmb{V}$を表示する必要はない）。<!-- 2(1) -->"
      ]
    },
    {
      "cell_type": "code",
      "execution_count": null,
      "metadata": {
        "id": "IOlvGW77BNh5"
      },
      "outputs": [],
      "source": []
    },
    {
      "cell_type": "markdown",
      "metadata": {
        "id": "nYCHLQcd5tyj"
      },
      "source": [
        "(2) 特異値分解に基づいて、[ムーア・ペンローズの擬似逆行列（一般化逆行列）](https://ja.wikipedia.org/wiki/%E6%93%AC%E4%BC%BC%E9%80%86%E8%A1%8C%E5%88%97)を求める計算式と、その導出の概略を説明せよ。<!-- 2(2) -->"
      ]
    },
    {
      "cell_type": "markdown",
      "metadata": {
        "id": "sXlvBt1_0eaV"
      },
      "source": []
    },
    {
      "cell_type": "markdown",
      "metadata": {
        "id": "wJ5fsqN19Pgg"
      },
      "source": [
        "(3) (1)の結果と(2)の計算式を用い、計画行列$\\pmb{X}$の疑似逆行列を求め、その結果から\n",
        "\n",
        "\\begin{align}\n",
        "\\lVert \\pmb{X}\\pmb{w} - \\pmb{y} \\rVert^2\n",
        "\\end{align}\n",
        "\n",
        "を最小にする$\\pmb{w}$、すなわち回帰係数を求め、その値を示せ（単回帰の時に求めた値と同じになることを確認せよ）。<!-- 2(3) -->"
      ]
    },
    {
      "cell_type": "code",
      "execution_count": null,
      "metadata": {
        "id": "tQeK9mj5BPR6"
      },
      "outputs": [],
      "source": []
    }
  ],
  "metadata": {
    "colab": {
      "collapsed_sections": [],
      "name": "ml2021-r5.ipynb",
      "provenance": []
    },
    "kernelspec": {
      "display_name": "Python 3",
      "name": "python3"
    },
    "language_info": {
      "name": "python"
    }
  },
  "nbformat": 4,
  "nbformat_minor": 0
}
