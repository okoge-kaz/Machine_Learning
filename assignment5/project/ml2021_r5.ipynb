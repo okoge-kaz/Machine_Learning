{
  "cells": [
    {
      "cell_type": "markdown",
      "metadata": {
        "id": "QweE-gyBzTzQ"
      },
      "source": [
        "# 機械学習 課題5\n",
        "\n",
        "※ セルを増やしても構いませんが、すでに書かれているセルの内容を変更しないで下さい。"
      ]
    },
    {
      "cell_type": "markdown",
      "metadata": {
        "id": "NsZkda_OzIMO"
      },
      "source": [
        "## 1. 特異値分解\n",
        "\n",
        "特異値分解（singular value decomposition）について調べて説明せよ。さらに、主成分分析と特異値分解との違いや関連性について説明せよ。<!-- 1 -->"
      ]
    },
    {
      "cell_type": "markdown",
      "metadata": {
        "id": "_C92CQp7zM0c"
      },
      "source": [
        "特異値分解とは、$m\\times n$行列$\\pmb{A}$を$\\pmb{A} = \\pmb{U} \\pmb{\\Sigma} \\pmb{V}^{\\top}$と分解すること。\n",
        "\n",
        "ただし、$\\pmb{U}$は$m \\times m$の直行行列、$\\pmb{V}$は$n \\times n$の直行行列である。"
      ]
    },
    {
      "cell_type": "markdown",
      "metadata": {},
      "source": []
    },
    {
      "cell_type": "markdown",
      "metadata": {
        "id": "z6f4E8GtzOPl"
      },
      "source": [
        "## 2. 特異値分解と最小二乗法\n",
        "\n",
        "単回帰や重回帰の講義で例として用いた計画行列$\\pmb{X}$と目的変数ベクトル$\\pmb{y}$を考える。\n",
        "$$\n",
        "\\begin{align}\n",
        "\\pmb{X} = \\begin{pmatrix}\n",
        "1 & 1 \\\\\n",
        "1 & 3 \\\\\n",
        "1 & 6 \\\\\n",
        "1 & 8\n",
        "\\end{pmatrix},\n",
        "\\pmb{y} = \\begin{pmatrix}\n",
        "3 \\\\ 6 \\\\ 5 \\\\ 7\n",
        "\\end{pmatrix}\n",
        "\\end{align}\n",
        "$$"
      ]
    },
    {
      "cell_type": "markdown",
      "metadata": {
        "id": "s1iVL7xc0hN8"
      },
      "source": [
        "(1) [numpy.linalg.svd](https://numpy.org/doc/stable/reference/generated/numpy.linalg.svd.html)などの関数を用い、計画行列$\\pmb{X}$の特異値分解、\n",
        "\n",
        "\\begin{align}\n",
        "\\pmb{X} = \\pmb{U} \\pmb{\\Sigma} \\pmb{V}^\\top\n",
        "\\end{align}\n",
        "\n",
        "を求め、$\\pmb{U}$, $\\pmb{\\Sigma}$, $\\pmb{V}$を用いて$\\pmb{X}$を再構成できることを表示・確認せよ（求めた$\\pmb{U}$, $\\pmb{\\Sigma}$, $\\pmb{V}$を表示する必要はない）。<!-- 2(1) -->"
      ]
    },
    {
      "cell_type": "code",
      "execution_count": 23,
      "metadata": {
        "id": "IOlvGW77BNh5"
      },
      "outputs": [
        {
          "data": {
            "text/plain": [
              "array([[1., 1.],\n",
              "       [1., 3.],\n",
              "       [1., 6.],\n",
              "       [1., 8.]])"
            ]
          },
          "execution_count": 23,
          "metadata": {},
          "output_type": "execute_result"
        }
      ],
      "source": [
        "import numpy as np\n",
        "\n",
        "X = np.array([[1, 1],[1, 3],[1, 6],[1, 8]])\n",
        "y = np.array([[3],[6],[5],[7]])\n",
        "\n",
        "U, s, V = np.linalg.svd(X, full_matrices=True)\n",
        "\n",
        "U_column_size ,V_row_size = U.shape[1], V.shape[0]\n",
        "smat = np.zeros((U_column_size, V_row_size), dtype=np.float64)\n",
        "\n",
        "s_size = len(s)\n",
        "smat[:s_size ,:s_size] = np.diag(s)\n",
        "\n",
        "U @ smat @ V.T"
      ]
    },
    {
      "cell_type": "code",
      "execution_count": 24,
      "metadata": {},
      "outputs": [
        {
          "data": {
            "text/plain": [
              "True"
            ]
          },
          "execution_count": 24,
          "metadata": {},
          "output_type": "execute_result"
        }
      ],
      "source": [
        "np.allclose(X, U @ smat @ V.T)"
      ]
    },
    {
      "cell_type": "markdown",
      "metadata": {
        "id": "nYCHLQcd5tyj"
      },
      "source": [
        "(2) 特異値分解に基づいて、[ムーア・ペンローズの擬似逆行列（一般化逆行列）](https://ja.wikipedia.org/wiki/%E6%93%AC%E4%BC%BC%E9%80%86%E8%A1%8C%E5%88%97)を求める計算式と、その導出の概略を説明せよ。<!-- 2(2) -->"
      ]
    },
    {
      "cell_type": "markdown",
      "metadata": {
        "id": "sXlvBt1_0eaV"
      },
      "source": [
        "行列$\\pmb{A}$の擬似逆行列$\\pmb{A}^{+}$は$\\pmb{A} = \\pmb{U} \\pmb{\\Sigma} \\pmb{V}^\\top$を用いて\n",
        "$$\\pmb{A}^{+} = \\pmb{V} \\pmb{\\Sigma}^{+} \\pmb{U}^\\top$$\n",
        "で求められる。"
      ]
    },
    {
      "cell_type": "markdown",
      "metadata": {},
      "source": [
        "これは、$\\pmb{V}, \\pmb{U}$は直行行列であり、$\\pmb{U}^\\top = \\pmb{U}^{-1}, \\pmb{V}^\\top = \\pmb{V}^{-1}$が成立する.\n",
        "\n",
        "$A^{+}$とは、$A A^{+} A = A$が成立するので、上記のようにおくと$\\pmb{A} \\pmb{A}^{+} \\pmb{A} = \\pmb{U} \\pmb{\\Sigma} \\pmb{V}^{\\top} \\pmb{V}  \\pmb{\\Sigma}^{+} \\pmb{U}^{\\top} \\pmb{A} = \\pmb{U} \\pmb{\\Sigma} \\pmb{E}  \\pmb{\\Sigma}^{+} \\pmb{U}^{\\top} \\pmb{A} = \\pmb{U} \\pmb{U}^{\\top} \\pmb{A} = \\pmb{E} \\pmb{A} = \\pmb{A}$が成立するので、擬似逆行列が以上ように表せることがわかる。"
      ]
    },
    {
      "cell_type": "markdown",
      "metadata": {
        "id": "wJ5fsqN19Pgg"
      },
      "source": [
        "(3) (1)の結果と(2)の計算式を用い、計画行列$\\pmb{X}$の疑似逆行列を求め、その結果から\n",
        "\n",
        "\\begin{align}\n",
        "\\lVert \\pmb{X}\\pmb{w} - \\pmb{y} \\rVert^2\n",
        "\\end{align}\n",
        "\n",
        "を最小にする$\\pmb{w}$、すなわち回帰係数を求め、その値を示せ（単回帰の時に求めた値と同じになることを確認せよ）。<!-- 2(3) -->"
      ]
    },
    {
      "cell_type": "code",
      "execution_count": 35,
      "metadata": {
        "id": "tQeK9mj5BPR6"
      },
      "outputs": [
        {
          "data": {
            "text/plain": [
              "True"
            ]
          },
          "execution_count": 35,
          "metadata": {},
          "output_type": "execute_result"
        }
      ],
      "source": [
        "import numpy as np\n",
        "from sklearn.linear_model import LinearRegression\n",
        "\n",
        "pseudo_inverse_by_np = np.linalg.pinv(X)\n",
        "smat_inverse = np.zeros((V_row_size, U_column_size), dtype=np.float64)\n",
        "s_size = len(s)\n",
        "smat_inverse[:s_size ,:s_size] = np.diag(1/s)\n",
        "pseudo_inverse = V @ smat_inverse @ U.T\n",
        "\n",
        "np.allclose(pseudo_inverse_by_np, pseudo_inverse) # True : np.linalg.pinv(X) == V @ smat_inverse @ U.T"
      ]
    },
    {
      "cell_type": "code",
      "execution_count": 34,
      "metadata": {},
      "outputs": [
        {
          "data": {
            "text/plain": [
              "array([[0.        , 0.43103448]])"
            ]
          },
          "execution_count": 34,
          "metadata": {},
          "output_type": "execute_result"
        }
      ],
      "source": [
        "regression = LinearRegression()\n",
        "regression.fit(X, y)\n",
        "regression.coef_"
      ]
    },
    {
      "cell_type": "code",
      "execution_count": 36,
      "metadata": {},
      "outputs": [
        {
          "data": {
            "text/plain": [
              "array([[3.31034483],\n",
              "       [0.43103448]])"
            ]
          },
          "execution_count": 36,
          "metadata": {},
          "output_type": "execute_result"
        }
      ],
      "source": [
        "w = pseudo_inverse @ y\n",
        "w"
      ]
    },
    {
      "cell_type": "markdown",
      "metadata": {},
      "source": [
        "一致していない..."
      ]
    }
  ],
  "metadata": {
    "colab": {
      "collapsed_sections": [],
      "name": "ml2021-r5.ipynb",
      "provenance": []
    },
    "kernelspec": {
      "display_name": "Python 3",
      "name": "python3"
    },
    "language_info": {
      "codemirror_mode": {
        "name": "ipython",
        "version": 3
      },
      "file_extension": ".py",
      "mimetype": "text/x-python",
      "name": "python",
      "nbconvert_exporter": "python",
      "pygments_lexer": "ipython3",
      "version": "3.9.10"
    }
  },
  "nbformat": 4,
  "nbformat_minor": 0
}
